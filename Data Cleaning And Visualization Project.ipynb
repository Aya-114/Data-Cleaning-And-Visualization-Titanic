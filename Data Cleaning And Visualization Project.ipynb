{
 "cells": [
  {
   "cell_type": "code",
   "execution_count": 1,
   "id": "c8371aae",
   "metadata": {},
   "outputs": [
    {
     "data": {
      "text/html": [
       "<div>\n",
       "<style scoped>\n",
       "    .dataframe tbody tr th:only-of-type {\n",
       "        vertical-align: middle;\n",
       "    }\n",
       "\n",
       "    .dataframe tbody tr th {\n",
       "        vertical-align: top;\n",
       "    }\n",
       "\n",
       "    .dataframe thead th {\n",
       "        text-align: right;\n",
       "    }\n",
       "</style>\n",
       "<table border=\"1\" class=\"dataframe\">\n",
       "  <thead>\n",
       "    <tr style=\"text-align: right;\">\n",
       "      <th></th>\n",
       "      <th>PassengerId</th>\n",
       "      <th>Survived</th>\n",
       "      <th>Pclass</th>\n",
       "      <th>Name</th>\n",
       "      <th>Sex</th>\n",
       "      <th>Age</th>\n",
       "      <th>SibSp</th>\n",
       "      <th>Parch</th>\n",
       "      <th>Ticket</th>\n",
       "      <th>Fare</th>\n",
       "      <th>Cabin</th>\n",
       "      <th>Embarked</th>\n",
       "    </tr>\n",
       "  </thead>\n",
       "  <tbody>\n",
       "    <tr>\n",
       "      <th>0</th>\n",
       "      <td>892</td>\n",
       "      <td>0</td>\n",
       "      <td>3</td>\n",
       "      <td>Kelly, Mr. James</td>\n",
       "      <td>male</td>\n",
       "      <td>34.5</td>\n",
       "      <td>0</td>\n",
       "      <td>0</td>\n",
       "      <td>330911</td>\n",
       "      <td>7.8292</td>\n",
       "      <td>NaN</td>\n",
       "      <td>Q</td>\n",
       "    </tr>\n",
       "    <tr>\n",
       "      <th>1</th>\n",
       "      <td>893</td>\n",
       "      <td>1</td>\n",
       "      <td>3</td>\n",
       "      <td>Wilkes, Mrs. James (Ellen Needs)</td>\n",
       "      <td>female</td>\n",
       "      <td>47.0</td>\n",
       "      <td>1</td>\n",
       "      <td>0</td>\n",
       "      <td>363272</td>\n",
       "      <td>7.0000</td>\n",
       "      <td>NaN</td>\n",
       "      <td>S</td>\n",
       "    </tr>\n",
       "    <tr>\n",
       "      <th>2</th>\n",
       "      <td>894</td>\n",
       "      <td>0</td>\n",
       "      <td>2</td>\n",
       "      <td>Myles, Mr. Thomas Francis</td>\n",
       "      <td>male</td>\n",
       "      <td>62.0</td>\n",
       "      <td>0</td>\n",
       "      <td>0</td>\n",
       "      <td>240276</td>\n",
       "      <td>9.6875</td>\n",
       "      <td>NaN</td>\n",
       "      <td>Q</td>\n",
       "    </tr>\n",
       "    <tr>\n",
       "      <th>3</th>\n",
       "      <td>895</td>\n",
       "      <td>0</td>\n",
       "      <td>3</td>\n",
       "      <td>Wirz, Mr. Albert</td>\n",
       "      <td>male</td>\n",
       "      <td>27.0</td>\n",
       "      <td>0</td>\n",
       "      <td>0</td>\n",
       "      <td>315154</td>\n",
       "      <td>8.6625</td>\n",
       "      <td>NaN</td>\n",
       "      <td>S</td>\n",
       "    </tr>\n",
       "    <tr>\n",
       "      <th>4</th>\n",
       "      <td>896</td>\n",
       "      <td>1</td>\n",
       "      <td>3</td>\n",
       "      <td>Hirvonen, Mrs. Alexander (Helga E Lindqvist)</td>\n",
       "      <td>female</td>\n",
       "      <td>22.0</td>\n",
       "      <td>1</td>\n",
       "      <td>1</td>\n",
       "      <td>3101298</td>\n",
       "      <td>12.2875</td>\n",
       "      <td>NaN</td>\n",
       "      <td>S</td>\n",
       "    </tr>\n",
       "    <tr>\n",
       "      <th>...</th>\n",
       "      <td>...</td>\n",
       "      <td>...</td>\n",
       "      <td>...</td>\n",
       "      <td>...</td>\n",
       "      <td>...</td>\n",
       "      <td>...</td>\n",
       "      <td>...</td>\n",
       "      <td>...</td>\n",
       "      <td>...</td>\n",
       "      <td>...</td>\n",
       "      <td>...</td>\n",
       "      <td>...</td>\n",
       "    </tr>\n",
       "    <tr>\n",
       "      <th>413</th>\n",
       "      <td>1305</td>\n",
       "      <td>0</td>\n",
       "      <td>3</td>\n",
       "      <td>Spector, Mr. Woolf</td>\n",
       "      <td>male</td>\n",
       "      <td>NaN</td>\n",
       "      <td>0</td>\n",
       "      <td>0</td>\n",
       "      <td>A.5. 3236</td>\n",
       "      <td>8.0500</td>\n",
       "      <td>NaN</td>\n",
       "      <td>S</td>\n",
       "    </tr>\n",
       "    <tr>\n",
       "      <th>414</th>\n",
       "      <td>1306</td>\n",
       "      <td>1</td>\n",
       "      <td>1</td>\n",
       "      <td>Oliva y Ocana, Dona. Fermina</td>\n",
       "      <td>female</td>\n",
       "      <td>39.0</td>\n",
       "      <td>0</td>\n",
       "      <td>0</td>\n",
       "      <td>PC 17758</td>\n",
       "      <td>108.9000</td>\n",
       "      <td>C105</td>\n",
       "      <td>C</td>\n",
       "    </tr>\n",
       "    <tr>\n",
       "      <th>415</th>\n",
       "      <td>1307</td>\n",
       "      <td>0</td>\n",
       "      <td>3</td>\n",
       "      <td>Saether, Mr. Simon Sivertsen</td>\n",
       "      <td>male</td>\n",
       "      <td>38.5</td>\n",
       "      <td>0</td>\n",
       "      <td>0</td>\n",
       "      <td>SOTON/O.Q. 3101262</td>\n",
       "      <td>7.2500</td>\n",
       "      <td>NaN</td>\n",
       "      <td>S</td>\n",
       "    </tr>\n",
       "    <tr>\n",
       "      <th>416</th>\n",
       "      <td>1308</td>\n",
       "      <td>0</td>\n",
       "      <td>3</td>\n",
       "      <td>Ware, Mr. Frederick</td>\n",
       "      <td>male</td>\n",
       "      <td>NaN</td>\n",
       "      <td>0</td>\n",
       "      <td>0</td>\n",
       "      <td>359309</td>\n",
       "      <td>8.0500</td>\n",
       "      <td>NaN</td>\n",
       "      <td>S</td>\n",
       "    </tr>\n",
       "    <tr>\n",
       "      <th>417</th>\n",
       "      <td>1309</td>\n",
       "      <td>0</td>\n",
       "      <td>3</td>\n",
       "      <td>Peter, Master. Michael J</td>\n",
       "      <td>male</td>\n",
       "      <td>NaN</td>\n",
       "      <td>1</td>\n",
       "      <td>1</td>\n",
       "      <td>2668</td>\n",
       "      <td>22.3583</td>\n",
       "      <td>NaN</td>\n",
       "      <td>C</td>\n",
       "    </tr>\n",
       "  </tbody>\n",
       "</table>\n",
       "<p>418 rows × 12 columns</p>\n",
       "</div>"
      ],
      "text/plain": [
       "     PassengerId  Survived  Pclass  \\\n",
       "0            892         0       3   \n",
       "1            893         1       3   \n",
       "2            894         0       2   \n",
       "3            895         0       3   \n",
       "4            896         1       3   \n",
       "..           ...       ...     ...   \n",
       "413         1305         0       3   \n",
       "414         1306         1       1   \n",
       "415         1307         0       3   \n",
       "416         1308         0       3   \n",
       "417         1309         0       3   \n",
       "\n",
       "                                             Name     Sex   Age  SibSp  Parch  \\\n",
       "0                                Kelly, Mr. James    male  34.5      0      0   \n",
       "1                Wilkes, Mrs. James (Ellen Needs)  female  47.0      1      0   \n",
       "2                       Myles, Mr. Thomas Francis    male  62.0      0      0   \n",
       "3                                Wirz, Mr. Albert    male  27.0      0      0   \n",
       "4    Hirvonen, Mrs. Alexander (Helga E Lindqvist)  female  22.0      1      1   \n",
       "..                                            ...     ...   ...    ...    ...   \n",
       "413                            Spector, Mr. Woolf    male   NaN      0      0   \n",
       "414                  Oliva y Ocana, Dona. Fermina  female  39.0      0      0   \n",
       "415                  Saether, Mr. Simon Sivertsen    male  38.5      0      0   \n",
       "416                           Ware, Mr. Frederick    male   NaN      0      0   \n",
       "417                      Peter, Master. Michael J    male   NaN      1      1   \n",
       "\n",
       "                 Ticket      Fare Cabin Embarked  \n",
       "0                330911    7.8292   NaN        Q  \n",
       "1                363272    7.0000   NaN        S  \n",
       "2                240276    9.6875   NaN        Q  \n",
       "3                315154    8.6625   NaN        S  \n",
       "4               3101298   12.2875   NaN        S  \n",
       "..                  ...       ...   ...      ...  \n",
       "413           A.5. 3236    8.0500   NaN        S  \n",
       "414            PC 17758  108.9000  C105        C  \n",
       "415  SOTON/O.Q. 3101262    7.2500   NaN        S  \n",
       "416              359309    8.0500   NaN        S  \n",
       "417                2668   22.3583   NaN        C  \n",
       "\n",
       "[418 rows x 12 columns]"
      ]
     },
     "execution_count": 1,
     "metadata": {},
     "output_type": "execute_result"
    }
   ],
   "source": [
    "import pandas as pd\n",
    "import numpy as np\n",
    "import dash\n",
    "from dash import dcc, html\n",
    "import plotly.express as px\n",
    "df = pd.read_csv('Titanic.csv')\n",
    "df"
   ]
  },
  {
   "cell_type": "markdown",
   "id": "180ebd45",
   "metadata": {},
   "source": [
    "Q_1: Split the Titanic DataFrame df into two parts: df1 (first 500 rows) and df2 (remaining rows). Concatenate them vertically to recreate the original DataFrame."
   ]
  },
  {
   "cell_type": "code",
   "execution_count": 2,
   "id": "1d3e489f",
   "metadata": {},
   "outputs": [],
   "source": [
    "df1=df.iloc[:209] #the data set only has 418 rows i cant split it into two parts: df1 (first 500 rows)\n",
    "df2=df.iloc[209:]"
   ]
  },
  {
   "cell_type": "code",
   "execution_count": 3,
   "id": "d0e05208",
   "metadata": {},
   "outputs": [
    {
     "name": "stdout",
     "output_type": "stream",
     "text": [
      "(209, 12)\n",
      "(209, 12)\n"
     ]
    }
   ],
   "source": [
    "print(df1.shape)\n",
    "print(df2.shape)"
   ]
  },
  {
   "cell_type": "code",
   "execution_count": 4,
   "id": "1bc14c30",
   "metadata": {},
   "outputs": [
    {
     "data": {
      "text/html": [
       "<div>\n",
       "<style scoped>\n",
       "    .dataframe tbody tr th:only-of-type {\n",
       "        vertical-align: middle;\n",
       "    }\n",
       "\n",
       "    .dataframe tbody tr th {\n",
       "        vertical-align: top;\n",
       "    }\n",
       "\n",
       "    .dataframe thead th {\n",
       "        text-align: right;\n",
       "    }\n",
       "</style>\n",
       "<table border=\"1\" class=\"dataframe\">\n",
       "  <thead>\n",
       "    <tr style=\"text-align: right;\">\n",
       "      <th></th>\n",
       "      <th>PassengerId</th>\n",
       "      <th>Survived</th>\n",
       "      <th>Pclass</th>\n",
       "      <th>Name</th>\n",
       "      <th>Sex</th>\n",
       "      <th>Age</th>\n",
       "      <th>SibSp</th>\n",
       "      <th>Parch</th>\n",
       "      <th>Ticket</th>\n",
       "      <th>Fare</th>\n",
       "      <th>Cabin</th>\n",
       "      <th>Embarked</th>\n",
       "    </tr>\n",
       "  </thead>\n",
       "  <tbody>\n",
       "    <tr>\n",
       "      <th>0</th>\n",
       "      <td>892</td>\n",
       "      <td>0</td>\n",
       "      <td>3</td>\n",
       "      <td>Kelly, Mr. James</td>\n",
       "      <td>male</td>\n",
       "      <td>34.5</td>\n",
       "      <td>0</td>\n",
       "      <td>0</td>\n",
       "      <td>330911</td>\n",
       "      <td>7.8292</td>\n",
       "      <td>NaN</td>\n",
       "      <td>Q</td>\n",
       "    </tr>\n",
       "    <tr>\n",
       "      <th>1</th>\n",
       "      <td>893</td>\n",
       "      <td>1</td>\n",
       "      <td>3</td>\n",
       "      <td>Wilkes, Mrs. James (Ellen Needs)</td>\n",
       "      <td>female</td>\n",
       "      <td>47.0</td>\n",
       "      <td>1</td>\n",
       "      <td>0</td>\n",
       "      <td>363272</td>\n",
       "      <td>7.0000</td>\n",
       "      <td>NaN</td>\n",
       "      <td>S</td>\n",
       "    </tr>\n",
       "    <tr>\n",
       "      <th>2</th>\n",
       "      <td>894</td>\n",
       "      <td>0</td>\n",
       "      <td>2</td>\n",
       "      <td>Myles, Mr. Thomas Francis</td>\n",
       "      <td>male</td>\n",
       "      <td>62.0</td>\n",
       "      <td>0</td>\n",
       "      <td>0</td>\n",
       "      <td>240276</td>\n",
       "      <td>9.6875</td>\n",
       "      <td>NaN</td>\n",
       "      <td>Q</td>\n",
       "    </tr>\n",
       "    <tr>\n",
       "      <th>3</th>\n",
       "      <td>895</td>\n",
       "      <td>0</td>\n",
       "      <td>3</td>\n",
       "      <td>Wirz, Mr. Albert</td>\n",
       "      <td>male</td>\n",
       "      <td>27.0</td>\n",
       "      <td>0</td>\n",
       "      <td>0</td>\n",
       "      <td>315154</td>\n",
       "      <td>8.6625</td>\n",
       "      <td>NaN</td>\n",
       "      <td>S</td>\n",
       "    </tr>\n",
       "    <tr>\n",
       "      <th>4</th>\n",
       "      <td>896</td>\n",
       "      <td>1</td>\n",
       "      <td>3</td>\n",
       "      <td>Hirvonen, Mrs. Alexander (Helga E Lindqvist)</td>\n",
       "      <td>female</td>\n",
       "      <td>22.0</td>\n",
       "      <td>1</td>\n",
       "      <td>1</td>\n",
       "      <td>3101298</td>\n",
       "      <td>12.2875</td>\n",
       "      <td>NaN</td>\n",
       "      <td>S</td>\n",
       "    </tr>\n",
       "    <tr>\n",
       "      <th>...</th>\n",
       "      <td>...</td>\n",
       "      <td>...</td>\n",
       "      <td>...</td>\n",
       "      <td>...</td>\n",
       "      <td>...</td>\n",
       "      <td>...</td>\n",
       "      <td>...</td>\n",
       "      <td>...</td>\n",
       "      <td>...</td>\n",
       "      <td>...</td>\n",
       "      <td>...</td>\n",
       "      <td>...</td>\n",
       "    </tr>\n",
       "    <tr>\n",
       "      <th>413</th>\n",
       "      <td>1305</td>\n",
       "      <td>0</td>\n",
       "      <td>3</td>\n",
       "      <td>Spector, Mr. Woolf</td>\n",
       "      <td>male</td>\n",
       "      <td>NaN</td>\n",
       "      <td>0</td>\n",
       "      <td>0</td>\n",
       "      <td>A.5. 3236</td>\n",
       "      <td>8.0500</td>\n",
       "      <td>NaN</td>\n",
       "      <td>S</td>\n",
       "    </tr>\n",
       "    <tr>\n",
       "      <th>414</th>\n",
       "      <td>1306</td>\n",
       "      <td>1</td>\n",
       "      <td>1</td>\n",
       "      <td>Oliva y Ocana, Dona. Fermina</td>\n",
       "      <td>female</td>\n",
       "      <td>39.0</td>\n",
       "      <td>0</td>\n",
       "      <td>0</td>\n",
       "      <td>PC 17758</td>\n",
       "      <td>108.9000</td>\n",
       "      <td>C105</td>\n",
       "      <td>C</td>\n",
       "    </tr>\n",
       "    <tr>\n",
       "      <th>415</th>\n",
       "      <td>1307</td>\n",
       "      <td>0</td>\n",
       "      <td>3</td>\n",
       "      <td>Saether, Mr. Simon Sivertsen</td>\n",
       "      <td>male</td>\n",
       "      <td>38.5</td>\n",
       "      <td>0</td>\n",
       "      <td>0</td>\n",
       "      <td>SOTON/O.Q. 3101262</td>\n",
       "      <td>7.2500</td>\n",
       "      <td>NaN</td>\n",
       "      <td>S</td>\n",
       "    </tr>\n",
       "    <tr>\n",
       "      <th>416</th>\n",
       "      <td>1308</td>\n",
       "      <td>0</td>\n",
       "      <td>3</td>\n",
       "      <td>Ware, Mr. Frederick</td>\n",
       "      <td>male</td>\n",
       "      <td>NaN</td>\n",
       "      <td>0</td>\n",
       "      <td>0</td>\n",
       "      <td>359309</td>\n",
       "      <td>8.0500</td>\n",
       "      <td>NaN</td>\n",
       "      <td>S</td>\n",
       "    </tr>\n",
       "    <tr>\n",
       "      <th>417</th>\n",
       "      <td>1309</td>\n",
       "      <td>0</td>\n",
       "      <td>3</td>\n",
       "      <td>Peter, Master. Michael J</td>\n",
       "      <td>male</td>\n",
       "      <td>NaN</td>\n",
       "      <td>1</td>\n",
       "      <td>1</td>\n",
       "      <td>2668</td>\n",
       "      <td>22.3583</td>\n",
       "      <td>NaN</td>\n",
       "      <td>C</td>\n",
       "    </tr>\n",
       "  </tbody>\n",
       "</table>\n",
       "<p>418 rows × 12 columns</p>\n",
       "</div>"
      ],
      "text/plain": [
       "     PassengerId  Survived  Pclass  \\\n",
       "0            892         0       3   \n",
       "1            893         1       3   \n",
       "2            894         0       2   \n",
       "3            895         0       3   \n",
       "4            896         1       3   \n",
       "..           ...       ...     ...   \n",
       "413         1305         0       3   \n",
       "414         1306         1       1   \n",
       "415         1307         0       3   \n",
       "416         1308         0       3   \n",
       "417         1309         0       3   \n",
       "\n",
       "                                             Name     Sex   Age  SibSp  Parch  \\\n",
       "0                                Kelly, Mr. James    male  34.5      0      0   \n",
       "1                Wilkes, Mrs. James (Ellen Needs)  female  47.0      1      0   \n",
       "2                       Myles, Mr. Thomas Francis    male  62.0      0      0   \n",
       "3                                Wirz, Mr. Albert    male  27.0      0      0   \n",
       "4    Hirvonen, Mrs. Alexander (Helga E Lindqvist)  female  22.0      1      1   \n",
       "..                                            ...     ...   ...    ...    ...   \n",
       "413                            Spector, Mr. Woolf    male   NaN      0      0   \n",
       "414                  Oliva y Ocana, Dona. Fermina  female  39.0      0      0   \n",
       "415                  Saether, Mr. Simon Sivertsen    male  38.5      0      0   \n",
       "416                           Ware, Mr. Frederick    male   NaN      0      0   \n",
       "417                      Peter, Master. Michael J    male   NaN      1      1   \n",
       "\n",
       "                 Ticket      Fare Cabin Embarked  \n",
       "0                330911    7.8292   NaN        Q  \n",
       "1                363272    7.0000   NaN        S  \n",
       "2                240276    9.6875   NaN        Q  \n",
       "3                315154    8.6625   NaN        S  \n",
       "4               3101298   12.2875   NaN        S  \n",
       "..                  ...       ...   ...      ...  \n",
       "413           A.5. 3236    8.0500   NaN        S  \n",
       "414            PC 17758  108.9000  C105        C  \n",
       "415  SOTON/O.Q. 3101262    7.2500   NaN        S  \n",
       "416              359309    8.0500   NaN        S  \n",
       "417                2668   22.3583   NaN        C  \n",
       "\n",
       "[418 rows x 12 columns]"
      ]
     },
     "execution_count": 4,
     "metadata": {},
     "output_type": "execute_result"
    }
   ],
   "source": [
    "df_main=pd.concat([df1,df2], axis=0)\n",
    "df_main"
   ]
  },
  {
   "cell_type": "markdown",
   "id": "fa5f9e52",
   "metadata": {},
   "source": [
    "Q_2: Create a new DataFrame passenger_details with columns PassengerId and Nationality. Perform a left join to merge it with df, keeping all original passengers."
   ]
  },
  {
   "cell_type": "code",
   "execution_count": 5,
   "id": "d7b64a64",
   "metadata": {},
   "outputs": [
    {
     "name": "stdout",
     "output_type": "stream",
     "text": [
      "<class 'pandas.core.frame.DataFrame'>\n",
      "RangeIndex: 418 entries, 0 to 417\n",
      "Data columns (total 12 columns):\n",
      " #   Column       Non-Null Count  Dtype  \n",
      "---  ------       --------------  -----  \n",
      " 0   PassengerId  418 non-null    int64  \n",
      " 1   Survived     418 non-null    int64  \n",
      " 2   Pclass       418 non-null    int64  \n",
      " 3   Name         418 non-null    object \n",
      " 4   Sex          418 non-null    object \n",
      " 5   Age          332 non-null    float64\n",
      " 6   SibSp        418 non-null    int64  \n",
      " 7   Parch        418 non-null    int64  \n",
      " 8   Ticket       418 non-null    object \n",
      " 9   Fare         417 non-null    float64\n",
      " 10  Cabin        91 non-null     object \n",
      " 11  Embarked     418 non-null    object \n",
      "dtypes: float64(2), int64(5), object(5)\n",
      "memory usage: 39.3+ KB\n"
     ]
    }
   ],
   "source": [
    "df_main.info()"
   ]
  },
  {
   "cell_type": "code",
   "execution_count": 6,
   "id": "1a8883bb",
   "metadata": {},
   "outputs": [
    {
     "data": {
      "text/html": [
       "<div>\n",
       "<style scoped>\n",
       "    .dataframe tbody tr th:only-of-type {\n",
       "        vertical-align: middle;\n",
       "    }\n",
       "\n",
       "    .dataframe tbody tr th {\n",
       "        vertical-align: top;\n",
       "    }\n",
       "\n",
       "    .dataframe thead th {\n",
       "        text-align: right;\n",
       "    }\n",
       "</style>\n",
       "<table border=\"1\" class=\"dataframe\">\n",
       "  <thead>\n",
       "    <tr style=\"text-align: right;\">\n",
       "      <th></th>\n",
       "      <th>PassengerId</th>\n",
       "      <th>Nationality</th>\n",
       "    </tr>\n",
       "  </thead>\n",
       "  <tbody>\n",
       "    <tr>\n",
       "      <th>0</th>\n",
       "      <td>892</td>\n",
       "      <td>USA</td>\n",
       "    </tr>\n",
       "    <tr>\n",
       "      <th>1</th>\n",
       "      <td>893</td>\n",
       "      <td>UK</td>\n",
       "    </tr>\n",
       "    <tr>\n",
       "      <th>2</th>\n",
       "      <td>894</td>\n",
       "      <td>France</td>\n",
       "    </tr>\n",
       "    <tr>\n",
       "      <th>3</th>\n",
       "      <td>895</td>\n",
       "      <td>Germany</td>\n",
       "    </tr>\n",
       "    <tr>\n",
       "      <th>4</th>\n",
       "      <td>896</td>\n",
       "      <td>USA</td>\n",
       "    </tr>\n",
       "    <tr>\n",
       "      <th>...</th>\n",
       "      <td>...</td>\n",
       "      <td>...</td>\n",
       "    </tr>\n",
       "    <tr>\n",
       "      <th>413</th>\n",
       "      <td>1305</td>\n",
       "      <td>UK</td>\n",
       "    </tr>\n",
       "    <tr>\n",
       "      <th>414</th>\n",
       "      <td>1306</td>\n",
       "      <td>France</td>\n",
       "    </tr>\n",
       "    <tr>\n",
       "      <th>415</th>\n",
       "      <td>1307</td>\n",
       "      <td>Germany</td>\n",
       "    </tr>\n",
       "    <tr>\n",
       "      <th>416</th>\n",
       "      <td>1308</td>\n",
       "      <td>Italy</td>\n",
       "    </tr>\n",
       "    <tr>\n",
       "      <th>417</th>\n",
       "      <td>1309</td>\n",
       "      <td>Spain</td>\n",
       "    </tr>\n",
       "  </tbody>\n",
       "</table>\n",
       "<p>418 rows × 2 columns</p>\n",
       "</div>"
      ],
      "text/plain": [
       "     PassengerId Nationality\n",
       "0            892         USA\n",
       "1            893          UK\n",
       "2            894      France\n",
       "3            895     Germany\n",
       "4            896         USA\n",
       "..           ...         ...\n",
       "413         1305          UK\n",
       "414         1306      France\n",
       "415         1307     Germany\n",
       "416         1308       Italy\n",
       "417         1309       Spain\n",
       "\n",
       "[418 rows x 2 columns]"
      ]
     },
     "execution_count": 6,
     "metadata": {},
     "output_type": "execute_result"
    }
   ],
   "source": [
    "passenger_details=pd.DataFrame({\n",
    "    'PassengerId':df_main['PassengerId'],\n",
    "    'Nationality': ['USA', 'UK', 'France', 'Germany'] * 104 + ['Italy', 'Spain'] })\n",
    "passenger_details"
   ]
  },
  {
   "cell_type": "code",
   "execution_count": 7,
   "id": "1f251976",
   "metadata": {},
   "outputs": [
    {
     "data": {
      "text/html": [
       "<div>\n",
       "<style scoped>\n",
       "    .dataframe tbody tr th:only-of-type {\n",
       "        vertical-align: middle;\n",
       "    }\n",
       "\n",
       "    .dataframe tbody tr th {\n",
       "        vertical-align: top;\n",
       "    }\n",
       "\n",
       "    .dataframe thead th {\n",
       "        text-align: right;\n",
       "    }\n",
       "</style>\n",
       "<table border=\"1\" class=\"dataframe\">\n",
       "  <thead>\n",
       "    <tr style=\"text-align: right;\">\n",
       "      <th></th>\n",
       "      <th>PassengerId</th>\n",
       "      <th>Survived</th>\n",
       "      <th>Pclass</th>\n",
       "      <th>Name</th>\n",
       "      <th>Sex</th>\n",
       "      <th>Age</th>\n",
       "      <th>SibSp</th>\n",
       "      <th>Parch</th>\n",
       "      <th>Ticket</th>\n",
       "      <th>Fare</th>\n",
       "      <th>Cabin</th>\n",
       "      <th>Embarked</th>\n",
       "      <th>Nationality</th>\n",
       "    </tr>\n",
       "  </thead>\n",
       "  <tbody>\n",
       "    <tr>\n",
       "      <th>0</th>\n",
       "      <td>892</td>\n",
       "      <td>0</td>\n",
       "      <td>3</td>\n",
       "      <td>Kelly, Mr. James</td>\n",
       "      <td>male</td>\n",
       "      <td>34.5</td>\n",
       "      <td>0</td>\n",
       "      <td>0</td>\n",
       "      <td>330911</td>\n",
       "      <td>7.8292</td>\n",
       "      <td>NaN</td>\n",
       "      <td>Q</td>\n",
       "      <td>USA</td>\n",
       "    </tr>\n",
       "    <tr>\n",
       "      <th>1</th>\n",
       "      <td>893</td>\n",
       "      <td>1</td>\n",
       "      <td>3</td>\n",
       "      <td>Wilkes, Mrs. James (Ellen Needs)</td>\n",
       "      <td>female</td>\n",
       "      <td>47.0</td>\n",
       "      <td>1</td>\n",
       "      <td>0</td>\n",
       "      <td>363272</td>\n",
       "      <td>7.0000</td>\n",
       "      <td>NaN</td>\n",
       "      <td>S</td>\n",
       "      <td>UK</td>\n",
       "    </tr>\n",
       "    <tr>\n",
       "      <th>2</th>\n",
       "      <td>894</td>\n",
       "      <td>0</td>\n",
       "      <td>2</td>\n",
       "      <td>Myles, Mr. Thomas Francis</td>\n",
       "      <td>male</td>\n",
       "      <td>62.0</td>\n",
       "      <td>0</td>\n",
       "      <td>0</td>\n",
       "      <td>240276</td>\n",
       "      <td>9.6875</td>\n",
       "      <td>NaN</td>\n",
       "      <td>Q</td>\n",
       "      <td>France</td>\n",
       "    </tr>\n",
       "    <tr>\n",
       "      <th>3</th>\n",
       "      <td>895</td>\n",
       "      <td>0</td>\n",
       "      <td>3</td>\n",
       "      <td>Wirz, Mr. Albert</td>\n",
       "      <td>male</td>\n",
       "      <td>27.0</td>\n",
       "      <td>0</td>\n",
       "      <td>0</td>\n",
       "      <td>315154</td>\n",
       "      <td>8.6625</td>\n",
       "      <td>NaN</td>\n",
       "      <td>S</td>\n",
       "      <td>Germany</td>\n",
       "    </tr>\n",
       "    <tr>\n",
       "      <th>4</th>\n",
       "      <td>896</td>\n",
       "      <td>1</td>\n",
       "      <td>3</td>\n",
       "      <td>Hirvonen, Mrs. Alexander (Helga E Lindqvist)</td>\n",
       "      <td>female</td>\n",
       "      <td>22.0</td>\n",
       "      <td>1</td>\n",
       "      <td>1</td>\n",
       "      <td>3101298</td>\n",
       "      <td>12.2875</td>\n",
       "      <td>NaN</td>\n",
       "      <td>S</td>\n",
       "      <td>USA</td>\n",
       "    </tr>\n",
       "    <tr>\n",
       "      <th>...</th>\n",
       "      <td>...</td>\n",
       "      <td>...</td>\n",
       "      <td>...</td>\n",
       "      <td>...</td>\n",
       "      <td>...</td>\n",
       "      <td>...</td>\n",
       "      <td>...</td>\n",
       "      <td>...</td>\n",
       "      <td>...</td>\n",
       "      <td>...</td>\n",
       "      <td>...</td>\n",
       "      <td>...</td>\n",
       "      <td>...</td>\n",
       "    </tr>\n",
       "    <tr>\n",
       "      <th>413</th>\n",
       "      <td>1305</td>\n",
       "      <td>0</td>\n",
       "      <td>3</td>\n",
       "      <td>Spector, Mr. Woolf</td>\n",
       "      <td>male</td>\n",
       "      <td>NaN</td>\n",
       "      <td>0</td>\n",
       "      <td>0</td>\n",
       "      <td>A.5. 3236</td>\n",
       "      <td>8.0500</td>\n",
       "      <td>NaN</td>\n",
       "      <td>S</td>\n",
       "      <td>UK</td>\n",
       "    </tr>\n",
       "    <tr>\n",
       "      <th>414</th>\n",
       "      <td>1306</td>\n",
       "      <td>1</td>\n",
       "      <td>1</td>\n",
       "      <td>Oliva y Ocana, Dona. Fermina</td>\n",
       "      <td>female</td>\n",
       "      <td>39.0</td>\n",
       "      <td>0</td>\n",
       "      <td>0</td>\n",
       "      <td>PC 17758</td>\n",
       "      <td>108.9000</td>\n",
       "      <td>C105</td>\n",
       "      <td>C</td>\n",
       "      <td>France</td>\n",
       "    </tr>\n",
       "    <tr>\n",
       "      <th>415</th>\n",
       "      <td>1307</td>\n",
       "      <td>0</td>\n",
       "      <td>3</td>\n",
       "      <td>Saether, Mr. Simon Sivertsen</td>\n",
       "      <td>male</td>\n",
       "      <td>38.5</td>\n",
       "      <td>0</td>\n",
       "      <td>0</td>\n",
       "      <td>SOTON/O.Q. 3101262</td>\n",
       "      <td>7.2500</td>\n",
       "      <td>NaN</td>\n",
       "      <td>S</td>\n",
       "      <td>Germany</td>\n",
       "    </tr>\n",
       "    <tr>\n",
       "      <th>416</th>\n",
       "      <td>1308</td>\n",
       "      <td>0</td>\n",
       "      <td>3</td>\n",
       "      <td>Ware, Mr. Frederick</td>\n",
       "      <td>male</td>\n",
       "      <td>NaN</td>\n",
       "      <td>0</td>\n",
       "      <td>0</td>\n",
       "      <td>359309</td>\n",
       "      <td>8.0500</td>\n",
       "      <td>NaN</td>\n",
       "      <td>S</td>\n",
       "      <td>Italy</td>\n",
       "    </tr>\n",
       "    <tr>\n",
       "      <th>417</th>\n",
       "      <td>1309</td>\n",
       "      <td>0</td>\n",
       "      <td>3</td>\n",
       "      <td>Peter, Master. Michael J</td>\n",
       "      <td>male</td>\n",
       "      <td>NaN</td>\n",
       "      <td>1</td>\n",
       "      <td>1</td>\n",
       "      <td>2668</td>\n",
       "      <td>22.3583</td>\n",
       "      <td>NaN</td>\n",
       "      <td>C</td>\n",
       "      <td>Spain</td>\n",
       "    </tr>\n",
       "  </tbody>\n",
       "</table>\n",
       "<p>418 rows × 13 columns</p>\n",
       "</div>"
      ],
      "text/plain": [
       "     PassengerId  Survived  Pclass  \\\n",
       "0            892         0       3   \n",
       "1            893         1       3   \n",
       "2            894         0       2   \n",
       "3            895         0       3   \n",
       "4            896         1       3   \n",
       "..           ...       ...     ...   \n",
       "413         1305         0       3   \n",
       "414         1306         1       1   \n",
       "415         1307         0       3   \n",
       "416         1308         0       3   \n",
       "417         1309         0       3   \n",
       "\n",
       "                                             Name     Sex   Age  SibSp  Parch  \\\n",
       "0                                Kelly, Mr. James    male  34.5      0      0   \n",
       "1                Wilkes, Mrs. James (Ellen Needs)  female  47.0      1      0   \n",
       "2                       Myles, Mr. Thomas Francis    male  62.0      0      0   \n",
       "3                                Wirz, Mr. Albert    male  27.0      0      0   \n",
       "4    Hirvonen, Mrs. Alexander (Helga E Lindqvist)  female  22.0      1      1   \n",
       "..                                            ...     ...   ...    ...    ...   \n",
       "413                            Spector, Mr. Woolf    male   NaN      0      0   \n",
       "414                  Oliva y Ocana, Dona. Fermina  female  39.0      0      0   \n",
       "415                  Saether, Mr. Simon Sivertsen    male  38.5      0      0   \n",
       "416                           Ware, Mr. Frederick    male   NaN      0      0   \n",
       "417                      Peter, Master. Michael J    male   NaN      1      1   \n",
       "\n",
       "                 Ticket      Fare Cabin Embarked Nationality  \n",
       "0                330911    7.8292   NaN        Q         USA  \n",
       "1                363272    7.0000   NaN        S          UK  \n",
       "2                240276    9.6875   NaN        Q      France  \n",
       "3                315154    8.6625   NaN        S     Germany  \n",
       "4               3101298   12.2875   NaN        S         USA  \n",
       "..                  ...       ...   ...      ...         ...  \n",
       "413           A.5. 3236    8.0500   NaN        S          UK  \n",
       "414            PC 17758  108.9000  C105        C      France  \n",
       "415  SOTON/O.Q. 3101262    7.2500   NaN        S     Germany  \n",
       "416              359309    8.0500   NaN        S       Italy  \n",
       "417                2668   22.3583   NaN        C       Spain  \n",
       "\n",
       "[418 rows x 13 columns]"
      ]
     },
     "execution_count": 7,
     "metadata": {},
     "output_type": "execute_result"
    }
   ],
   "source": [
    "merged_on_right=df_main.merge(passenger_details, on=['PassengerId'],how='right')\n",
    "merged_on_right"
   ]
  },
  {
   "cell_type": "markdown",
   "id": "ee7c8cc5",
   "metadata": {},
   "source": [
    "Q_3 : Group the data by Pclass and Sex, then calculate the average Age and total Fare for each group"
   ]
  },
  {
   "cell_type": "code",
   "execution_count": 8,
   "id": "21a37f3b",
   "metadata": {},
   "outputs": [
    {
     "name": "stdout",
     "output_type": "stream",
     "text": [
      "                     Age       Fare\n",
      "Pclass Sex                         \n",
      "1      female  41.333333  5779.5584\n",
      "       male    40.520000  4308.4334\n",
      "2      female  24.376552   793.1625\n",
      "       male    30.940678  1271.6332\n",
      "3      female  23.073400   988.9293\n",
      "       male    24.525104  1714.8208\n"
     ]
    }
   ],
   "source": [
    "grouped=df_main.groupby(['Pclass','Sex']).agg(\n",
    "    {'Age':'mean',\n",
    "     'Fare':'sum'}\n",
    ")\n",
    "print(grouped)"
   ]
  },
  {
   "cell_type": "markdown",
   "id": "24569516",
   "metadata": {},
   "source": [
    "Q_4: Create a pivot table showing the --survival rate--|->find mean (mean of Survived) for each -combination- of ---Sex and Pclass---| ->means that those are categories or group by."
   ]
  },
  {
   "cell_type": "code",
   "execution_count": 9,
   "id": "f3735396",
   "metadata": {},
   "outputs": [
    {
     "data": {
      "text/html": [
       "<div>\n",
       "<style scoped>\n",
       "    .dataframe tbody tr th:only-of-type {\n",
       "        vertical-align: middle;\n",
       "    }\n",
       "\n",
       "    .dataframe tbody tr th {\n",
       "        vertical-align: top;\n",
       "    }\n",
       "\n",
       "    .dataframe thead th {\n",
       "        text-align: right;\n",
       "    }\n",
       "</style>\n",
       "<table border=\"1\" class=\"dataframe\">\n",
       "  <thead>\n",
       "    <tr style=\"text-align: right;\">\n",
       "      <th>Pclass</th>\n",
       "      <th>1</th>\n",
       "      <th>2</th>\n",
       "      <th>3</th>\n",
       "    </tr>\n",
       "    <tr>\n",
       "      <th>Sex</th>\n",
       "      <th></th>\n",
       "      <th></th>\n",
       "      <th></th>\n",
       "    </tr>\n",
       "  </thead>\n",
       "  <tbody>\n",
       "    <tr>\n",
       "      <th>female</th>\n",
       "      <td>1.0</td>\n",
       "      <td>1.0</td>\n",
       "      <td>1.0</td>\n",
       "    </tr>\n",
       "    <tr>\n",
       "      <th>male</th>\n",
       "      <td>0.0</td>\n",
       "      <td>0.0</td>\n",
       "      <td>0.0</td>\n",
       "    </tr>\n",
       "  </tbody>\n",
       "</table>\n",
       "</div>"
      ],
      "text/plain": [
       "Pclass    1    2    3\n",
       "Sex                  \n",
       "female  1.0  1.0  1.0\n",
       "male    0.0  0.0  0.0"
      ]
     },
     "execution_count": 9,
     "metadata": {},
     "output_type": "execute_result"
    }
   ],
   "source": [
    "df_main.pivot_table(values='Survived',index='Sex',columns= 'Pclass',aggfunc='mean')"
   ]
  },
  {
   "cell_type": "code",
   "execution_count": 10,
   "id": "b9cb2c1d",
   "metadata": {},
   "outputs": [
    {
     "data": {
      "text/html": [
       "<div>\n",
       "<style scoped>\n",
       "    .dataframe tbody tr th:only-of-type {\n",
       "        vertical-align: middle;\n",
       "    }\n",
       "\n",
       "    .dataframe tbody tr th {\n",
       "        vertical-align: top;\n",
       "    }\n",
       "\n",
       "    .dataframe thead th {\n",
       "        text-align: right;\n",
       "    }\n",
       "</style>\n",
       "<table border=\"1\" class=\"dataframe\">\n",
       "  <thead>\n",
       "    <tr style=\"text-align: right;\">\n",
       "      <th>Sex</th>\n",
       "      <th>female</th>\n",
       "      <th>male</th>\n",
       "    </tr>\n",
       "    <tr>\n",
       "      <th>Pclass</th>\n",
       "      <th></th>\n",
       "      <th></th>\n",
       "    </tr>\n",
       "  </thead>\n",
       "  <tbody>\n",
       "    <tr>\n",
       "      <th>1</th>\n",
       "      <td>1.0</td>\n",
       "      <td>0.0</td>\n",
       "    </tr>\n",
       "    <tr>\n",
       "      <th>2</th>\n",
       "      <td>1.0</td>\n",
       "      <td>0.0</td>\n",
       "    </tr>\n",
       "    <tr>\n",
       "      <th>3</th>\n",
       "      <td>1.0</td>\n",
       "      <td>0.0</td>\n",
       "    </tr>\n",
       "  </tbody>\n",
       "</table>\n",
       "</div>"
      ],
      "text/plain": [
       "Sex     female  male\n",
       "Pclass              \n",
       "1          1.0   0.0\n",
       "2          1.0   0.0\n",
       "3          1.0   0.0"
      ]
     },
     "execution_count": 10,
     "metadata": {},
     "output_type": "execute_result"
    }
   ],
   "source": [
    "df_main.pivot_table(values='Survived',index='Pclass',columns= 'Sex',aggfunc='mean')"
   ]
  },
  {
   "cell_type": "markdown",
   "id": "5b40556a",
   "metadata": {},
   "source": [
    "Q_5: Add a synthetic Date column with dates starting from 1912-04-10 (one day per passenger). Convert it to datetime and compute the monthly survival count.\n"
   ]
  },
  {
   "cell_type": "code",
   "execution_count": 11,
   "id": "a2b0872a",
   "metadata": {},
   "outputs": [],
   "source": [
    "df_main['Date'] = pd.date_range(start= '1912-04-10',periods=len(df_main),freq='D')\n"
   ]
  },
  {
   "cell_type": "code",
   "execution_count": 12,
   "id": "36db42c7",
   "metadata": {},
   "outputs": [
    {
     "data": {
      "text/html": [
       "<div>\n",
       "<style scoped>\n",
       "    .dataframe tbody tr th:only-of-type {\n",
       "        vertical-align: middle;\n",
       "    }\n",
       "\n",
       "    .dataframe tbody tr th {\n",
       "        vertical-align: top;\n",
       "    }\n",
       "\n",
       "    .dataframe thead th {\n",
       "        text-align: right;\n",
       "    }\n",
       "</style>\n",
       "<table border=\"1\" class=\"dataframe\">\n",
       "  <thead>\n",
       "    <tr style=\"text-align: right;\">\n",
       "      <th></th>\n",
       "      <th>PassengerId</th>\n",
       "      <th>Survived</th>\n",
       "      <th>Pclass</th>\n",
       "      <th>Name</th>\n",
       "      <th>Sex</th>\n",
       "      <th>Age</th>\n",
       "      <th>SibSp</th>\n",
       "      <th>Parch</th>\n",
       "      <th>Ticket</th>\n",
       "      <th>Fare</th>\n",
       "      <th>Cabin</th>\n",
       "      <th>Embarked</th>\n",
       "      <th>Date</th>\n",
       "    </tr>\n",
       "  </thead>\n",
       "  <tbody>\n",
       "    <tr>\n",
       "      <th>0</th>\n",
       "      <td>892</td>\n",
       "      <td>0</td>\n",
       "      <td>3</td>\n",
       "      <td>Kelly, Mr. James</td>\n",
       "      <td>male</td>\n",
       "      <td>34.5</td>\n",
       "      <td>0</td>\n",
       "      <td>0</td>\n",
       "      <td>330911</td>\n",
       "      <td>7.8292</td>\n",
       "      <td>NaN</td>\n",
       "      <td>Q</td>\n",
       "      <td>1912-04-10</td>\n",
       "    </tr>\n",
       "    <tr>\n",
       "      <th>1</th>\n",
       "      <td>893</td>\n",
       "      <td>1</td>\n",
       "      <td>3</td>\n",
       "      <td>Wilkes, Mrs. James (Ellen Needs)</td>\n",
       "      <td>female</td>\n",
       "      <td>47.0</td>\n",
       "      <td>1</td>\n",
       "      <td>0</td>\n",
       "      <td>363272</td>\n",
       "      <td>7.0000</td>\n",
       "      <td>NaN</td>\n",
       "      <td>S</td>\n",
       "      <td>1912-04-11</td>\n",
       "    </tr>\n",
       "    <tr>\n",
       "      <th>2</th>\n",
       "      <td>894</td>\n",
       "      <td>0</td>\n",
       "      <td>2</td>\n",
       "      <td>Myles, Mr. Thomas Francis</td>\n",
       "      <td>male</td>\n",
       "      <td>62.0</td>\n",
       "      <td>0</td>\n",
       "      <td>0</td>\n",
       "      <td>240276</td>\n",
       "      <td>9.6875</td>\n",
       "      <td>NaN</td>\n",
       "      <td>Q</td>\n",
       "      <td>1912-04-12</td>\n",
       "    </tr>\n",
       "    <tr>\n",
       "      <th>3</th>\n",
       "      <td>895</td>\n",
       "      <td>0</td>\n",
       "      <td>3</td>\n",
       "      <td>Wirz, Mr. Albert</td>\n",
       "      <td>male</td>\n",
       "      <td>27.0</td>\n",
       "      <td>0</td>\n",
       "      <td>0</td>\n",
       "      <td>315154</td>\n",
       "      <td>8.6625</td>\n",
       "      <td>NaN</td>\n",
       "      <td>S</td>\n",
       "      <td>1912-04-13</td>\n",
       "    </tr>\n",
       "    <tr>\n",
       "      <th>4</th>\n",
       "      <td>896</td>\n",
       "      <td>1</td>\n",
       "      <td>3</td>\n",
       "      <td>Hirvonen, Mrs. Alexander (Helga E Lindqvist)</td>\n",
       "      <td>female</td>\n",
       "      <td>22.0</td>\n",
       "      <td>1</td>\n",
       "      <td>1</td>\n",
       "      <td>3101298</td>\n",
       "      <td>12.2875</td>\n",
       "      <td>NaN</td>\n",
       "      <td>S</td>\n",
       "      <td>1912-04-14</td>\n",
       "    </tr>\n",
       "    <tr>\n",
       "      <th>...</th>\n",
       "      <td>...</td>\n",
       "      <td>...</td>\n",
       "      <td>...</td>\n",
       "      <td>...</td>\n",
       "      <td>...</td>\n",
       "      <td>...</td>\n",
       "      <td>...</td>\n",
       "      <td>...</td>\n",
       "      <td>...</td>\n",
       "      <td>...</td>\n",
       "      <td>...</td>\n",
       "      <td>...</td>\n",
       "      <td>...</td>\n",
       "    </tr>\n",
       "    <tr>\n",
       "      <th>413</th>\n",
       "      <td>1305</td>\n",
       "      <td>0</td>\n",
       "      <td>3</td>\n",
       "      <td>Spector, Mr. Woolf</td>\n",
       "      <td>male</td>\n",
       "      <td>NaN</td>\n",
       "      <td>0</td>\n",
       "      <td>0</td>\n",
       "      <td>A.5. 3236</td>\n",
       "      <td>8.0500</td>\n",
       "      <td>NaN</td>\n",
       "      <td>S</td>\n",
       "      <td>1913-05-28</td>\n",
       "    </tr>\n",
       "    <tr>\n",
       "      <th>414</th>\n",
       "      <td>1306</td>\n",
       "      <td>1</td>\n",
       "      <td>1</td>\n",
       "      <td>Oliva y Ocana, Dona. Fermina</td>\n",
       "      <td>female</td>\n",
       "      <td>39.0</td>\n",
       "      <td>0</td>\n",
       "      <td>0</td>\n",
       "      <td>PC 17758</td>\n",
       "      <td>108.9000</td>\n",
       "      <td>C105</td>\n",
       "      <td>C</td>\n",
       "      <td>1913-05-29</td>\n",
       "    </tr>\n",
       "    <tr>\n",
       "      <th>415</th>\n",
       "      <td>1307</td>\n",
       "      <td>0</td>\n",
       "      <td>3</td>\n",
       "      <td>Saether, Mr. Simon Sivertsen</td>\n",
       "      <td>male</td>\n",
       "      <td>38.5</td>\n",
       "      <td>0</td>\n",
       "      <td>0</td>\n",
       "      <td>SOTON/O.Q. 3101262</td>\n",
       "      <td>7.2500</td>\n",
       "      <td>NaN</td>\n",
       "      <td>S</td>\n",
       "      <td>1913-05-30</td>\n",
       "    </tr>\n",
       "    <tr>\n",
       "      <th>416</th>\n",
       "      <td>1308</td>\n",
       "      <td>0</td>\n",
       "      <td>3</td>\n",
       "      <td>Ware, Mr. Frederick</td>\n",
       "      <td>male</td>\n",
       "      <td>NaN</td>\n",
       "      <td>0</td>\n",
       "      <td>0</td>\n",
       "      <td>359309</td>\n",
       "      <td>8.0500</td>\n",
       "      <td>NaN</td>\n",
       "      <td>S</td>\n",
       "      <td>1913-05-31</td>\n",
       "    </tr>\n",
       "    <tr>\n",
       "      <th>417</th>\n",
       "      <td>1309</td>\n",
       "      <td>0</td>\n",
       "      <td>3</td>\n",
       "      <td>Peter, Master. Michael J</td>\n",
       "      <td>male</td>\n",
       "      <td>NaN</td>\n",
       "      <td>1</td>\n",
       "      <td>1</td>\n",
       "      <td>2668</td>\n",
       "      <td>22.3583</td>\n",
       "      <td>NaN</td>\n",
       "      <td>C</td>\n",
       "      <td>1913-06-01</td>\n",
       "    </tr>\n",
       "  </tbody>\n",
       "</table>\n",
       "<p>418 rows × 13 columns</p>\n",
       "</div>"
      ],
      "text/plain": [
       "     PassengerId  Survived  Pclass  \\\n",
       "0            892         0       3   \n",
       "1            893         1       3   \n",
       "2            894         0       2   \n",
       "3            895         0       3   \n",
       "4            896         1       3   \n",
       "..           ...       ...     ...   \n",
       "413         1305         0       3   \n",
       "414         1306         1       1   \n",
       "415         1307         0       3   \n",
       "416         1308         0       3   \n",
       "417         1309         0       3   \n",
       "\n",
       "                                             Name     Sex   Age  SibSp  Parch  \\\n",
       "0                                Kelly, Mr. James    male  34.5      0      0   \n",
       "1                Wilkes, Mrs. James (Ellen Needs)  female  47.0      1      0   \n",
       "2                       Myles, Mr. Thomas Francis    male  62.0      0      0   \n",
       "3                                Wirz, Mr. Albert    male  27.0      0      0   \n",
       "4    Hirvonen, Mrs. Alexander (Helga E Lindqvist)  female  22.0      1      1   \n",
       "..                                            ...     ...   ...    ...    ...   \n",
       "413                            Spector, Mr. Woolf    male   NaN      0      0   \n",
       "414                  Oliva y Ocana, Dona. Fermina  female  39.0      0      0   \n",
       "415                  Saether, Mr. Simon Sivertsen    male  38.5      0      0   \n",
       "416                           Ware, Mr. Frederick    male   NaN      0      0   \n",
       "417                      Peter, Master. Michael J    male   NaN      1      1   \n",
       "\n",
       "                 Ticket      Fare Cabin Embarked       Date  \n",
       "0                330911    7.8292   NaN        Q 1912-04-10  \n",
       "1                363272    7.0000   NaN        S 1912-04-11  \n",
       "2                240276    9.6875   NaN        Q 1912-04-12  \n",
       "3                315154    8.6625   NaN        S 1912-04-13  \n",
       "4               3101298   12.2875   NaN        S 1912-04-14  \n",
       "..                  ...       ...   ...      ...        ...  \n",
       "413           A.5. 3236    8.0500   NaN        S 1913-05-28  \n",
       "414            PC 17758  108.9000  C105        C 1913-05-29  \n",
       "415  SOTON/O.Q. 3101262    7.2500   NaN        S 1913-05-30  \n",
       "416              359309    8.0500   NaN        S 1913-05-31  \n",
       "417                2668   22.3583   NaN        C 1913-06-01  \n",
       "\n",
       "[418 rows x 13 columns]"
      ]
     },
     "execution_count": 12,
     "metadata": {},
     "output_type": "execute_result"
    }
   ],
   "source": [
    "df_main"
   ]
  },
  {
   "cell_type": "code",
   "execution_count": 13,
   "id": "bbb0ebc1",
   "metadata": {},
   "outputs": [
    {
     "data": {
      "text/html": [
       "<div>\n",
       "<style scoped>\n",
       "    .dataframe tbody tr th:only-of-type {\n",
       "        vertical-align: middle;\n",
       "    }\n",
       "\n",
       "    .dataframe tbody tr th {\n",
       "        vertical-align: top;\n",
       "    }\n",
       "\n",
       "    .dataframe thead th {\n",
       "        text-align: right;\n",
       "    }\n",
       "</style>\n",
       "<table border=\"1\" class=\"dataframe\">\n",
       "  <thead>\n",
       "    <tr style=\"text-align: right;\">\n",
       "      <th></th>\n",
       "      <th>PassengerId</th>\n",
       "      <th>Survived</th>\n",
       "      <th>Pclass</th>\n",
       "      <th>Name</th>\n",
       "      <th>Sex</th>\n",
       "      <th>Age</th>\n",
       "      <th>SibSp</th>\n",
       "      <th>Parch</th>\n",
       "      <th>Ticket</th>\n",
       "      <th>Fare</th>\n",
       "      <th>Cabin</th>\n",
       "      <th>Embarked</th>\n",
       "      <th>Date</th>\n",
       "    </tr>\n",
       "  </thead>\n",
       "  <tbody>\n",
       "    <tr>\n",
       "      <th>0</th>\n",
       "      <td>892</td>\n",
       "      <td>0</td>\n",
       "      <td>3</td>\n",
       "      <td>Kelly, Mr. James</td>\n",
       "      <td>male</td>\n",
       "      <td>34.5</td>\n",
       "      <td>0</td>\n",
       "      <td>0</td>\n",
       "      <td>330911</td>\n",
       "      <td>7.8292</td>\n",
       "      <td>NaN</td>\n",
       "      <td>Q</td>\n",
       "      <td>1912-04-10</td>\n",
       "    </tr>\n",
       "    <tr>\n",
       "      <th>1</th>\n",
       "      <td>893</td>\n",
       "      <td>1</td>\n",
       "      <td>3</td>\n",
       "      <td>Wilkes, Mrs. James (Ellen Needs)</td>\n",
       "      <td>female</td>\n",
       "      <td>47.0</td>\n",
       "      <td>1</td>\n",
       "      <td>0</td>\n",
       "      <td>363272</td>\n",
       "      <td>7.0000</td>\n",
       "      <td>NaN</td>\n",
       "      <td>S</td>\n",
       "      <td>1912-04-11</td>\n",
       "    </tr>\n",
       "    <tr>\n",
       "      <th>2</th>\n",
       "      <td>894</td>\n",
       "      <td>0</td>\n",
       "      <td>2</td>\n",
       "      <td>Myles, Mr. Thomas Francis</td>\n",
       "      <td>male</td>\n",
       "      <td>62.0</td>\n",
       "      <td>0</td>\n",
       "      <td>0</td>\n",
       "      <td>240276</td>\n",
       "      <td>9.6875</td>\n",
       "      <td>NaN</td>\n",
       "      <td>Q</td>\n",
       "      <td>1912-04-12</td>\n",
       "    </tr>\n",
       "    <tr>\n",
       "      <th>3</th>\n",
       "      <td>895</td>\n",
       "      <td>0</td>\n",
       "      <td>3</td>\n",
       "      <td>Wirz, Mr. Albert</td>\n",
       "      <td>male</td>\n",
       "      <td>27.0</td>\n",
       "      <td>0</td>\n",
       "      <td>0</td>\n",
       "      <td>315154</td>\n",
       "      <td>8.6625</td>\n",
       "      <td>NaN</td>\n",
       "      <td>S</td>\n",
       "      <td>1912-04-13</td>\n",
       "    </tr>\n",
       "    <tr>\n",
       "      <th>4</th>\n",
       "      <td>896</td>\n",
       "      <td>1</td>\n",
       "      <td>3</td>\n",
       "      <td>Hirvonen, Mrs. Alexander (Helga E Lindqvist)</td>\n",
       "      <td>female</td>\n",
       "      <td>22.0</td>\n",
       "      <td>1</td>\n",
       "      <td>1</td>\n",
       "      <td>3101298</td>\n",
       "      <td>12.2875</td>\n",
       "      <td>NaN</td>\n",
       "      <td>S</td>\n",
       "      <td>1912-04-14</td>\n",
       "    </tr>\n",
       "    <tr>\n",
       "      <th>...</th>\n",
       "      <td>...</td>\n",
       "      <td>...</td>\n",
       "      <td>...</td>\n",
       "      <td>...</td>\n",
       "      <td>...</td>\n",
       "      <td>...</td>\n",
       "      <td>...</td>\n",
       "      <td>...</td>\n",
       "      <td>...</td>\n",
       "      <td>...</td>\n",
       "      <td>...</td>\n",
       "      <td>...</td>\n",
       "      <td>...</td>\n",
       "    </tr>\n",
       "    <tr>\n",
       "      <th>413</th>\n",
       "      <td>1305</td>\n",
       "      <td>0</td>\n",
       "      <td>3</td>\n",
       "      <td>Spector, Mr. Woolf</td>\n",
       "      <td>male</td>\n",
       "      <td>NaN</td>\n",
       "      <td>0</td>\n",
       "      <td>0</td>\n",
       "      <td>A.5. 3236</td>\n",
       "      <td>8.0500</td>\n",
       "      <td>NaN</td>\n",
       "      <td>S</td>\n",
       "      <td>1913-05-28</td>\n",
       "    </tr>\n",
       "    <tr>\n",
       "      <th>414</th>\n",
       "      <td>1306</td>\n",
       "      <td>1</td>\n",
       "      <td>1</td>\n",
       "      <td>Oliva y Ocana, Dona. Fermina</td>\n",
       "      <td>female</td>\n",
       "      <td>39.0</td>\n",
       "      <td>0</td>\n",
       "      <td>0</td>\n",
       "      <td>PC 17758</td>\n",
       "      <td>108.9000</td>\n",
       "      <td>C105</td>\n",
       "      <td>C</td>\n",
       "      <td>1913-05-29</td>\n",
       "    </tr>\n",
       "    <tr>\n",
       "      <th>415</th>\n",
       "      <td>1307</td>\n",
       "      <td>0</td>\n",
       "      <td>3</td>\n",
       "      <td>Saether, Mr. Simon Sivertsen</td>\n",
       "      <td>male</td>\n",
       "      <td>38.5</td>\n",
       "      <td>0</td>\n",
       "      <td>0</td>\n",
       "      <td>SOTON/O.Q. 3101262</td>\n",
       "      <td>7.2500</td>\n",
       "      <td>NaN</td>\n",
       "      <td>S</td>\n",
       "      <td>1913-05-30</td>\n",
       "    </tr>\n",
       "    <tr>\n",
       "      <th>416</th>\n",
       "      <td>1308</td>\n",
       "      <td>0</td>\n",
       "      <td>3</td>\n",
       "      <td>Ware, Mr. Frederick</td>\n",
       "      <td>male</td>\n",
       "      <td>NaN</td>\n",
       "      <td>0</td>\n",
       "      <td>0</td>\n",
       "      <td>359309</td>\n",
       "      <td>8.0500</td>\n",
       "      <td>NaN</td>\n",
       "      <td>S</td>\n",
       "      <td>1913-05-31</td>\n",
       "    </tr>\n",
       "    <tr>\n",
       "      <th>417</th>\n",
       "      <td>1309</td>\n",
       "      <td>0</td>\n",
       "      <td>3</td>\n",
       "      <td>Peter, Master. Michael J</td>\n",
       "      <td>male</td>\n",
       "      <td>NaN</td>\n",
       "      <td>1</td>\n",
       "      <td>1</td>\n",
       "      <td>2668</td>\n",
       "      <td>22.3583</td>\n",
       "      <td>NaN</td>\n",
       "      <td>C</td>\n",
       "      <td>1913-06-01</td>\n",
       "    </tr>\n",
       "  </tbody>\n",
       "</table>\n",
       "<p>418 rows × 13 columns</p>\n",
       "</div>"
      ],
      "text/plain": [
       "     PassengerId  Survived  Pclass  \\\n",
       "0            892         0       3   \n",
       "1            893         1       3   \n",
       "2            894         0       2   \n",
       "3            895         0       3   \n",
       "4            896         1       3   \n",
       "..           ...       ...     ...   \n",
       "413         1305         0       3   \n",
       "414         1306         1       1   \n",
       "415         1307         0       3   \n",
       "416         1308         0       3   \n",
       "417         1309         0       3   \n",
       "\n",
       "                                             Name     Sex   Age  SibSp  Parch  \\\n",
       "0                                Kelly, Mr. James    male  34.5      0      0   \n",
       "1                Wilkes, Mrs. James (Ellen Needs)  female  47.0      1      0   \n",
       "2                       Myles, Mr. Thomas Francis    male  62.0      0      0   \n",
       "3                                Wirz, Mr. Albert    male  27.0      0      0   \n",
       "4    Hirvonen, Mrs. Alexander (Helga E Lindqvist)  female  22.0      1      1   \n",
       "..                                            ...     ...   ...    ...    ...   \n",
       "413                            Spector, Mr. Woolf    male   NaN      0      0   \n",
       "414                  Oliva y Ocana, Dona. Fermina  female  39.0      0      0   \n",
       "415                  Saether, Mr. Simon Sivertsen    male  38.5      0      0   \n",
       "416                           Ware, Mr. Frederick    male   NaN      0      0   \n",
       "417                      Peter, Master. Michael J    male   NaN      1      1   \n",
       "\n",
       "                 Ticket      Fare Cabin Embarked       Date  \n",
       "0                330911    7.8292   NaN        Q 1912-04-10  \n",
       "1                363272    7.0000   NaN        S 1912-04-11  \n",
       "2                240276    9.6875   NaN        Q 1912-04-12  \n",
       "3                315154    8.6625   NaN        S 1912-04-13  \n",
       "4               3101298   12.2875   NaN        S 1912-04-14  \n",
       "..                  ...       ...   ...      ...        ...  \n",
       "413           A.5. 3236    8.0500   NaN        S 1913-05-28  \n",
       "414            PC 17758  108.9000  C105        C 1913-05-29  \n",
       "415  SOTON/O.Q. 3101262    7.2500   NaN        S 1913-05-30  \n",
       "416              359309    8.0500   NaN        S 1913-05-31  \n",
       "417                2668   22.3583   NaN        C 1913-06-01  \n",
       "\n",
       "[418 rows x 13 columns]"
      ]
     },
     "execution_count": 13,
     "metadata": {},
     "output_type": "execute_result"
    }
   ],
   "source": [
    "df_main"
   ]
  },
  {
   "cell_type": "code",
   "execution_count": 14,
   "id": "b9ada5e2",
   "metadata": {},
   "outputs": [
    {
     "name": "stdout",
     "output_type": "stream",
     "text": [
      "0   1912-04-10\n",
      "1   1912-04-11\n",
      "2   1912-04-12\n",
      "3   1912-04-13\n",
      "4   1912-04-14\n",
      "Name: Date, dtype: datetime64[ns]\n"
     ]
    }
   ],
   "source": [
    "print(df_main[ 'Date'].head())\n"
   ]
  },
  {
   "cell_type": "code",
   "execution_count": 15,
   "id": "27a2e86b",
   "metadata": {},
   "outputs": [
    {
     "data": {
      "text/html": [
       "<div>\n",
       "<style scoped>\n",
       "    .dataframe tbody tr th:only-of-type {\n",
       "        vertical-align: middle;\n",
       "    }\n",
       "\n",
       "    .dataframe tbody tr th {\n",
       "        vertical-align: top;\n",
       "    }\n",
       "\n",
       "    .dataframe thead th {\n",
       "        text-align: right;\n",
       "    }\n",
       "</style>\n",
       "<table border=\"1\" class=\"dataframe\">\n",
       "  <thead>\n",
       "    <tr style=\"text-align: right;\">\n",
       "      <th></th>\n",
       "      <th>PassengerId</th>\n",
       "      <th>Survived</th>\n",
       "      <th>Pclass</th>\n",
       "      <th>Name</th>\n",
       "      <th>Sex</th>\n",
       "      <th>Age</th>\n",
       "      <th>SibSp</th>\n",
       "      <th>Parch</th>\n",
       "      <th>Ticket</th>\n",
       "      <th>Fare</th>\n",
       "      <th>Cabin</th>\n",
       "      <th>Embarked</th>\n",
       "      <th>Date</th>\n",
       "    </tr>\n",
       "  </thead>\n",
       "  <tbody>\n",
       "    <tr>\n",
       "      <th>1</th>\n",
       "      <td>893</td>\n",
       "      <td>1</td>\n",
       "      <td>3</td>\n",
       "      <td>Wilkes, Mrs. James (Ellen Needs)</td>\n",
       "      <td>female</td>\n",
       "      <td>47.0</td>\n",
       "      <td>1</td>\n",
       "      <td>0</td>\n",
       "      <td>363272</td>\n",
       "      <td>7.0000</td>\n",
       "      <td>NaN</td>\n",
       "      <td>S</td>\n",
       "      <td>1912-04-11</td>\n",
       "    </tr>\n",
       "    <tr>\n",
       "      <th>4</th>\n",
       "      <td>896</td>\n",
       "      <td>1</td>\n",
       "      <td>3</td>\n",
       "      <td>Hirvonen, Mrs. Alexander (Helga E Lindqvist)</td>\n",
       "      <td>female</td>\n",
       "      <td>22.0</td>\n",
       "      <td>1</td>\n",
       "      <td>1</td>\n",
       "      <td>3101298</td>\n",
       "      <td>12.2875</td>\n",
       "      <td>NaN</td>\n",
       "      <td>S</td>\n",
       "      <td>1912-04-14</td>\n",
       "    </tr>\n",
       "    <tr>\n",
       "      <th>6</th>\n",
       "      <td>898</td>\n",
       "      <td>1</td>\n",
       "      <td>3</td>\n",
       "      <td>Connolly, Miss. Kate</td>\n",
       "      <td>female</td>\n",
       "      <td>30.0</td>\n",
       "      <td>0</td>\n",
       "      <td>0</td>\n",
       "      <td>330972</td>\n",
       "      <td>7.6292</td>\n",
       "      <td>NaN</td>\n",
       "      <td>Q</td>\n",
       "      <td>1912-04-16</td>\n",
       "    </tr>\n",
       "    <tr>\n",
       "      <th>8</th>\n",
       "      <td>900</td>\n",
       "      <td>1</td>\n",
       "      <td>3</td>\n",
       "      <td>Abrahim, Mrs. Joseph (Sophie Halaut Easu)</td>\n",
       "      <td>female</td>\n",
       "      <td>18.0</td>\n",
       "      <td>0</td>\n",
       "      <td>0</td>\n",
       "      <td>2657</td>\n",
       "      <td>7.2292</td>\n",
       "      <td>NaN</td>\n",
       "      <td>C</td>\n",
       "      <td>1912-04-18</td>\n",
       "    </tr>\n",
       "    <tr>\n",
       "      <th>12</th>\n",
       "      <td>904</td>\n",
       "      <td>1</td>\n",
       "      <td>1</td>\n",
       "      <td>Snyder, Mrs. John Pillsbury (Nelle Stevenson)</td>\n",
       "      <td>female</td>\n",
       "      <td>23.0</td>\n",
       "      <td>1</td>\n",
       "      <td>0</td>\n",
       "      <td>21228</td>\n",
       "      <td>82.2667</td>\n",
       "      <td>B45</td>\n",
       "      <td>S</td>\n",
       "      <td>1912-04-22</td>\n",
       "    </tr>\n",
       "    <tr>\n",
       "      <th>...</th>\n",
       "      <td>...</td>\n",
       "      <td>...</td>\n",
       "      <td>...</td>\n",
       "      <td>...</td>\n",
       "      <td>...</td>\n",
       "      <td>...</td>\n",
       "      <td>...</td>\n",
       "      <td>...</td>\n",
       "      <td>...</td>\n",
       "      <td>...</td>\n",
       "      <td>...</td>\n",
       "      <td>...</td>\n",
       "      <td>...</td>\n",
       "    </tr>\n",
       "    <tr>\n",
       "      <th>409</th>\n",
       "      <td>1301</td>\n",
       "      <td>1</td>\n",
       "      <td>3</td>\n",
       "      <td>Peacock, Miss. Treasteall</td>\n",
       "      <td>female</td>\n",
       "      <td>3.0</td>\n",
       "      <td>1</td>\n",
       "      <td>1</td>\n",
       "      <td>SOTON/O.Q. 3101315</td>\n",
       "      <td>13.7750</td>\n",
       "      <td>NaN</td>\n",
       "      <td>S</td>\n",
       "      <td>1913-05-24</td>\n",
       "    </tr>\n",
       "    <tr>\n",
       "      <th>410</th>\n",
       "      <td>1302</td>\n",
       "      <td>1</td>\n",
       "      <td>3</td>\n",
       "      <td>Naughton, Miss. Hannah</td>\n",
       "      <td>female</td>\n",
       "      <td>NaN</td>\n",
       "      <td>0</td>\n",
       "      <td>0</td>\n",
       "      <td>365237</td>\n",
       "      <td>7.7500</td>\n",
       "      <td>NaN</td>\n",
       "      <td>Q</td>\n",
       "      <td>1913-05-25</td>\n",
       "    </tr>\n",
       "    <tr>\n",
       "      <th>411</th>\n",
       "      <td>1303</td>\n",
       "      <td>1</td>\n",
       "      <td>1</td>\n",
       "      <td>Minahan, Mrs. William Edward (Lillian E Thorpe)</td>\n",
       "      <td>female</td>\n",
       "      <td>37.0</td>\n",
       "      <td>1</td>\n",
       "      <td>0</td>\n",
       "      <td>19928</td>\n",
       "      <td>90.0000</td>\n",
       "      <td>C78</td>\n",
       "      <td>Q</td>\n",
       "      <td>1913-05-26</td>\n",
       "    </tr>\n",
       "    <tr>\n",
       "      <th>412</th>\n",
       "      <td>1304</td>\n",
       "      <td>1</td>\n",
       "      <td>3</td>\n",
       "      <td>Henriksson, Miss. Jenny Lovisa</td>\n",
       "      <td>female</td>\n",
       "      <td>28.0</td>\n",
       "      <td>0</td>\n",
       "      <td>0</td>\n",
       "      <td>347086</td>\n",
       "      <td>7.7750</td>\n",
       "      <td>NaN</td>\n",
       "      <td>S</td>\n",
       "      <td>1913-05-27</td>\n",
       "    </tr>\n",
       "    <tr>\n",
       "      <th>414</th>\n",
       "      <td>1306</td>\n",
       "      <td>1</td>\n",
       "      <td>1</td>\n",
       "      <td>Oliva y Ocana, Dona. Fermina</td>\n",
       "      <td>female</td>\n",
       "      <td>39.0</td>\n",
       "      <td>0</td>\n",
       "      <td>0</td>\n",
       "      <td>PC 17758</td>\n",
       "      <td>108.9000</td>\n",
       "      <td>C105</td>\n",
       "      <td>C</td>\n",
       "      <td>1913-05-29</td>\n",
       "    </tr>\n",
       "  </tbody>\n",
       "</table>\n",
       "<p>152 rows × 13 columns</p>\n",
       "</div>"
      ],
      "text/plain": [
       "     PassengerId  Survived  Pclass  \\\n",
       "1            893         1       3   \n",
       "4            896         1       3   \n",
       "6            898         1       3   \n",
       "8            900         1       3   \n",
       "12           904         1       1   \n",
       "..           ...       ...     ...   \n",
       "409         1301         1       3   \n",
       "410         1302         1       3   \n",
       "411         1303         1       1   \n",
       "412         1304         1       3   \n",
       "414         1306         1       1   \n",
       "\n",
       "                                                Name     Sex   Age  SibSp  \\\n",
       "1                   Wilkes, Mrs. James (Ellen Needs)  female  47.0      1   \n",
       "4       Hirvonen, Mrs. Alexander (Helga E Lindqvist)  female  22.0      1   \n",
       "6                               Connolly, Miss. Kate  female  30.0      0   \n",
       "8          Abrahim, Mrs. Joseph (Sophie Halaut Easu)  female  18.0      0   \n",
       "12     Snyder, Mrs. John Pillsbury (Nelle Stevenson)  female  23.0      1   \n",
       "..                                               ...     ...   ...    ...   \n",
       "409                        Peacock, Miss. Treasteall  female   3.0      1   \n",
       "410                           Naughton, Miss. Hannah  female   NaN      0   \n",
       "411  Minahan, Mrs. William Edward (Lillian E Thorpe)  female  37.0      1   \n",
       "412                   Henriksson, Miss. Jenny Lovisa  female  28.0      0   \n",
       "414                     Oliva y Ocana, Dona. Fermina  female  39.0      0   \n",
       "\n",
       "     Parch              Ticket      Fare Cabin Embarked       Date  \n",
       "1        0              363272    7.0000   NaN        S 1912-04-11  \n",
       "4        1             3101298   12.2875   NaN        S 1912-04-14  \n",
       "6        0              330972    7.6292   NaN        Q 1912-04-16  \n",
       "8        0                2657    7.2292   NaN        C 1912-04-18  \n",
       "12       0               21228   82.2667   B45        S 1912-04-22  \n",
       "..     ...                 ...       ...   ...      ...        ...  \n",
       "409      1  SOTON/O.Q. 3101315   13.7750   NaN        S 1913-05-24  \n",
       "410      0              365237    7.7500   NaN        Q 1913-05-25  \n",
       "411      0               19928   90.0000   C78        Q 1913-05-26  \n",
       "412      0              347086    7.7750   NaN        S 1913-05-27  \n",
       "414      0            PC 17758  108.9000  C105        C 1913-05-29  \n",
       "\n",
       "[152 rows x 13 columns]"
      ]
     },
     "execution_count": 15,
     "metadata": {},
     "output_type": "execute_result"
    }
   ],
   "source": [
    "survivors = df_main[df_main['Survived'] == 1]\n",
    "survivors"
   ]
  },
  {
   "cell_type": "code",
   "execution_count": 16,
   "id": "52a8f707",
   "metadata": {},
   "outputs": [
    {
     "name": "stderr",
     "output_type": "stream",
     "text": [
      "C:\\Users\\ayaal\\AppData\\Local\\Temp\\ipykernel_9296\\4154833999.py:1: SettingWithCopyWarning: \n",
      "A value is trying to be set on a copy of a slice from a DataFrame.\n",
      "Try using .loc[row_indexer,col_indexer] = value instead\n",
      "\n",
      "See the caveats in the documentation: https://pandas.pydata.org/pandas-docs/stable/user_guide/indexing.html#returning-a-view-versus-a-copy\n",
      "  survivors['Month'] = survivors['Date'].dt.to_period('M')\n"
     ]
    },
    {
     "data": {
      "text/plain": [
       "1      1912-04\n",
       "4      1912-04\n",
       "6      1912-04\n",
       "8      1912-04\n",
       "12     1912-04\n",
       "        ...   \n",
       "409    1913-05\n",
       "410    1913-05\n",
       "411    1913-05\n",
       "412    1913-05\n",
       "414    1913-05\n",
       "Name: Month, Length: 152, dtype: period[M]"
      ]
     },
     "execution_count": 16,
     "metadata": {},
     "output_type": "execute_result"
    }
   ],
   "source": [
    "survivors['Month'] = survivors['Date'].dt.to_period('M')\n",
    "survivors['Month']"
   ]
  },
  {
   "cell_type": "code",
   "execution_count": 17,
   "id": "a46ac805",
   "metadata": {},
   "outputs": [],
   "source": [
    "monthly_survival_count =survivors.groupby(survivors['Month']).size()"
   ]
  },
  {
   "cell_type": "code",
   "execution_count": 18,
   "id": "ff1e6be6",
   "metadata": {},
   "outputs": [
    {
     "data": {
      "text/plain": [
       "Month\n",
       "1912-04     9\n",
       "1912-05    11\n",
       "1912-06    12\n",
       "1912-07    11\n",
       "1912-08    12\n",
       "1912-09    10\n",
       "1912-10    12\n",
       "1912-11    12\n",
       "1912-12    11\n",
       "1913-01    10\n",
       "1913-02     7\n",
       "1913-03     9\n",
       "1913-04    15\n",
       "1913-05    11\n",
       "Freq: M, dtype: int64"
      ]
     },
     "execution_count": 18,
     "metadata": {},
     "output_type": "execute_result"
    }
   ],
   "source": [
    "monthly_survival_count"
   ]
  },
  {
   "cell_type": "markdown",
   "id": "c20ae412",
   "metadata": {},
   "source": [
    "Data Visualization"
   ]
  },
  {
   "cell_type": "markdown",
   "id": "d3cfe776",
   "metadata": {},
   "source": [
    "Use Matplotlib and Seaborn to create various visualizations, including but not limited to:\n",
    "Bar plots, histograms, scatter plots, and heatmaps\n",
    "\n",
    "Customize the visualizations with appropriate:\n",
    "\n",
    "Titles and labels\n",
    "Colors and fonts\n",
    "Legends and annotations\n",
    "\n",
    "Provide insights based on the visualizations.\n",
    "\n",
    "Bonus\n",
    "\n",
    "Try to combine the plots you have created to build an interactive dashboard using Dash and Plotly.\n",
    "\n",
    "Submission Requirements\n",
    "\n",
    "Include a short summary of key findings based on the visualizations."
   ]
  },
  {
   "cell_type": "markdown",
   "id": "3426ab99",
   "metadata": {},
   "source": []
  },
  {
   "cell_type": "code",
   "execution_count": 19,
   "id": "9dc9cf41",
   "metadata": {},
   "outputs": [
    {
     "name": "stdout",
     "output_type": "stream",
     "text": [
      "<class 'pandas.core.frame.DataFrame'>\n",
      "RangeIndex: 418 entries, 0 to 417\n",
      "Data columns (total 13 columns):\n",
      " #   Column       Non-Null Count  Dtype         \n",
      "---  ------       --------------  -----         \n",
      " 0   PassengerId  418 non-null    int64         \n",
      " 1   Survived     418 non-null    int64         \n",
      " 2   Pclass       418 non-null    int64         \n",
      " 3   Name         418 non-null    object        \n",
      " 4   Sex          418 non-null    object        \n",
      " 5   Age          332 non-null    float64       \n",
      " 6   SibSp        418 non-null    int64         \n",
      " 7   Parch        418 non-null    int64         \n",
      " 8   Ticket       418 non-null    object        \n",
      " 9   Fare         417 non-null    float64       \n",
      " 10  Cabin        91 non-null     object        \n",
      " 11  Embarked     418 non-null    object        \n",
      " 12  Date         418 non-null    datetime64[ns]\n",
      "dtypes: datetime64[ns](1), float64(2), int64(5), object(5)\n",
      "memory usage: 42.6+ KB\n"
     ]
    }
   ],
   "source": [
    "df_main.info()"
   ]
  },
  {
   "cell_type": "code",
   "execution_count": 20,
   "id": "99886a8d",
   "metadata": {},
   "outputs": [],
   "source": [
    "import matplotlib.pyplot as plt\n",
    "import seaborn as sns"
   ]
  },
  {
   "cell_type": "code",
   "execution_count": 21,
   "id": "5f01e509",
   "metadata": {},
   "outputs": [
    {
     "name": "stderr",
     "output_type": "stream",
     "text": [
      "C:\\Users\\ayaal\\AppData\\Local\\Temp\\ipykernel_9296\\3985302828.py:1: FutureWarning: \n",
      "\n",
      "Passing `palette` without assigning `hue` is deprecated and will be removed in v0.14.0. Assign the `x` variable to `hue` and set `legend=False` for the same effect.\n",
      "\n",
      "  pclass_barplot=sns.countplot(data=df_main,x='Pclass',palette='Set2')\n"
     ]
    },
    {
     "data": {
      "text/plain": [
       "Text(0, 0.5, 'Count of Passengers')"
      ]
     },
     "execution_count": 21,
     "metadata": {},
     "output_type": "execute_result"
    },
    {
     "data": {
      "image/png": "[encoded data removed]",
      "text/plain": [
       "<Figure size 640x480 with 1 Axes>"
      ]
     },
     "metadata": {},
     "output_type": "display_data"
    }
   ],
   "source": [
    "pclass_barplot=sns.countplot(data=df_main,x='Pclass',palette='Set2')\n",
    "plt.title('Count of Passengers by Pclass')\n",
    "plt.xlabel(\"Passenger Class\")\n",
    "plt.ylabel(\"Count of Passengers\")"
   ]
  },
  {
   "cell_type": "code",
   "execution_count": 22,
   "id": "f35e2c73",
   "metadata": {},
   "outputs": [
    {
     "name": "stderr",
     "output_type": "stream",
     "text": [
      "C:\\Users\\ayaal\\AppData\\Local\\Temp\\ipykernel_9296\\3912615144.py:1: FutureWarning: \n",
      "\n",
      "Passing `palette` without assigning `hue` is deprecated and will be removed in v0.14.0. Assign the `x` variable to `hue` and set `legend=False` for the same effect.\n",
      "\n",
      "  sex_barplot=sns.countplot(data=df_main,x='Sex',palette=\"coolwarm\")\n"
     ]
    },
    {
     "data": {
      "image/png": "[encoded data removed]",
      "text/plain": [
       "<Figure size 640x480 with 1 Axes>"
      ]
     },
     "metadata": {},
     "output_type": "display_data"
    }
   ],
   "source": [
    "sex_barplot=sns.countplot(data=df_main,x='Sex',palette=\"coolwarm\")"
   ]
  },
  {
   "cell_type": "code",
   "execution_count": 23,
   "id": "e3053ae0",
   "metadata": {},
   "outputs": [
    {
     "data": {
      "text/plain": [
       "Sex\n",
       "male      266\n",
       "female    152\n",
       "Name: count, dtype: int64"
      ]
     },
     "execution_count": 23,
     "metadata": {},
     "output_type": "execute_result"
    }
   ],
   "source": [
    "sex_count=df_main['Sex'].value_counts()\n",
    "sex_count"
   ]
  },
  {
   "cell_type": "code",
   "execution_count": 24,
   "id": "e682459f",
   "metadata": {},
   "outputs": [
    {
     "data": {
      "image/png": "[encoded data removed]",
      "text/plain": [
       "<Figure size 640x480 with 1 Axes>"
      ]
     },
     "metadata": {},
     "output_type": "display_data"
    }
   ],
   "source": [
    "plt.pie(sex_count,labels=sex_count.index,autopct='%1.1f%%',colors=['#66b3ff','#ff9999'])\n",
    "plt.title(\"Gender Distribution\")\n",
    "plt.show()"
   ]
  },
  {
   "cell_type": "code",
   "execution_count": 25,
   "id": "af2b2cca",
   "metadata": {},
   "outputs": [
    {
     "data": {
      "text/plain": [
       "Text(0, 0.5, 'Frequency')"
      ]
     },
     "execution_count": 25,
     "metadata": {},
     "output_type": "execute_result"
    },
    {
     "data": {
      "image/png": "[encoded data removed]",
      "text/plain": [
       "<Figure size 640x480 with 1 Axes>"
      ]
     },
     "metadata": {},
     "output_type": "display_data"
    }
   ],
   "source": [
    "sns.histplot(data=df_main , x='Age',bins=30,kde=True\n",
    "             )\n",
    "plt.title('Age Distribution')\n",
    "plt.xlabel('Age')\n",
    "plt.ylabel('Frequency')"
   ]
  },
  {
   "cell_type": "code",
   "execution_count": 26,
   "id": "9e6178a5",
   "metadata": {},
   "outputs": [
    {
     "data": {
      "image/png": "[encoded data removed]",
      "text/plain": [
       "<Figure size 640x480 with 1 Axes>"
      ]
     },
     "metadata": {},
     "output_type": "display_data"
    }
   ],
   "source": [
    "sns.boxplot(x=df['Age'],color='skyblue')\n",
    "plt.title('Age Distribution with Outliers')\n",
    "plt.xlabel('Age')\n",
    "plt.show()\n"
   ]
  },
  {
   "cell_type": "code",
   "execution_count": 27,
   "id": "b7cea65a",
   "metadata": {},
   "outputs": [
    {
     "data": {
      "text/plain": [
       "Text(0, 0.5, 'Frequency')"
      ]
     },
     "execution_count": 27,
     "metadata": {},
     "output_type": "execute_result"
    },
    {
     "data": {
      "image/png": "[encoded data removed]",
      "text/plain": [
       "<Figure size 640x480 with 1 Axes>"
      ]
     },
     "metadata": {},
     "output_type": "display_data"
    }
   ],
   "source": [
    "sns.histplot(data=df_main , x='Fare',bins=30,kde=True)\n",
    "plt.title('Fare Distribution')\n",
    "plt.xlabel('Fare')\n",
    "plt.ylabel('Frequency')"
   ]
  },
  {
   "cell_type": "code",
   "execution_count": 28,
   "id": "f4ef460e",
   "metadata": {},
   "outputs": [
    {
     "name": "stderr",
     "output_type": "stream",
     "text": [
      "C:\\Users\\ayaal\\AppData\\Local\\Temp\\ipykernel_9296\\1626064028.py:1: FutureWarning: \n",
      "\n",
      "Passing `palette` without assigning `hue` is deprecated and will be removed in v0.14.0. Assign the `x` variable to `hue` and set `legend=False` for the same effect.\n",
      "\n",
      "  sns.countplot(data=df_main,x='Embarked',palette='pastel')\n"
     ]
    },
    {
     "data": {
      "image/png": "[encoded data removed]",
      "text/plain": [
       "<Figure size 640x480 with 1 Axes>"
      ]
     },
     "metadata": {},
     "output_type": "display_data"
    }
   ],
   "source": [
    "\n",
    "sns.countplot(data=df_main,x='Embarked',palette='pastel')\n",
    "plt.title('Passenger Count by Embarkation Port')\n",
    "plt.xlabel('Embarked')\n",
    "plt.ylabel('count')\n",
    "plt.show()"
   ]
  },
  {
   "cell_type": "code",
   "execution_count": 29,
   "id": "2fb45a5c",
   "metadata": {},
   "outputs": [
    {
     "data": {
      "image/png": "[encoded data removed]",
      "text/plain": [
       "<Figure size 640x480 with 1 Axes>"
      ]
     },
     "metadata": {},
     "output_type": "display_data"
    }
   ],
   "source": [
    "embarked_count = df['Embarked'].value_counts()\n",
    "plt.pie(embarked_count,labels=embarked_count.index,autopct='%1.1f%%', colors=[\"#5ED13E\",\"#CB92B0\",\"#B4E1F1\"])\n",
    "plt.title('Embarkation Port Distribution')\n",
    "plt.show()\n"
   ]
  },
  {
   "cell_type": "code",
   "execution_count": 30,
   "id": "85cc8af4",
   "metadata": {},
   "outputs": [
    {
     "name": "stdout",
     "output_type": "stream",
     "text": [
      "Total number of cabins:  418\n",
      "Missing Cabin:  327\n",
      "Existing Cabin:  91\n"
     ]
    }
   ],
   "source": [
    "Total =df_main['Cabin'].shape[0]\n",
    "print(\"Total number of cabins: \",Total)\n",
    "Missing =df_main['Cabin'].isnull().sum()\n",
    "print(\"Missing Cabin: \",Missing)\n",
    "existing=Total-Missing\n",
    "print(\"Existing Cabin: \",existing)\n"
   ]
  },
  {
   "cell_type": "code",
   "execution_count": 31,
   "id": "671565bb",
   "metadata": {},
   "outputs": [
    {
     "data": {
      "image/png": "[encoded data removed]",
      "text/plain": [
       "<Figure size 640x480 with 1 Axes>"
      ]
     },
     "metadata": {},
     "output_type": "display_data"
    }
   ],
   "source": [
    "\n",
    "labels = ['Existing Cabin', 'Missing Cabin']\n",
    "data = [Missing, existing]\n",
    "\n",
    "plt.pie(data, labels=labels, autopct='%1.1f%%', colors= ['#66b3ff', '#ff9999'])\n",
    "plt.title('Cabin Data Availability')\n",
    "plt.axis('equal')\n",
    "plt.show()\n"
   ]
  },
  {
   "cell_type": "code",
   "execution_count": 32,
   "id": "2f8ce809",
   "metadata": {},
   "outputs": [
    {
     "data": {
      "image/png": "[encoded data removed]",
      "text/plain": [
       "<Figure size 640x480 with 1 Axes>"
      ]
     },
     "metadata": {},
     "output_type": "display_data"
    }
   ],
   "source": [
    "sns.countplot(data=df_main,x='Sex',hue='Survived')\n",
    "plt.title(\"Survival Count by Gender\")\n",
    "plt.xlabel(\"Sex\")\n",
    "plt.ylabel(\"Count\")\n",
    "plt.legend(title='Survived',labels=['NO','YES'])\n",
    "plt.show()\n"
   ]
  },
  {
   "cell_type": "markdown",
   "id": "09f1c0f6",
   "metadata": {},
   "source": [
    "Females had a much higher survival rate than males."
   ]
  },
  {
   "cell_type": "code",
   "execution_count": 33,
   "id": "c52c3b91",
   "metadata": {},
   "outputs": [
    {
     "data": {
      "image/png": "[encoded data removed]",
      "text/plain": [
       "<Figure size 640x480 with 1 Axes>"
      ]
     },
     "metadata": {},
     "output_type": "display_data"
    }
   ],
   "source": [
    "gender_survived=df.groupby('Sex')['Survived'].mean()\n",
    "plt.bar(gender_survived.index,gender_survived.values, color=['skyblue', 'lightpink'])\n",
    "plt.title(\"Survival Rate by Gender\")\n",
    "plt.ylabel(\"Survival Rate\")\n",
    "plt.show()\n"
   ]
  },
  {
   "cell_type": "markdown",
   "id": "cb15c065",
   "metadata": {},
   "source": [
    "Females had a much higher survival rate than males."
   ]
  },
  {
   "cell_type": "code",
   "execution_count": 34,
   "id": "99d7daa7",
   "metadata": {},
   "outputs": [
    {
     "data": {
      "image/png": "[encoded data removed]",
      "text/plain": [
       "<Figure size 640x480 with 1 Axes>"
      ]
     },
     "metadata": {},
     "output_type": "display_data"
    }
   ],
   "source": [
    "sns.countplot(data=df_main,x='Pclass',hue='Survived')\n",
    "plt.title(\"Survival Count by Passenger Class\")\n",
    "plt.xlabel(\"Passenger Class\")\n",
    "plt.ylabel(\"Count\")\n",
    "plt.legend(title='Survived', labels=['No', 'Yes'])\n",
    "plt.show()\n"
   ]
  },
  {
   "cell_type": "markdown",
   "id": "ed151fb7",
   "metadata": {},
   "source": [
    "First-class passengers had the highest survival rate."
   ]
  },
  {
   "cell_type": "code",
   "execution_count": 35,
   "id": "079ea124",
   "metadata": {},
   "outputs": [
    {
     "data": {
      "image/png": "[encoded data removed]",
      "text/plain": [
       "<Figure size 640x480 with 1 Axes>"
      ]
     },
     "metadata": {},
     "output_type": "display_data"
    }
   ],
   "source": [
    "sns.countplot(data=df_main,x='Embarked',hue='Survived')\n",
    "plt.title(\"Survival Count by Embarkation Point\")\n",
    "plt.xlabel(\"Embarked\")\n",
    "plt.ylabel(\"Count\")\n",
    "plt.legend(title='Survived', labels=['No', 'Yes'])\n",
    "plt.show()"
   ]
  },
  {
   "cell_type": "markdown",
   "id": "388e8cd5",
   "metadata": {},
   "source": [
    "Passengers who embarked from c had the highest survival rate"
   ]
  },
  {
   "cell_type": "code",
   "execution_count": 36,
   "id": "becc7175",
   "metadata": {},
   "outputs": [
    {
     "data": {
      "image/png": "[encoded data removed]",
      "text/plain": [
       "<Figure size 640x480 with 1 Axes>"
      ]
     },
     "metadata": {},
     "output_type": "display_data"
    }
   ],
   "source": [
    "sns.boxenplot(data=df_main,x='Survived',y='Age')\n",
    "plt.title(\"Age by Survival Status\")\n",
    "plt.xticks([0, 1], ['Not Survived', 'Survived'])\n",
    "plt.show()\n"
   ]
  },
  {
   "cell_type": "markdown",
   "id": "89a8136e",
   "metadata": {},
   "source": [
    "Children had relatively higher survival rates"
   ]
  },
  {
   "cell_type": "code",
   "execution_count": 37,
   "id": "4a8ea4ef",
   "metadata": {},
   "outputs": [
    {
     "data": {
      "image/png": "[encoded data removed]",
      "text/plain": [
       "<Figure size 640x480 with 1 Axes>"
      ]
     },
     "metadata": {},
     "output_type": "display_data"
    }
   ],
   "source": [
    "sns.kdeplot(data=df_main[df_main['Survived']==0]['Age'],label='Survived')\n",
    "sns.kdeplot(data=df_main[df_main['Survived']==1]['Age'],label='Survived')\n",
    "plt.title(\"Age Distribution analysis for Survived vs Not Survived\")\n",
    "plt.xlabel(\"Age\")\n",
    "plt.xlim(0, df_main['Age'].max())\n",
    "plt.legend()\n",
    "plt.show()\n"
   ]
  },
  {
   "cell_type": "markdown",
   "id": "12b9f54c",
   "metadata": {},
   "source": [
    "Children had relatively higher survival rates"
   ]
  },
  {
   "cell_type": "code",
   "execution_count": 38,
   "id": "31b68df6",
   "metadata": {},
   "outputs": [
    {
     "data": {
      "image/png": "[encoded data removed]",
      "text/plain": [
       "<Figure size 640x480 with 1 Axes>"
      ]
     },
     "metadata": {},
     "output_type": "display_data"
    }
   ],
   "source": [
    "sns.boxplot(data=df_main,x='Survived',y='Fare')\n",
    "plt.title(\"Fare by Survival Status\")\n",
    "plt.xticks([0, 1], ['Not Survived', 'Survived'])\n",
    "plt.show()\n"
   ]
  },
  {
   "cell_type": "code",
   "execution_count": 39,
   "id": "e5228e8e",
   "metadata": {},
   "outputs": [
    {
     "data": {
      "image/png": "[encoded data removed]",
      "text/plain": [
       "<Figure size 640x480 with 1 Axes>"
      ]
     },
     "metadata": {},
     "output_type": "display_data"
    }
   ],
   "source": [
    "sns.scatterplot(data=df_main,x='Fare', y='Survived', hue='Sex', palette='Set1')\n",
    "plt.title(\"Fare vs Survival\")\n",
    "plt.xlabel(\"Fare\")\n",
    "plt.ylabel(\"Survived\")\n",
    "plt.show()"
   ]
  },
  {
   "cell_type": "code",
   "execution_count": 40,
   "id": "8596262d",
   "metadata": {},
   "outputs": [
    {
     "data": {
      "image/png": "[encoded data removed]",
      "text/plain": [
       "<Figure size 640x480 with 1 Axes>"
      ]
     },
     "metadata": {},
     "output_type": "display_data"
    }
   ],
   "source": [
    "sns.countplot(data=df, x='Embarked', hue='Survived')\n",
    "plt.title(\"Survival Count by Embarkation Point\")\n",
    "plt.xlabel(\"Embarked\")\n",
    "plt.ylabel(\"Count\")\n",
    "plt.legend(title='Survived', labels=['No', 'Yes'])\n",
    "plt.show()"
   ]
  },
  {
   "cell_type": "code",
   "execution_count": null,
   "id": "f11af463",
   "metadata": {},
   "outputs": [
    {
     "data": {
      "image/png": "[encoded data removed]",
      "text/plain": [
       "<Figure size 1072.11x500 with 2 Axes>"
      ]
     },
     "metadata": {},
     "output_type": "display_data"
    }
   ],
   "source": [
    "sns.catplot(data=df_main,col='Sex',x=\"Pclass\",hue='Survived',kind=\"count\" ,palette=\"pastel\" )\n",
    "plt.suptitle(\"Survival Count by Pclass and Gender\",y=1.05)\n",
    "plt.show()\n"
   ]
  },
  {
   "cell_type": "code",
   "execution_count": null,
   "id": "a665b1e6",
   "metadata": {},
   "outputs": [
    {
     "data": {
      "application/vnd.plotly.v1+json": {
       "config": {
        "plotlyServerURL": "https://plot.ly"
       },
       "data": [
        {
         "alignmentgroup": "True",
         "bingroup": "x",
         "hovertemplate": "Survived=0<br>Sex=male<br>Pclass=%{x}<br>count=%{y}<extra></extra>",
         "legendgroup": "0",
         "marker": {
          "color": "rgb(102, 197, 204)",
          "pattern": {
           "shape": ""
          }
         },
         "name": "0",
         "offsetgroup": "0",
         "orientation": "v",
         "showlegend": true,
         "type": "histogram",
         "x": {
          "bdata": "AwIDAwIDAwECAgMBAwEDAwEDAgIBAwMDAwEDAwEDAQICAwMDAwMCAwEBAQMBAQMCAwEBAwIDAgMDAQMDAwIDAwMDAwMCAgMDAQMDAwMCAwMBAwMDAwIDAQIBAwEDAQIDAwMDAQMDAgEDAwMDAwMBAgEDAgMCAgEDAgIDAQIDAQIBAgMDAwIBAQMDAwMDAgIDAwEDAQMBAwMBAgMBAwMDAwMDAwMCAwEDAwEDAwICAgIDAwMBAwMBAwEDAwMBAwMCAgMBAwEDAwMBAgMCAwMCAQMBAgIBAwMBAgMCAwIDAwMCAgICAgEDAwMDAwICAQICAQMDAwIDAgMDAQMCAwMDAwIBAQICAQMDAwM=",
          "dtype": "i1"
         },
         "xaxis": "x",
         "yaxis": "y"
        },
        {
         "alignmentgroup": "True",
         "bingroup": "x",
         "hovertemplate": "Survived=1<br>Sex=female<br>Pclass=%{x}<br>count=%{y}<extra></extra>",
         "legendgroup": "1",
         "marker": {
          "color": "rgb(246, 207, 113)",
          "pattern": {
           "shape": ""
          }
         },
         "name": "1",
         "offsetgroup": "1",
         "orientation": "v",
         "showlegend": true,
         "type": "histogram",
         "x": {
          "bdata": "AwMDAwEBAgMDAQEBAwMDAwIBAQMCAQEDAgMBAwMBAQMDAwMDAQEDAQMDAQMBAwICAQMDAwMDAQEDAQMDAwIDAQMCAgIBAQECAwMDAwIDAQIDAwECAgEDAwECAQECAgIDAgICAwMBAwIDAwMDAwIDAQMDAQMBAgIDAQMDAgEDAQMCAgEDAwEBAQEDAwMCAQEBAQEDAwMBAwE=",
          "dtype": "i1"
         },
         "xaxis": "x2",
         "yaxis": "y2"
        }
       ],
       "layout": {
        "annotations": [
         {
          "font": {},
          "showarrow": false,
          "text": "Sex=male",
          "x": 0.245,
          "xanchor": "center",
          "xref": "paper",
          "y": 1,
          "yanchor": "bottom",
          "yref": "paper"
         },
         {
          "font": {},
          "showarrow": false,
          "text": "Sex=female",
          "x": 0.755,
          "xanchor": "center",
          "xref": "paper",
          "y": 1,
          "yanchor": "bottom",
          "yref": "paper"
         }
        ],
        "barmode": "group",
        "legend": {
         "title": {
          "text": "Survived"
         },
         "tracegroupgap": 0
        },
        "margin": {
         "t": 60
        },
        "template": {
         "data": {
          "bar": [
           {
            "error_x": {
             "color": "#2a3f5f"
            },
            "error_y": {
             "color": "#2a3f5f"
            },
            "marker": {
             "line": {
              "color": "#E5ECF6",
              "width": 0.5
             },
             "pattern": {
              "fillmode": "overlay",
              "size": 10,
              "solidity": 0.2
             }
            },
            "type": "bar"
           }
          ],
          "barpolar": [
           {
            "marker": {
             "line": {
              "color": "#E5ECF6",
              "width": 0.5
             },
             "pattern": {
              "fillmode": "overlay",
              "size": 10,
              "solidity": 0.2
             }
            },
            "type": "barpolar"
           }
          ],
          "carpet": [
           {
            "aaxis": {
             "endlinecolor": "#2a3f5f",
             "gridcolor": "white",
             "linecolor": "white",
             "minorgridcolor": "white",
             "startlinecolor": "#2a3f5f"
            },
            "baxis": {
             "endlinecolor": "#2a3f5f",
             "gridcolor": "white",
             "linecolor": "white",
             "minorgridcolor": "white",
             "startlinecolor": "#2a3f5f"
            },
            "type": "carpet"
           }
          ],
          "choropleth": [
           {
            "colorbar": {
             "outlinewidth": 0,
             "ticks": ""
            },
            "type": "choropleth"
           }
          ],
          "contour": [
           {
            "colorbar": {
             "outlinewidth": 0,
             "ticks": ""
            },
            "colorscale": [
             [
              0,
              "#0d0887"
             ],
             [
              0.1111111111111111,
              "#46039f"
             ],
             [
              0.2222222222222222,
              "#7201a8"
             ],
             [
              0.3333333333333333,
              "#9c179e"
             ],
             [
              0.4444444444444444,
              "#bd3786"
             ],
             [
              0.5555555555555556,
              "#d8576b"
             ],
             [
              0.6666666666666666,
              "#ed7953"
             ],
             [
              0.7777777777777778,
              "#fb9f3a"
             ],
             [
              0.8888888888888888,
              "#fdca26"
             ],
             [
              1,
              "#f0f921"
             ]
            ],
            "type": "contour"
           }
          ],
          "contourcarpet": [
           {
            "colorbar": {
             "outlinewidth": 0,
             "ticks": ""
            },
            "type": "contourcarpet"
           }
          ],
          "heatmap": [
           {
            "colorbar": {
             "outlinewidth": 0,
             "ticks": ""
            },
            "colorscale": [
             [
              0,
              "#0d0887"
             ],
             [
              0.1111111111111111,
              "#46039f"
             ],
             [
              0.2222222222222222,
              "#7201a8"
             ],
             [
              0.3333333333333333,
              "#9c179e"
             ],
             [
              0.4444444444444444,
              "#bd3786"
             ],
             [
              0.5555555555555556,
              "#d8576b"
             ],
             [
              0.6666666666666666,
              "#ed7953"
             ],
             [
              0.7777777777777778,
              "#fb9f3a"
             ],
             [
              0.8888888888888888,
              "#fdca26"
             ],
             [
              1,
              "#f0f921"
             ]
            ],
            "type": "heatmap"
           }
          ],
          "histogram": [
           {
            "marker": {
             "pattern": {
              "fillmode": "overlay",
              "size": 10,
              "solidity": 0.2
             }
            },
            "type": "histogram"
           }
          ],
          "histogram2d": [
           {
            "colorbar": {
             "outlinewidth": 0,
             "ticks": ""
            },
            "colorscale": [
             [
              0,
              "#0d0887"
             ],
             [
              0.1111111111111111,
              "#46039f"
             ],
             [
              0.2222222222222222,
              "#7201a8"
             ],
             [
              0.3333333333333333,
              "#9c179e"
             ],
             [
              0.4444444444444444,
              "#bd3786"
             ],
             [
              0.5555555555555556,
              "#d8576b"
             ],
             [
              0.6666666666666666,
              "#ed7953"
             ],
             [
              0.7777777777777778,
              "#fb9f3a"
             ],
             [
              0.8888888888888888,
              "#fdca26"
             ],
             [
              1,
              "#f0f921"
             ]
            ],
            "type": "histogram2d"
           }
          ],
          "histogram2dcontour": [
           {
            "colorbar": {
             "outlinewidth": 0,
             "ticks": ""
            },
            "colorscale": [
             [
              0,
              "#0d0887"
             ],
             [
              0.1111111111111111,
              "#46039f"
             ],
             [
              0.2222222222222222,
              "#7201a8"
             ],
             [
              0.3333333333333333,
              "#9c179e"
             ],
             [
              0.4444444444444444,
              "#bd3786"
             ],
             [
              0.5555555555555556,
              "#d8576b"
             ],
             [
              0.6666666666666666,
              "#ed7953"
             ],
             [
              0.7777777777777778,
              "#fb9f3a"
             ],
             [
              0.8888888888888888,
              "#fdca26"
             ],
             [
              1,
              "#f0f921"
             ]
            ],
            "type": "histogram2dcontour"
           }
          ],
          "mesh3d": [
           {
            "colorbar": {
             "outlinewidth": 0,
             "ticks": ""
            },
            "type": "mesh3d"
           }
          ],
          "parcoords": [
           {
            "line": {
             "colorbar": {
              "outlinewidth": 0,
              "ticks": ""
             }
            },
            "type": "parcoords"
           }
          ],
          "pie": [
           {
            "automargin": true,
            "type": "pie"
           }
          ],
          "scatter": [
           {
            "fillpattern": {
             "fillmode": "overlay",
             "size": 10,
             "solidity": 0.2
            },
            "type": "scatter"
           }
          ],
          "scatter3d": [
           {
            "line": {
             "colorbar": {
              "outlinewidth": 0,
              "ticks": ""
             }
            },
            "marker": {
             "colorbar": {
              "outlinewidth": 0,
              "ticks": ""
             }
            },
            "type": "scatter3d"
           }
          ],
          "scattercarpet": [
           {
            "marker": {
             "colorbar": {
              "outlinewidth": 0,
              "ticks": ""
             }
            },
            "type": "scattercarpet"
           }
          ],
          "scattergeo": [
           {
            "marker": {
             "colorbar": {
              "outlinewidth": 0,
              "ticks": ""
             }
            },
            "type": "scattergeo"
           }
          ],
          "scattergl": [
           {
            "marker": {
             "colorbar": {
              "outlinewidth": 0,
              "ticks": ""
             }
            },
            "type": "scattergl"
           }
          ],
          "scattermap": [
           {
            "marker": {
             "colorbar": {
              "outlinewidth": 0,
              "ticks": ""
             }
            },
            "type": "scattermap"
           }
          ],
          "scattermapbox": [
           {
            "marker": {
             "colorbar": {
              "outlinewidth": 0,
              "ticks": ""
             }
            },
            "type": "scattermapbox"
           }
          ],
          "scatterpolar": [
           {
            "marker": {
             "colorbar": {
              "outlinewidth": 0,
              "ticks": ""
             }
            },
            "type": "scatterpolar"
           }
          ],
          "scatterpolargl": [
           {
            "marker": {
             "colorbar": {
              "outlinewidth": 0,
              "ticks": ""
             }
            },
            "type": "scatterpolargl"
           }
          ],
          "scatterternary": [
           {
            "marker": {
             "colorbar": {
              "outlinewidth": 0,
              "ticks": ""
             }
            },
            "type": "scatterternary"
           }
          ],
          "surface": [
           {
            "colorbar": {
             "outlinewidth": 0,
             "ticks": ""
            },
            "colorscale": [
             [
              0,
              "#0d0887"
             ],
             [
              0.1111111111111111,
              "#46039f"
             ],
             [
              0.2222222222222222,
              "#7201a8"
             ],
             [
              0.3333333333333333,
              "#9c179e"
             ],
             [
              0.4444444444444444,
              "#bd3786"
             ],
             [
              0.5555555555555556,
              "#d8576b"
             ],
             [
              0.6666666666666666,
              "#ed7953"
             ],
             [
              0.7777777777777778,
              "#fb9f3a"
             ],
             [
              0.8888888888888888,
              "#fdca26"
             ],
             [
              1,
              "#f0f921"
             ]
            ],
            "type": "surface"
           }
          ],
          "table": [
           {
            "cells": {
             "fill": {
              "color": "#EBF0F8"
             },
             "line": {
              "color": "white"
             }
            },
            "header": {
             "fill": {
              "color": "#C8D4E3"
             },
             "line": {
              "color": "white"
             }
            },
            "type": "table"
           }
          ]
         },
         "layout": {
          "annotationdefaults": {
           "arrowcolor": "#2a3f5f",
           "arrowhead": 0,
           "arrowwidth": 1
          },
          "autotypenumbers": "strict",
          "coloraxis": {
           "colorbar": {
            "outlinewidth": 0,
            "ticks": ""
           }
          },
          "colorscale": {
           "diverging": [
            [
             0,
             "#8e0152"
            ],
            [
             0.1,
             "#c51b7d"
            ],
            [
             0.2,
             "#de77ae"
            ],
            [
             0.3,
             "#f1b6da"
            ],
            [
             0.4,
             "#fde0ef"
            ],
            [
             0.5,
             "#f7f7f7"
            ],
            [
             0.6,
             "#e6f5d0"
            ],
            [
             0.7,
             "#b8e186"
            ],
            [
             0.8,
             "#7fbc41"
            ],
            [
             0.9,
             "#4d9221"
            ],
            [
             1,
             "#276419"
            ]
           ],
           "sequential": [
            [
             0,
             "#0d0887"
            ],
            [
             0.1111111111111111,
             "#46039f"
            ],
            [
             0.2222222222222222,
             "#7201a8"
            ],
            [
             0.3333333333333333,
             "#9c179e"
            ],
            [
             0.4444444444444444,
             "#bd3786"
            ],
            [
             0.5555555555555556,
             "#d8576b"
            ],
            [
             0.6666666666666666,
             "#ed7953"
            ],
            [
             0.7777777777777778,
             "#fb9f3a"
            ],
            [
             0.8888888888888888,
             "#fdca26"
            ],
            [
             1,
             "#f0f921"
            ]
           ],
           "sequentialminus": [
            [
             0,
             "#0d0887"
            ],
            [
             0.1111111111111111,
             "#46039f"
            ],
            [
             0.2222222222222222,
             "#7201a8"
            ],
            [
             0.3333333333333333,
             "#9c179e"
            ],
            [
             0.4444444444444444,
             "#bd3786"
            ],
            [
             0.5555555555555556,
             "#d8576b"
            ],
            [
             0.6666666666666666,
             "#ed7953"
            ],
            [
             0.7777777777777778,
             "#fb9f3a"
            ],
            [
             0.8888888888888888,
             "#fdca26"
            ],
            [
             1,
             "#f0f921"
            ]
           ]
          },
          "colorway": [
           "#636efa",
           "#EF553B",
           "#00cc96",
           "#ab63fa",
           "#FFA15A",
           "#19d3f3",
           "#FF6692",
           "#B6E880",
           "#FF97FF",
           "#FECB52"
          ],
          "font": {
           "color": "#2a3f5f"
          },
          "geo": {
           "bgcolor": "white",
           "lakecolor": "white",
           "landcolor": "#E5ECF6",
           "showlakes": true,
           "showland": true,
           "subunitcolor": "white"
          },
          "hoverlabel": {
           "align": "left"
          },
          "hovermode": "closest",
          "mapbox": {
           "style": "light"
          },
          "paper_bgcolor": "white",
          "plot_bgcolor": "#E5ECF6",
          "polar": {
           "angularaxis": {
            "gridcolor": "white",
            "linecolor": "white",
            "ticks": ""
           },
           "bgcolor": "#E5ECF6",
           "radialaxis": {
            "gridcolor": "white",
            "linecolor": "white",
            "ticks": ""
           }
          },
          "scene": {
           "xaxis": {
            "backgroundcolor": "#E5ECF6",
            "gridcolor": "white",
            "gridwidth": 2,
            "linecolor": "white",
            "showbackground": true,
            "ticks": "",
            "zerolinecolor": "white"
           },
           "yaxis": {
            "backgroundcolor": "#E5ECF6",
            "gridcolor": "white",
            "gridwidth": 2,
            "linecolor": "white",
            "showbackground": true,
            "ticks": "",
            "zerolinecolor": "white"
           },
           "zaxis": {
            "backgroundcolor": "#E5ECF6",
            "gridcolor": "white",
            "gridwidth": 2,
            "linecolor": "white",
            "showbackground": true,
            "ticks": "",
            "zerolinecolor": "white"
           }
          },
          "shapedefaults": {
           "line": {
            "color": "#2a3f5f"
           }
          },
          "ternary": {
           "aaxis": {
            "gridcolor": "white",
            "linecolor": "white",
            "ticks": ""
           },
           "baxis": {
            "gridcolor": "white",
            "linecolor": "white",
            "ticks": ""
           },
           "bgcolor": "#E5ECF6",
           "caxis": {
            "gridcolor": "white",
            "linecolor": "white",
            "ticks": ""
           }
          },
          "title": {
           "x": 0.05
          },
          "xaxis": {
           "automargin": true,
           "gridcolor": "white",
           "linecolor": "white",
           "ticks": "",
           "title": {
            "standoff": 15
           },
           "zerolinecolor": "white",
           "zerolinewidth": 2
          },
          "yaxis": {
           "automargin": true,
           "gridcolor": "white",
           "linecolor": "white",
           "ticks": "",
           "title": {
            "standoff": 15
           },
           "zerolinecolor": "white",
           "zerolinewidth": 2
          }
         }
        },
        "title": {
         "text": "Survival Count by Pclass and Gender",
         "x": 0.5
        },
        "xaxis": {
         "anchor": "y",
         "domain": [
          0,
          0.49
         ],
         "title": {
          "text": "Pclass"
         }
        },
        "xaxis2": {
         "anchor": "y2",
         "domain": [
          0.51,
          1
         ],
         "matches": "x",
         "title": {
          "text": "Pclass"
         }
        },
        "yaxis": {
         "anchor": "x",
         "domain": [
          0,
          1
         ],
         "title": {
          "text": "count"
         }
        },
        "yaxis2": {
         "anchor": "x2",
         "domain": [
          0,
          1
         ],
         "matches": "y",
         "showticklabels": false
        }
       }
      }
     },
     "metadata": {},
     "output_type": "display_data"
    }
   ],
   "source": [
    "fig_catplot = px.histogram(df_main,x=\"Pclass\", color=\"Survived\", facet_col=\"Sex\", barmode=\"group\", color_discrete_sequence=px.colors.qualitative.Pastel\n",
    ")\n",
    "\n",
    "fig_catplot.update_layout( title_text=\"Survival Count by Pclass and Gender\", title_x=0.5\n",
    ")\n",
    "\n",
    "fig_catplot.show()"
   ]
  },
  {
   "cell_type": "code",
   "execution_count": 42,
   "id": "43b1bacd",
   "metadata": {},
   "outputs": [
    {
     "data": {
      "application/vnd.plotly.v1+json": {
       "config": {
        "plotlyServerURL": "https://plot.ly"
       },
       "data": [
        {
         "customdata": [
          [
           892,
           0,
           3,
           "Kelly, Mr. James",
           "male",
           0,
           0,
           "330911",
           null,
           "Q",
           "1912-04-10T00:00:00"
          ],
          [
           893,
           1,
           3,
           "Wilkes, Mrs. James (Ellen Needs)",
           "female",
           1,
           0,
           "363272",
           null,
           "S",
           "1912-04-11T00:00:00"
          ],
          [
           894,
           0,
           2,
           "Myles, Mr. Thomas Francis",
           "male",
           0,
           0,
           "240276",
           null,
           "Q",
           "1912-04-12T00:00:00"
          ],
          [
           895,
           0,
           3,
           "Wirz, Mr. Albert",
           "male",
           0,
           0,
           "315154",
           null,
           "S",
           "1912-04-13T00:00:00"
          ],
          [
           896,
           1,
           3,
           "Hirvonen, Mrs. Alexander (Helga E Lindqvist)",
           "female",
           1,
           1,
           "3101298",
           null,
           "S",
           "1912-04-14T00:00:00"
          ],
          [
           897,
           0,
           3,
           "Svensson, Mr. Johan Cervin",
           "male",
           0,
           0,
           "7538",
           null,
           "S",
           "1912-04-15T00:00:00"
          ],
          [
           898,
           1,
           3,
           "Connolly, Miss. Kate",
           "female",
           0,
           0,
           "330972",
           null,
           "Q",
           "1912-04-16T00:00:00"
          ],
          [
           899,
           0,
           2,
           "Caldwell, Mr. Albert Francis",
           "male",
           1,
           1,
           "248738",
           null,
           "S",
           "1912-04-17T00:00:00"
          ],
          [
           900,
           1,
           3,
           "Abrahim, Mrs. Joseph (Sophie Halaut Easu)",
           "female",
           0,
           0,
           "2657",
           null,
           "C",
           "1912-04-18T00:00:00"
          ],
          [
           901,
           0,
           3,
           "Davies, Mr. John Samuel",
           "male",
           2,
           0,
           "A/4 48871",
           null,
           "S",
           "1912-04-19T00:00:00"
          ],
          [
           902,
           0,
           3,
           "Ilieff, Mr. Ylio",
           "male",
           0,
           0,
           "349220",
           null,
           "S",
           "1912-04-20T00:00:00"
          ],
          [
           903,
           0,
           1,
           "Jones, Mr. Charles Cresson",
           "male",
           0,
           0,
           "694",
           null,
           "S",
           "1912-04-21T00:00:00"
          ],
          [
           904,
           1,
           1,
           "Snyder, Mrs. John Pillsbury (Nelle Stevenson)",
           "female",
           1,
           0,
           "21228",
           "B45",
           "S",
           "1912-04-22T00:00:00"
          ],
          [
           905,
           0,
           2,
           "Howard, Mr. Benjamin",
           "male",
           1,
           0,
           "24065",
           null,
           "S",
           "1912-04-23T00:00:00"
          ],
          [
           906,
           1,
           1,
           "Chaffee, Mrs. Herbert Fuller (Carrie Constance Toogood)",
           "female",
           1,
           0,
           "W.E.P. 5734",
           "E31",
           "S",
           "1912-04-24T00:00:00"
          ],
          [
           907,
           1,
           2,
           "del Carlo, Mrs. Sebastiano (Argenia Genovesi)",
           "female",
           1,
           0,
           "SC/PARIS 2167",
           null,
           "C",
           "1912-04-25T00:00:00"
          ],
          [
           908,
           0,
           2,
           "Keane, Mr. Daniel",
           "male",
           0,
           0,
           "233734",
           null,
           "Q",
           "1912-04-26T00:00:00"
          ],
          [
           909,
           0,
           3,
           "Assaf, Mr. Gerios",
           "male",
           0,
           0,
           "2692",
           null,
           "C",
           "1912-04-27T00:00:00"
          ],
          [
           910,
           1,
           3,
           "Ilmakangas, Miss. Ida Livija",
           "female",
           1,
           0,
           "STON/O2. 3101270",
           null,
           "S",
           "1912-04-28T00:00:00"
          ],
          [
           911,
           1,
           3,
           "Assaf Khalil, Mrs. Mariana (Miriam\")\"",
           "female",
           0,
           0,
           "2696",
           null,
           "C",
           "1912-04-29T00:00:00"
          ],
          [
           912,
           0,
           1,
           "Rothschild, Mr. Martin",
           "male",
           1,
           0,
           "PC 17603",
           null,
           "C",
           "1912-04-30T00:00:00"
          ],
          [
           913,
           0,
           3,
           "Olsen, Master. Artur Karl",
           "male",
           0,
           1,
           "C 17368",
           null,
           "S",
           "1912-05-01T00:00:00"
          ],
          [
           914,
           1,
           1,
           "Flegenheim, Mrs. Alfred (Antoinette)",
           "female",
           0,
           0,
           "PC 17598",
           null,
           "S",
           "1912-05-02T00:00:00"
          ],
          [
           915,
           0,
           1,
           "Williams, Mr. Richard Norris II",
           "male",
           0,
           1,
           "PC 17597",
           null,
           "C",
           "1912-05-03T00:00:00"
          ],
          [
           916,
           1,
           1,
           "Ryerson, Mrs. Arthur Larned (Emily Maria Borie)",
           "female",
           1,
           3,
           "PC 17608",
           "B57 B59 B63 B66",
           "C",
           "1912-05-04T00:00:00"
          ],
          [
           917,
           0,
           3,
           "Robins, Mr. Alexander A",
           "male",
           1,
           0,
           "A/5. 3337",
           null,
           "S",
           "1912-05-05T00:00:00"
          ],
          [
           918,
           1,
           1,
           "Ostby, Miss. Helene Ragnhild",
           "female",
           0,
           1,
           "113509",
           "B36",
           "C",
           "1912-05-06T00:00:00"
          ],
          [
           919,
           0,
           3,
           "Daher, Mr. Shedid",
           "male",
           0,
           0,
           "2698",
           null,
           "C",
           "1912-05-07T00:00:00"
          ],
          [
           920,
           0,
           1,
           "Brady, Mr. John Bertram",
           "male",
           0,
           0,
           "113054",
           "A21",
           "S",
           "1912-05-08T00:00:00"
          ],
          [
           921,
           0,
           3,
           "Samaan, Mr. Elias",
           "male",
           2,
           0,
           "2662",
           null,
           "C",
           "1912-05-09T00:00:00"
          ],
          [
           922,
           0,
           2,
           "Louch, Mr. Charles Alexander",
           "male",
           1,
           0,
           "SC/AH 3085",
           null,
           "S",
           "1912-05-10T00:00:00"
          ],
          [
           923,
           0,
           2,
           "Jefferys, Mr. Clifford Thomas",
           "male",
           2,
           0,
           "C.A. 31029",
           null,
           "S",
           "1912-05-11T00:00:00"
          ],
          [
           924,
           1,
           3,
           "Dean, Mrs. Bertram (Eva Georgetta Light)",
           "female",
           1,
           2,
           "C.A. 2315",
           null,
           "S",
           "1912-05-12T00:00:00"
          ],
          [
           925,
           1,
           3,
           "Johnston, Mrs. Andrew G (Elizabeth Lily\" Watson)\"",
           "female",
           1,
           2,
           "W./C. 6607",
           null,
           "S",
           "1912-05-13T00:00:00"
          ],
          [
           926,
           0,
           1,
           "Mock, Mr. Philipp Edmund",
           "male",
           1,
           0,
           "13236",
           "C78",
           "C",
           "1912-05-14T00:00:00"
          ],
          [
           927,
           0,
           3,
           "Katavelas, Mr. Vassilios (Catavelas Vassilios\")\"",
           "male",
           0,
           0,
           "2682",
           null,
           "C",
           "1912-05-15T00:00:00"
          ],
          [
           928,
           1,
           3,
           "Roth, Miss. Sarah A",
           "female",
           0,
           0,
           "342712",
           null,
           "S",
           "1912-05-16T00:00:00"
          ],
          [
           929,
           1,
           3,
           "Cacic, Miss. Manda",
           "female",
           0,
           0,
           "315087",
           null,
           "S",
           "1912-05-17T00:00:00"
          ],
          [
           930,
           0,
           3,
           "Sap, Mr. Julius",
           "male",
           0,
           0,
           "345768",
           null,
           "S",
           "1912-05-18T00:00:00"
          ],
          [
           931,
           0,
           3,
           "Hee, Mr. Ling",
           "male",
           0,
           0,
           "1601",
           null,
           "S",
           "1912-05-19T00:00:00"
          ],
          [
           932,
           0,
           3,
           "Karun, Mr. Franz",
           "male",
           0,
           1,
           "349256",
           null,
           "C",
           "1912-05-20T00:00:00"
          ],
          [
           933,
           0,
           1,
           "Franklin, Mr. Thomas Parham",
           "male",
           0,
           0,
           "113778",
           "D34",
           "S",
           "1912-05-21T00:00:00"
          ],
          [
           934,
           0,
           3,
           "Goldsmith, Mr. Nathan",
           "male",
           0,
           0,
           "SOTON/O.Q. 3101263",
           null,
           "S",
           "1912-05-22T00:00:00"
          ],
          [
           935,
           1,
           2,
           "Corbett, Mrs. Walter H (Irene Colvin)",
           "female",
           0,
           0,
           "237249",
           null,
           "S",
           "1912-05-23T00:00:00"
          ],
          [
           936,
           1,
           1,
           "Kimball, Mrs. Edwin Nelson Jr (Gertrude Parsons)",
           "female",
           1,
           0,
           "11753",
           "D19",
           "S",
           "1912-05-24T00:00:00"
          ],
          [
           937,
           0,
           3,
           "Peltomaki, Mr. Nikolai Johannes",
           "male",
           0,
           0,
           "STON/O 2. 3101291",
           null,
           "S",
           "1912-05-25T00:00:00"
          ],
          [
           938,
           0,
           1,
           "Chevre, Mr. Paul Romaine",
           "male",
           0,
           0,
           "PC 17594",
           "A9",
           "C",
           "1912-05-26T00:00:00"
          ],
          [
           939,
           0,
           3,
           "Shaughnessy, Mr. Patrick",
           "male",
           0,
           0,
           "370374",
           null,
           "Q",
           "1912-05-27T00:00:00"
          ],
          [
           940,
           1,
           1,
           "Bucknell, Mrs. William Robert (Emma Eliza Ward)",
           "female",
           0,
           0,
           "11813",
           "D15",
           "C",
           "1912-05-28T00:00:00"
          ],
          [
           941,
           1,
           3,
           "Coutts, Mrs. William (Winnie Minnie\" Treanor)\"",
           "female",
           0,
           2,
           "C.A. 37671",
           null,
           "S",
           "1912-05-29T00:00:00"
          ],
          [
           942,
           0,
           1,
           "Smith, Mr. Lucien Philip",
           "male",
           1,
           0,
           "13695",
           "C31",
           "S",
           "1912-05-30T00:00:00"
          ],
          [
           943,
           0,
           2,
           "Pulbaum, Mr. Franz",
           "male",
           0,
           0,
           "SC/PARIS 2168",
           null,
           "C",
           "1912-05-31T00:00:00"
          ],
          [
           944,
           1,
           2,
           "Hocking, Miss. Ellen Nellie\"\"",
           "female",
           2,
           1,
           "29105",
           null,
           "S",
           "1912-06-01T00:00:00"
          ],
          [
           945,
           1,
           1,
           "Fortune, Miss. Ethel Flora",
           "female",
           3,
           2,
           "19950",
           "C23 C25 C27",
           "S",
           "1912-06-02T00:00:00"
          ],
          [
           946,
           0,
           2,
           "Mangiavacchi, Mr. Serafino Emilio",
           "male",
           0,
           0,
           "SC/A.3 2861",
           null,
           "C",
           "1912-06-03T00:00:00"
          ],
          [
           947,
           0,
           3,
           "Rice, Master. Albert",
           "male",
           4,
           1,
           "382652",
           null,
           "Q",
           "1912-06-04T00:00:00"
          ],
          [
           948,
           0,
           3,
           "Cor, Mr. Bartol",
           "male",
           0,
           0,
           "349230",
           null,
           "S",
           "1912-06-05T00:00:00"
          ],
          [
           949,
           0,
           3,
           "Abelseth, Mr. Olaus Jorgensen",
           "male",
           0,
           0,
           "348122",
           "F G63",
           "S",
           "1912-06-06T00:00:00"
          ],
          [
           950,
           0,
           3,
           "Davison, Mr. Thomas Henry",
           "male",
           1,
           0,
           "386525",
           null,
           "S",
           "1912-06-07T00:00:00"
          ],
          [
           951,
           1,
           1,
           "Chaudanson, Miss. Victorine",
           "female",
           0,
           0,
           "PC 17608",
           "B61",
           "C",
           "1912-06-08T00:00:00"
          ],
          [
           952,
           0,
           3,
           "Dika, Mr. Mirko",
           "male",
           0,
           0,
           "349232",
           null,
           "S",
           "1912-06-09T00:00:00"
          ],
          [
           953,
           0,
           2,
           "McCrae, Mr. Arthur Gordon",
           "male",
           0,
           0,
           "237216",
           null,
           "S",
           "1912-06-10T00:00:00"
          ],
          [
           954,
           0,
           3,
           "Bjorklund, Mr. Ernst Herbert",
           "male",
           0,
           0,
           "347090",
           null,
           "S",
           "1912-06-11T00:00:00"
          ],
          [
           955,
           1,
           3,
           "Bradley, Miss. Bridget Delia",
           "female",
           0,
           0,
           "334914",
           null,
           "Q",
           "1912-06-12T00:00:00"
          ],
          [
           956,
           0,
           1,
           "Ryerson, Master. John Borie",
           "male",
           2,
           2,
           "PC 17608",
           "B57 B59 B63 B66",
           "C",
           "1912-06-13T00:00:00"
          ],
          [
           957,
           1,
           2,
           "Corey, Mrs. Percy C (Mary Phyllis Elizabeth Miller)",
           "female",
           0,
           0,
           "F.C.C. 13534",
           null,
           "S",
           "1912-06-14T00:00:00"
          ],
          [
           958,
           1,
           3,
           "Burns, Miss. Mary Delia",
           "female",
           0,
           0,
           "330963",
           null,
           "Q",
           "1912-06-15T00:00:00"
          ],
          [
           959,
           0,
           1,
           "Moore, Mr. Clarence Bloomfield",
           "male",
           0,
           0,
           "113796",
           null,
           "S",
           "1912-06-16T00:00:00"
          ],
          [
           960,
           0,
           1,
           "Tucker, Mr. Gilbert Milligan Jr",
           "male",
           0,
           0,
           "2543",
           "C53",
           "C",
           "1912-06-17T00:00:00"
          ],
          [
           961,
           1,
           1,
           "Fortune, Mrs. Mark (Mary McDougald)",
           "female",
           1,
           4,
           "19950",
           "C23 C25 C27",
           "S",
           "1912-06-18T00:00:00"
          ],
          [
           962,
           1,
           3,
           "Mulvihill, Miss. Bertha E",
           "female",
           0,
           0,
           "382653",
           null,
           "Q",
           "1912-06-19T00:00:00"
          ],
          [
           963,
           0,
           3,
           "Minkoff, Mr. Lazar",
           "male",
           0,
           0,
           "349211",
           null,
           "S",
           "1912-06-20T00:00:00"
          ],
          [
           964,
           1,
           3,
           "Nieminen, Miss. Manta Josefina",
           "female",
           0,
           0,
           "3101297",
           null,
           "S",
           "1912-06-21T00:00:00"
          ],
          [
           965,
           0,
           1,
           "Ovies y Rodriguez, Mr. Servando",
           "male",
           0,
           0,
           "PC 17562",
           "D43",
           "C",
           "1912-06-22T00:00:00"
          ],
          [
           966,
           1,
           1,
           "Geiger, Miss. Amalie",
           "female",
           0,
           0,
           "113503",
           "C130",
           "C",
           "1912-06-23T00:00:00"
          ],
          [
           967,
           0,
           1,
           "Keeping, Mr. Edwin",
           "male",
           0,
           0,
           "113503",
           "C132",
           "C",
           "1912-06-24T00:00:00"
          ],
          [
           968,
           0,
           3,
           "Miles, Mr. Frank",
           "male",
           0,
           0,
           "359306",
           null,
           "S",
           "1912-06-25T00:00:00"
          ],
          [
           969,
           1,
           1,
           "Cornell, Mrs. Robert Clifford (Malvina Helen Lamson)",
           "female",
           2,
           0,
           "11770",
           "C101",
           "S",
           "1912-06-26T00:00:00"
          ],
          [
           970,
           0,
           2,
           "Aldworth, Mr. Charles Augustus",
           "male",
           0,
           0,
           "248744",
           null,
           "S",
           "1912-06-27T00:00:00"
          ],
          [
           971,
           1,
           3,
           "Doyle, Miss. Elizabeth",
           "female",
           0,
           0,
           "368702",
           null,
           "Q",
           "1912-06-28T00:00:00"
          ],
          [
           972,
           0,
           3,
           "Boulos, Master. Akar",
           "male",
           1,
           1,
           "2678",
           null,
           "C",
           "1912-06-29T00:00:00"
          ],
          [
           973,
           0,
           1,
           "Straus, Mr. Isidor",
           "male",
           1,
           0,
           "PC 17483",
           "C55 C57",
           "S",
           "1912-06-30T00:00:00"
          ],
          [
           974,
           0,
           1,
           "Case, Mr. Howard Brown",
           "male",
           0,
           0,
           "19924",
           null,
           "S",
           "1912-07-01T00:00:00"
          ],
          [
           975,
           0,
           3,
           "Demetri, Mr. Marinko",
           "male",
           0,
           0,
           "349238",
           null,
           "S",
           "1912-07-02T00:00:00"
          ],
          [
           976,
           0,
           2,
           "Lamb, Mr. John Joseph",
           "male",
           0,
           0,
           "240261",
           null,
           "Q",
           "1912-07-03T00:00:00"
          ],
          [
           977,
           0,
           3,
           "Khalil, Mr. Betros",
           "male",
           1,
           0,
           "2660",
           null,
           "C",
           "1912-07-04T00:00:00"
          ],
          [
           978,
           1,
           3,
           "Barry, Miss. Julia",
           "female",
           0,
           0,
           "330844",
           null,
           "Q",
           "1912-07-05T00:00:00"
          ],
          [
           979,
           1,
           3,
           "Badman, Miss. Emily Louisa",
           "female",
           0,
           0,
           "A/4 31416",
           null,
           "S",
           "1912-07-06T00:00:00"
          ],
          [
           980,
           1,
           3,
           "O'Donoghue, Ms. Bridget",
           "female",
           0,
           0,
           "364856",
           null,
           "Q",
           "1912-07-07T00:00:00"
          ],
          [
           981,
           0,
           2,
           "Wells, Master. Ralph Lester",
           "male",
           1,
           1,
           "29103",
           null,
           "S",
           "1912-07-08T00:00:00"
          ],
          [
           982,
           1,
           3,
           "Dyker, Mrs. Adolf Fredrik (Anna Elisabeth Judith Andersson)",
           "female",
           1,
           0,
           "347072",
           null,
           "S",
           "1912-07-09T00:00:00"
          ],
          [
           983,
           0,
           3,
           "Pedersen, Mr. Olaf",
           "male",
           0,
           0,
           "345498",
           null,
           "S",
           "1912-07-10T00:00:00"
          ],
          [
           984,
           1,
           1,
           "Davidson, Mrs. Thornton (Orian Hays)",
           "female",
           1,
           2,
           "F.C. 12750",
           "B71",
           "S",
           "1912-07-11T00:00:00"
          ],
          [
           985,
           0,
           3,
           "Guest, Mr. Robert",
           "male",
           0,
           0,
           "376563",
           null,
           "S",
           "1912-07-12T00:00:00"
          ],
          [
           986,
           0,
           1,
           "Birnbaum, Mr. Jakob",
           "male",
           0,
           0,
           "13905",
           null,
           "C",
           "1912-07-13T00:00:00"
          ],
          [
           987,
           0,
           3,
           "Tenglin, Mr. Gunnar Isidor",
           "male",
           0,
           0,
           "350033",
           null,
           "S",
           "1912-07-14T00:00:00"
          ],
          [
           988,
           1,
           1,
           "Cavendish, Mrs. Tyrell William (Julia Florence Siegel)",
           "female",
           1,
           0,
           "19877",
           "C46",
           "S",
           "1912-07-15T00:00:00"
          ],
          [
           989,
           0,
           3,
           "Makinen, Mr. Kalle Edvard",
           "male",
           0,
           0,
           "STON/O 2. 3101268",
           null,
           "S",
           "1912-07-16T00:00:00"
          ],
          [
           990,
           1,
           3,
           "Braf, Miss. Elin Ester Maria",
           "female",
           0,
           0,
           "347471",
           null,
           "S",
           "1912-07-17T00:00:00"
          ],
          [
           991,
           0,
           3,
           "Nancarrow, Mr. William Henry",
           "male",
           0,
           0,
           "A./5. 3338",
           null,
           "S",
           "1912-07-18T00:00:00"
          ],
          [
           992,
           1,
           1,
           "Stengel, Mrs. Charles Emil Henry (Annie May Morris)",
           "female",
           1,
           0,
           "11778",
           "C116",
           "C",
           "1912-07-19T00:00:00"
          ],
          [
           993,
           0,
           2,
           "Weisz, Mr. Leopold",
           "male",
           1,
           0,
           "228414",
           null,
           "S",
           "1912-07-20T00:00:00"
          ],
          [
           994,
           0,
           3,
           "Foley, Mr. William",
           "male",
           0,
           0,
           "365235",
           null,
           "Q",
           "1912-07-21T00:00:00"
          ],
          [
           995,
           0,
           3,
           "Johansson Palmquist, Mr. Oskar Leander",
           "male",
           0,
           0,
           "347070",
           null,
           "S",
           "1912-07-22T00:00:00"
          ],
          [
           996,
           1,
           3,
           "Thomas, Mrs. Alexander (Thamine Thelma\")\"",
           "female",
           1,
           1,
           "2625",
           null,
           "C",
           "1912-07-23T00:00:00"
          ],
          [
           997,
           0,
           3,
           "Holthen, Mr. Johan Martin",
           "male",
           0,
           0,
           "C 4001",
           null,
           "S",
           "1912-07-24T00:00:00"
          ],
          [
           998,
           0,
           3,
           "Buckley, Mr. Daniel",
           "male",
           0,
           0,
           "330920",
           null,
           "Q",
           "1912-07-25T00:00:00"
          ],
          [
           999,
           0,
           3,
           "Ryan, Mr. Edward",
           "male",
           0,
           0,
           "383162",
           null,
           "Q",
           "1912-07-26T00:00:00"
          ],
          [
           1000,
           0,
           3,
           "Willer, Mr. Aaron (Abi Weller\")\"",
           "male",
           0,
           0,
           "3410",
           null,
           "S",
           "1912-07-27T00:00:00"
          ],
          [
           1001,
           0,
           2,
           "Swane, Mr. George",
           "male",
           0,
           0,
           "248734",
           "F",
           "S",
           "1912-07-28T00:00:00"
          ],
          [
           1002,
           0,
           2,
           "Stanton, Mr. Samuel Ward",
           "male",
           0,
           0,
           "237734",
           null,
           "C",
           "1912-07-29T00:00:00"
          ],
          [
           1003,
           1,
           3,
           "Shine, Miss. Ellen Natalia",
           "female",
           0,
           0,
           "330968",
           null,
           "Q",
           "1912-07-30T00:00:00"
          ],
          [
           1004,
           1,
           1,
           "Evans, Miss. Edith Corse",
           "female",
           0,
           0,
           "PC 17531",
           "A29",
           "C",
           "1912-07-31T00:00:00"
          ],
          [
           1005,
           1,
           3,
           "Buckley, Miss. Katherine",
           "female",
           0,
           0,
           "329944",
           null,
           "Q",
           "1912-08-01T00:00:00"
          ],
          [
           1006,
           1,
           1,
           "Straus, Mrs. Isidor (Rosalie Ida Blun)",
           "female",
           1,
           0,
           "PC 17483",
           "C55 C57",
           "S",
           "1912-08-02T00:00:00"
          ],
          [
           1007,
           0,
           3,
           "Chronopoulos, Mr. Demetrios",
           "male",
           1,
           0,
           "2680",
           null,
           "C",
           "1912-08-03T00:00:00"
          ],
          [
           1008,
           0,
           3,
           "Thomas, Mr. John",
           "male",
           0,
           0,
           "2681",
           null,
           "C",
           "1912-08-04T00:00:00"
          ],
          [
           1009,
           1,
           3,
           "Sandstrom, Miss. Beatrice Irene",
           "female",
           1,
           1,
           "PP 9549",
           "G6",
           "S",
           "1912-08-05T00:00:00"
          ],
          [
           1010,
           0,
           1,
           "Beattie, Mr. Thomson",
           "male",
           0,
           0,
           "13050",
           "C6",
           "C",
           "1912-08-06T00:00:00"
          ],
          [
           1011,
           1,
           2,
           "Chapman, Mrs. John Henry (Sara Elizabeth Lawry)",
           "female",
           1,
           0,
           "SC/AH 29037",
           null,
           "S",
           "1912-08-07T00:00:00"
          ],
          [
           1012,
           1,
           2,
           "Watt, Miss. Bertha J",
           "female",
           0,
           0,
           "C.A. 33595",
           null,
           "S",
           "1912-08-08T00:00:00"
          ],
          [
           1013,
           0,
           3,
           "Kiernan, Mr. John",
           "male",
           1,
           0,
           "367227",
           null,
           "Q",
           "1912-08-09T00:00:00"
          ],
          [
           1014,
           1,
           1,
           "Schabert, Mrs. Paul (Emma Mock)",
           "female",
           1,
           0,
           "13236",
           "C28",
           "C",
           "1912-08-10T00:00:00"
          ],
          [
           1015,
           0,
           3,
           "Carver, Mr. Alfred John",
           "male",
           0,
           0,
           "392095",
           null,
           "S",
           "1912-08-11T00:00:00"
          ],
          [
           1016,
           0,
           3,
           "Kennedy, Mr. John",
           "male",
           0,
           0,
           "368783",
           null,
           "Q",
           "1912-08-12T00:00:00"
          ],
          [
           1017,
           1,
           3,
           "Cribb, Miss. Laura Alice",
           "female",
           0,
           1,
           "371362",
           null,
           "S",
           "1912-08-13T00:00:00"
          ],
          [
           1018,
           0,
           3,
           "Brobeck, Mr. Karl Rudolf",
           "male",
           0,
           0,
           "350045",
           null,
           "S",
           "1912-08-14T00:00:00"
          ],
          [
           1019,
           1,
           3,
           "McCoy, Miss. Alicia",
           "female",
           2,
           0,
           "367226",
           null,
           "Q",
           "1912-08-15T00:00:00"
          ],
          [
           1020,
           0,
           2,
           "Bowenur, Mr. Solomon",
           "male",
           0,
           0,
           "211535",
           null,
           "S",
           "1912-08-16T00:00:00"
          ],
          [
           1021,
           0,
           3,
           "Petersen, Mr. Marius",
           "male",
           0,
           0,
           "342441",
           null,
           "S",
           "1912-08-17T00:00:00"
          ],
          [
           1022,
           0,
           3,
           "Spinner, Mr. Henry John",
           "male",
           0,
           0,
           "STON/OQ. 369943",
           null,
           "S",
           "1912-08-18T00:00:00"
          ],
          [
           1023,
           0,
           1,
           "Gracie, Col. Archibald IV",
           "male",
           0,
           0,
           "113780",
           "C51",
           "C",
           "1912-08-19T00:00:00"
          ],
          [
           1024,
           1,
           3,
           "Lefebre, Mrs. Frank (Frances)",
           "female",
           0,
           4,
           "4133",
           null,
           "S",
           "1912-08-20T00:00:00"
          ],
          [
           1025,
           0,
           3,
           "Thomas, Mr. Charles P",
           "male",
           1,
           0,
           "2621",
           null,
           "C",
           "1912-08-21T00:00:00"
          ],
          [
           1026,
           0,
           3,
           "Dintcheff, Mr. Valtcho",
           "male",
           0,
           0,
           "349226",
           null,
           "S",
           "1912-08-22T00:00:00"
          ],
          [
           1027,
           0,
           3,
           "Carlsson, Mr. Carl Robert",
           "male",
           0,
           0,
           "350409",
           null,
           "S",
           "1912-08-23T00:00:00"
          ],
          [
           1028,
           0,
           3,
           "Zakarian, Mr. Mapriededer",
           "male",
           0,
           0,
           "2656",
           null,
           "C",
           "1912-08-24T00:00:00"
          ],
          [
           1029,
           0,
           2,
           "Schmidt, Mr. August",
           "male",
           0,
           0,
           "248659",
           null,
           "S",
           "1912-08-25T00:00:00"
          ],
          [
           1030,
           1,
           3,
           "Drapkin, Miss. Jennie",
           "female",
           0,
           0,
           "SOTON/OQ 392083",
           null,
           "S",
           "1912-08-26T00:00:00"
          ],
          [
           1031,
           0,
           3,
           "Goodwin, Mr. Charles Frederick",
           "male",
           1,
           6,
           "CA 2144",
           null,
           "S",
           "1912-08-27T00:00:00"
          ],
          [
           1032,
           1,
           3,
           "Goodwin, Miss. Jessie Allis",
           "female",
           5,
           2,
           "CA 2144",
           null,
           "S",
           "1912-08-28T00:00:00"
          ],
          [
           1033,
           1,
           1,
           "Daniels, Miss. Sarah",
           "female",
           0,
           0,
           "113781",
           null,
           "S",
           "1912-08-29T00:00:00"
          ],
          [
           1034,
           0,
           1,
           "Ryerson, Mr. Arthur Larned",
           "male",
           1,
           3,
           "PC 17608",
           "B57 B59 B63 B66",
           "C",
           "1912-08-30T00:00:00"
          ],
          [
           1035,
           0,
           2,
           "Beauchamp, Mr. Henry James",
           "male",
           0,
           0,
           "244358",
           null,
           "S",
           "1912-08-31T00:00:00"
          ],
          [
           1036,
           0,
           1,
           "Lindeberg-Lind, Mr. Erik Gustaf (Mr Edward Lingrey\")\"",
           "male",
           0,
           0,
           "17475",
           null,
           "S",
           "1912-09-01T00:00:00"
          ],
          [
           1037,
           0,
           3,
           "Vander Planke, Mr. Julius",
           "male",
           3,
           0,
           "345763",
           null,
           "S",
           "1912-09-02T00:00:00"
          ],
          [
           1038,
           0,
           1,
           "Hilliard, Mr. Herbert Henry",
           "male",
           0,
           0,
           "17463",
           "E46",
           "S",
           "1912-09-03T00:00:00"
          ],
          [
           1039,
           0,
           3,
           "Davies, Mr. Evan",
           "male",
           0,
           0,
           "SC/A4 23568",
           null,
           "S",
           "1912-09-04T00:00:00"
          ],
          [
           1040,
           0,
           1,
           "Crafton, Mr. John Bertram",
           "male",
           0,
           0,
           "113791",
           null,
           "S",
           "1912-09-05T00:00:00"
          ],
          [
           1041,
           0,
           2,
           "Lahtinen, Rev. William",
           "male",
           1,
           1,
           "250651",
           null,
           "S",
           "1912-09-06T00:00:00"
          ],
          [
           1042,
           1,
           1,
           "Earnshaw, Mrs. Boulton (Olive Potter)",
           "female",
           0,
           1,
           "11767",
           "C54",
           "C",
           "1912-09-07T00:00:00"
          ],
          [
           1043,
           0,
           3,
           "Matinoff, Mr. Nicola",
           "male",
           0,
           0,
           "349255",
           null,
           "C",
           "1912-09-08T00:00:00"
          ],
          [
           1044,
           0,
           3,
           "Storey, Mr. Thomas",
           "male",
           0,
           0,
           "3701",
           null,
           "S",
           "1912-09-09T00:00:00"
          ],
          [
           1045,
           1,
           3,
           "Klasen, Mrs. (Hulda Kristina Eugenia Lofqvist)",
           "female",
           0,
           2,
           "350405",
           null,
           "S",
           "1912-09-10T00:00:00"
          ],
          [
           1046,
           0,
           3,
           "Asplund, Master. Filip Oscar",
           "male",
           4,
           2,
           "347077",
           null,
           "S",
           "1912-09-11T00:00:00"
          ],
          [
           1047,
           0,
           3,
           "Duquemin, Mr. Joseph",
           "male",
           0,
           0,
           "S.O./P.P. 752",
           null,
           "S",
           "1912-09-12T00:00:00"
          ],
          [
           1048,
           1,
           1,
           "Bird, Miss. Ellen",
           "female",
           0,
           0,
           "PC 17483",
           "C97",
           "S",
           "1912-09-13T00:00:00"
          ],
          [
           1049,
           1,
           3,
           "Lundin, Miss. Olga Elida",
           "female",
           0,
           0,
           "347469",
           null,
           "S",
           "1912-09-14T00:00:00"
          ],
          [
           1050,
           0,
           1,
           "Borebank, Mr. John James",
           "male",
           0,
           0,
           "110489",
           "D22",
           "S",
           "1912-09-15T00:00:00"
          ],
          [
           1051,
           1,
           3,
           "Peacock, Mrs. Benjamin (Edith Nile)",
           "female",
           0,
           2,
           "SOTON/O.Q. 3101315",
           null,
           "S",
           "1912-09-16T00:00:00"
          ],
          [
           1052,
           1,
           3,
           "Smyth, Miss. Julia",
           "female",
           0,
           0,
           "335432",
           null,
           "Q",
           "1912-09-17T00:00:00"
          ],
          [
           1053,
           0,
           3,
           "Touma, Master. Georges Youssef",
           "male",
           1,
           1,
           "2650",
           null,
           "C",
           "1912-09-18T00:00:00"
          ],
          [
           1054,
           1,
           2,
           "Wright, Miss. Marion",
           "female",
           0,
           0,
           "220844",
           null,
           "S",
           "1912-09-19T00:00:00"
          ],
          [
           1055,
           0,
           3,
           "Pearce, Mr. Ernest",
           "male",
           0,
           0,
           "343271",
           null,
           "S",
           "1912-09-20T00:00:00"
          ],
          [
           1056,
           0,
           2,
           "Peruschitz, Rev. Joseph Maria",
           "male",
           0,
           0,
           "237393",
           null,
           "S",
           "1912-09-21T00:00:00"
          ],
          [
           1057,
           1,
           3,
           "Kink-Heilmann, Mrs. Anton (Luise Heilmann)",
           "female",
           1,
           1,
           "315153",
           null,
           "S",
           "1912-09-22T00:00:00"
          ],
          [
           1058,
           0,
           1,
           "Brandeis, Mr. Emil",
           "male",
           0,
           0,
           "PC 17591",
           "B10",
           "C",
           "1912-09-23T00:00:00"
          ],
          [
           1059,
           0,
           3,
           "Ford, Mr. Edward Watson",
           "male",
           2,
           2,
           "W./C. 6608",
           null,
           "S",
           "1912-09-24T00:00:00"
          ],
          [
           1060,
           1,
           1,
           "Cassebeer, Mrs. Henry Arthur Jr (Eleanor Genevieve Fosdick)",
           "female",
           0,
           0,
           "17770",
           null,
           "C",
           "1912-09-25T00:00:00"
          ],
          [
           1061,
           1,
           3,
           "Hellstrom, Miss. Hilda Maria",
           "female",
           0,
           0,
           "7548",
           null,
           "S",
           "1912-09-26T00:00:00"
          ],
          [
           1062,
           0,
           3,
           "Lithman, Mr. Simon",
           "male",
           0,
           0,
           "S.O./P.P. 251",
           null,
           "S",
           "1912-09-27T00:00:00"
          ],
          [
           1063,
           0,
           3,
           "Zakarian, Mr. Ortin",
           "male",
           0,
           0,
           "2670",
           null,
           "C",
           "1912-09-28T00:00:00"
          ],
          [
           1064,
           0,
           3,
           "Dyker, Mr. Adolf Fredrik",
           "male",
           1,
           0,
           "347072",
           null,
           "S",
           "1912-09-29T00:00:00"
          ],
          [
           1065,
           0,
           3,
           "Torfa, Mr. Assad",
           "male",
           0,
           0,
           "2673",
           null,
           "C",
           "1912-09-30T00:00:00"
          ],
          [
           1066,
           0,
           3,
           "Asplund, Mr. Carl Oscar Vilhelm Gustafsson",
           "male",
           1,
           5,
           "347077",
           null,
           "S",
           "1912-10-01T00:00:00"
          ],
          [
           1067,
           1,
           2,
           "Brown, Miss. Edith Eileen",
           "female",
           0,
           2,
           "29750",
           null,
           "S",
           "1912-10-02T00:00:00"
          ],
          [
           1068,
           1,
           2,
           "Sincock, Miss. Maude",
           "female",
           0,
           0,
           "C.A. 33112",
           null,
           "S",
           "1912-10-03T00:00:00"
          ],
          [
           1069,
           0,
           1,
           "Stengel, Mr. Charles Emil Henry",
           "male",
           1,
           0,
           "11778",
           "C116",
           "C",
           "1912-10-04T00:00:00"
          ],
          [
           1070,
           1,
           2,
           "Becker, Mrs. Allen Oliver (Nellie E Baumgardner)",
           "female",
           0,
           3,
           "230136",
           "F4",
           "S",
           "1912-10-05T00:00:00"
          ],
          [
           1071,
           1,
           1,
           "Compton, Mrs. Alexander Taylor (Mary Eliza Ingersoll)",
           "female",
           0,
           2,
           "PC 17756",
           "E45",
           "C",
           "1912-10-06T00:00:00"
          ],
          [
           1072,
           0,
           2,
           "McCrie, Mr. James Matthew",
           "male",
           0,
           0,
           "233478",
           null,
           "S",
           "1912-10-07T00:00:00"
          ],
          [
           1073,
           0,
           1,
           "Compton, Mr. Alexander Taylor Jr",
           "male",
           1,
           1,
           "PC 17756",
           "E52",
           "C",
           "1912-10-08T00:00:00"
          ],
          [
           1074,
           1,
           1,
           "Marvin, Mrs. Daniel Warner (Mary Graham Carmichael Farquarson)",
           "female",
           1,
           0,
           "113773",
           "D30",
           "S",
           "1912-10-09T00:00:00"
          ],
          [
           1075,
           0,
           3,
           "Lane, Mr. Patrick",
           "male",
           0,
           0,
           "7935",
           null,
           "Q",
           "1912-10-10T00:00:00"
          ],
          [
           1076,
           1,
           1,
           "Douglas, Mrs. Frederick Charles (Mary Helene Baxter)",
           "female",
           1,
           1,
           "PC 17558",
           "B58 B60",
           "C",
           "1912-10-11T00:00:00"
          ],
          [
           1077,
           0,
           2,
           "Maybery, Mr. Frank Hubert",
           "male",
           0,
           0,
           "239059",
           null,
           "S",
           "1912-10-12T00:00:00"
          ],
          [
           1078,
           1,
           2,
           "Phillips, Miss. Alice Frances Louisa",
           "female",
           0,
           1,
           "S.O./P.P. 2",
           null,
           "S",
           "1912-10-13T00:00:00"
          ],
          [
           1079,
           0,
           3,
           "Davies, Mr. Joseph",
           "male",
           2,
           0,
           "A/4 48873",
           null,
           "S",
           "1912-10-14T00:00:00"
          ],
          [
           1080,
           1,
           3,
           "Sage, Miss. Ada",
           "female",
           8,
           2,
           "CA. 2343",
           null,
           "S",
           "1912-10-15T00:00:00"
          ],
          [
           1081,
           0,
           2,
           "Veal, Mr. James",
           "male",
           0,
           0,
           "28221",
           null,
           "S",
           "1912-10-16T00:00:00"
          ],
          [
           1082,
           0,
           2,
           "Angle, Mr. William A",
           "male",
           1,
           0,
           "226875",
           null,
           "S",
           "1912-10-17T00:00:00"
          ],
          [
           1083,
           0,
           1,
           "Salomon, Mr. Abraham L",
           "male",
           0,
           0,
           "111163",
           null,
           "S",
           "1912-10-18T00:00:00"
          ],
          [
           1084,
           0,
           3,
           "van Billiard, Master. Walter John",
           "male",
           1,
           1,
           "A/5. 851",
           null,
           "S",
           "1912-10-19T00:00:00"
          ],
          [
           1085,
           0,
           2,
           "Lingane, Mr. John",
           "male",
           0,
           0,
           "235509",
           null,
           "Q",
           "1912-10-20T00:00:00"
          ],
          [
           1086,
           0,
           2,
           "Drew, Master. Marshall Brines",
           "male",
           0,
           2,
           "28220",
           null,
           "S",
           "1912-10-21T00:00:00"
          ],
          [
           1087,
           0,
           3,
           "Karlsson, Mr. Julius Konrad Eugen",
           "male",
           0,
           0,
           "347465",
           null,
           "S",
           "1912-10-22T00:00:00"
          ],
          [
           1088,
           0,
           1,
           "Spedden, Master. Robert Douglas",
           "male",
           0,
           2,
           "16966",
           "E34",
           "C",
           "1912-10-23T00:00:00"
          ],
          [
           1089,
           1,
           3,
           "Nilsson, Miss. Berta Olivia",
           "female",
           0,
           0,
           "347066",
           null,
           "S",
           "1912-10-24T00:00:00"
          ],
          [
           1090,
           0,
           2,
           "Baimbrigge, Mr. Charles Robert",
           "male",
           0,
           0,
           "C.A. 31030",
           null,
           "S",
           "1912-10-25T00:00:00"
          ],
          [
           1091,
           1,
           3,
           "Rasmussen, Mrs. (Lena Jacobsen Solvang)",
           "female",
           0,
           0,
           "65305",
           null,
           "S",
           "1912-10-26T00:00:00"
          ],
          [
           1092,
           1,
           3,
           "Murphy, Miss. Nora",
           "female",
           0,
           0,
           "36568",
           null,
           "Q",
           "1912-10-27T00:00:00"
          ],
          [
           1093,
           0,
           3,
           "Danbom, Master. Gilbert Sigvard Emanuel",
           "male",
           0,
           2,
           "347080",
           null,
           "S",
           "1912-10-28T00:00:00"
          ],
          [
           1094,
           0,
           1,
           "Astor, Col. John Jacob",
           "male",
           1,
           0,
           "PC 17757",
           "C62 C64",
           "C",
           "1912-10-29T00:00:00"
          ],
          [
           1095,
           1,
           2,
           "Quick, Miss. Winifred Vera",
           "female",
           1,
           1,
           "26360",
           null,
           "S",
           "1912-10-30T00:00:00"
          ],
          [
           1096,
           0,
           2,
           "Andrew, Mr. Frank Thomas",
           "male",
           0,
           0,
           "C.A. 34050",
           null,
           "S",
           "1912-10-31T00:00:00"
          ],
          [
           1097,
           0,
           1,
           "Omont, Mr. Alfred Fernand",
           "male",
           0,
           0,
           "F.C. 12998",
           null,
           "C",
           "1912-11-01T00:00:00"
          ],
          [
           1098,
           1,
           3,
           "McGowan, Miss. Katherine",
           "female",
           0,
           0,
           "9232",
           null,
           "Q",
           "1912-11-02T00:00:00"
          ],
          [
           1099,
           0,
           2,
           "Collett, Mr. Sidney C Stuart",
           "male",
           0,
           0,
           "28034",
           null,
           "S",
           "1912-11-03T00:00:00"
          ],
          [
           1100,
           1,
           1,
           "Rosenbaum, Miss. Edith Louise",
           "female",
           0,
           0,
           "PC 17613",
           "A11",
           "C",
           "1912-11-04T00:00:00"
          ],
          [
           1101,
           0,
           3,
           "Delalic, Mr. Redjo",
           "male",
           0,
           0,
           "349250",
           null,
           "S",
           "1912-11-05T00:00:00"
          ],
          [
           1102,
           0,
           3,
           "Andersen, Mr. Albert Karvin",
           "male",
           0,
           0,
           "C 4001",
           null,
           "S",
           "1912-11-06T00:00:00"
          ],
          [
           1103,
           0,
           3,
           "Finoli, Mr. Luigi",
           "male",
           0,
           0,
           "SOTON/O.Q. 3101308",
           null,
           "S",
           "1912-11-07T00:00:00"
          ],
          [
           1104,
           0,
           2,
           "Deacon, Mr. Percy William",
           "male",
           0,
           0,
           "S.O.C. 14879",
           null,
           "S",
           "1912-11-08T00:00:00"
          ],
          [
           1105,
           1,
           2,
           "Howard, Mrs. Benjamin (Ellen Truelove Arman)",
           "female",
           1,
           0,
           "24065",
           null,
           "S",
           "1912-11-09T00:00:00"
          ],
          [
           1106,
           1,
           3,
           "Andersson, Miss. Ida Augusta Margareta",
           "female",
           4,
           2,
           "347091",
           null,
           "S",
           "1912-11-10T00:00:00"
          ],
          [
           1107,
           0,
           1,
           "Head, Mr. Christopher",
           "male",
           0,
           0,
           "113038",
           "B11",
           "S",
           "1912-11-11T00:00:00"
          ],
          [
           1108,
           1,
           3,
           "Mahon, Miss. Bridget Delia",
           "female",
           0,
           0,
           "330924",
           null,
           "Q",
           "1912-11-12T00:00:00"
          ],
          [
           1109,
           0,
           1,
           "Wick, Mr. George Dennick",
           "male",
           1,
           1,
           "36928",
           null,
           "S",
           "1912-11-13T00:00:00"
          ],
          [
           1110,
           1,
           1,
           "Widener, Mrs. George Dunton (Eleanor Elkins)",
           "female",
           1,
           1,
           "113503",
           "C80",
           "C",
           "1912-11-14T00:00:00"
          ],
          [
           1111,
           0,
           3,
           "Thomson, Mr. Alexander Morrison",
           "male",
           0,
           0,
           "32302",
           null,
           "S",
           "1912-11-15T00:00:00"
          ],
          [
           1112,
           1,
           2,
           "Duran y More, Miss. Florentina",
           "female",
           1,
           0,
           "SC/PARIS 2148",
           null,
           "C",
           "1912-11-16T00:00:00"
          ],
          [
           1113,
           0,
           3,
           "Reynolds, Mr. Harold J",
           "male",
           0,
           0,
           "342684",
           null,
           "S",
           "1912-11-17T00:00:00"
          ],
          [
           1114,
           1,
           2,
           "Cook, Mrs. (Selena Rogers)",
           "female",
           0,
           0,
           "W./C. 14266",
           "F33",
           "S",
           "1912-11-18T00:00:00"
          ],
          [
           1115,
           0,
           3,
           "Karlsson, Mr. Einar Gervasius",
           "male",
           0,
           0,
           "350053",
           null,
           "S",
           "1912-11-19T00:00:00"
          ],
          [
           1116,
           1,
           1,
           "Candee, Mrs. Edward (Helen Churchill Hungerford)",
           "female",
           0,
           0,
           "PC 17606",
           null,
           "C",
           "1912-11-20T00:00:00"
          ],
          [
           1117,
           1,
           3,
           "Moubarek, Mrs. George (Omine Amenia\" Alexander)\"",
           "female",
           0,
           2,
           "2661",
           null,
           "C",
           "1912-11-21T00:00:00"
          ],
          [
           1118,
           0,
           3,
           "Asplund, Mr. Johan Charles",
           "male",
           0,
           0,
           "350054",
           null,
           "S",
           "1912-11-22T00:00:00"
          ],
          [
           1119,
           1,
           3,
           "McNeill, Miss. Bridget",
           "female",
           0,
           0,
           "370368",
           null,
           "Q",
           "1912-11-23T00:00:00"
          ],
          [
           1120,
           0,
           3,
           "Everett, Mr. Thomas James",
           "male",
           0,
           0,
           "C.A. 6212",
           null,
           "S",
           "1912-11-24T00:00:00"
          ],
          [
           1121,
           0,
           2,
           "Hocking, Mr. Samuel James Metcalfe",
           "male",
           0,
           0,
           "242963",
           null,
           "S",
           "1912-11-25T00:00:00"
          ],
          [
           1122,
           0,
           2,
           "Sweet, Mr. George Frederick",
           "male",
           0,
           0,
           "220845",
           null,
           "S",
           "1912-11-26T00:00:00"
          ],
          [
           1123,
           1,
           1,
           "Willard, Miss. Constance",
           "female",
           0,
           0,
           "113795",
           null,
           "S",
           "1912-11-27T00:00:00"
          ],
          [
           1124,
           0,
           3,
           "Wiklund, Mr. Karl Johan",
           "male",
           1,
           0,
           "3101266",
           null,
           "S",
           "1912-11-28T00:00:00"
          ],
          [
           1125,
           0,
           3,
           "Linehan, Mr. Michael",
           "male",
           0,
           0,
           "330971",
           null,
           "Q",
           "1912-11-29T00:00:00"
          ],
          [
           1126,
           0,
           1,
           "Cumings, Mr. John Bradley",
           "male",
           1,
           0,
           "PC 17599",
           "C85",
           "C",
           "1912-11-30T00:00:00"
          ],
          [
           1127,
           0,
           3,
           "Vendel, Mr. Olof Edvin",
           "male",
           0,
           0,
           "350416",
           null,
           "S",
           "1912-12-01T00:00:00"
          ],
          [
           1128,
           0,
           1,
           "Warren, Mr. Frank Manley",
           "male",
           1,
           0,
           "110813",
           "D37",
           "C",
           "1912-12-02T00:00:00"
          ],
          [
           1129,
           0,
           3,
           "Baccos, Mr. Raffull",
           "male",
           0,
           0,
           "2679",
           null,
           "C",
           "1912-12-03T00:00:00"
          ],
          [
           1130,
           1,
           2,
           "Hiltunen, Miss. Marta",
           "female",
           1,
           1,
           "250650",
           null,
           "S",
           "1912-12-04T00:00:00"
          ],
          [
           1131,
           1,
           1,
           "Douglas, Mrs. Walter Donald (Mahala Dutton)",
           "female",
           1,
           0,
           "PC 17761",
           "C86",
           "C",
           "1912-12-05T00:00:00"
          ],
          [
           1132,
           1,
           1,
           "Lindstrom, Mrs. Carl Johan (Sigrid Posse)",
           "female",
           0,
           0,
           "112377",
           null,
           "C",
           "1912-12-06T00:00:00"
          ],
          [
           1133,
           1,
           2,
           "Christy, Mrs. (Alice Frances)",
           "female",
           0,
           2,
           "237789",
           null,
           "S",
           "1912-12-07T00:00:00"
          ],
          [
           1134,
           0,
           1,
           "Spedden, Mr. Frederic Oakley",
           "male",
           1,
           1,
           "16966",
           "E34",
           "C",
           "1912-12-08T00:00:00"
          ],
          [
           1135,
           0,
           3,
           "Hyman, Mr. Abraham",
           "male",
           0,
           0,
           "3470",
           null,
           "S",
           "1912-12-09T00:00:00"
          ],
          [
           1136,
           0,
           3,
           "Johnston, Master. William Arthur Willie\"\"",
           "male",
           1,
           2,
           "W./C. 6607",
           null,
           "S",
           "1912-12-10T00:00:00"
          ],
          [
           1137,
           0,
           1,
           "Kenyon, Mr. Frederick R",
           "male",
           1,
           0,
           "17464",
           "D21",
           "S",
           "1912-12-11T00:00:00"
          ],
          [
           1138,
           1,
           2,
           "Karnes, Mrs. J Frank (Claire Bennett)",
           "female",
           0,
           0,
           "F.C.C. 13534",
           null,
           "S",
           "1912-12-12T00:00:00"
          ],
          [
           1139,
           0,
           2,
           "Drew, Mr. James Vivian",
           "male",
           1,
           1,
           "28220",
           null,
           "S",
           "1912-12-13T00:00:00"
          ],
          [
           1140,
           1,
           2,
           "Hold, Mrs. Stephen (Annie Margaret Hill)",
           "female",
           1,
           0,
           "26707",
           null,
           "S",
           "1912-12-14T00:00:00"
          ],
          [
           1141,
           1,
           3,
           "Khalil, Mrs. Betros (Zahie Maria\" Elias)\"",
           "female",
           1,
           0,
           "2660",
           null,
           "C",
           "1912-12-15T00:00:00"
          ],
          [
           1142,
           1,
           2,
           "West, Miss. Barbara J",
           "female",
           1,
           2,
           "C.A. 34651",
           null,
           "S",
           "1912-12-16T00:00:00"
          ],
          [
           1143,
           0,
           3,
           "Abrahamsson, Mr. Abraham August Johannes",
           "male",
           0,
           0,
           "SOTON/O2 3101284",
           null,
           "S",
           "1912-12-17T00:00:00"
          ],
          [
           1144,
           0,
           1,
           "Clark, Mr. Walter Miller",
           "male",
           1,
           0,
           "13508",
           "C89",
           "C",
           "1912-12-18T00:00:00"
          ],
          [
           1145,
           0,
           3,
           "Salander, Mr. Karl Johan",
           "male",
           0,
           0,
           "7266",
           null,
           "S",
           "1912-12-19T00:00:00"
          ],
          [
           1146,
           0,
           3,
           "Wenzel, Mr. Linhart",
           "male",
           0,
           0,
           "345775",
           null,
           "S",
           "1912-12-20T00:00:00"
          ],
          [
           1147,
           0,
           3,
           "MacKay, Mr. George William",
           "male",
           0,
           0,
           "C.A. 42795",
           null,
           "S",
           "1912-12-21T00:00:00"
          ],
          [
           1148,
           0,
           3,
           "Mahon, Mr. John",
           "male",
           0,
           0,
           "AQ/4 3130",
           null,
           "Q",
           "1912-12-22T00:00:00"
          ],
          [
           1149,
           0,
           3,
           "Niklasson, Mr. Samuel",
           "male",
           0,
           0,
           "363611",
           null,
           "S",
           "1912-12-23T00:00:00"
          ],
          [
           1150,
           1,
           2,
           "Bentham, Miss. Lilian W",
           "female",
           0,
           0,
           "28404",
           null,
           "S",
           "1912-12-24T00:00:00"
          ],
          [
           1151,
           0,
           3,
           "Midtsjo, Mr. Karl Albert",
           "male",
           0,
           0,
           "345501",
           null,
           "S",
           "1912-12-25T00:00:00"
          ],
          [
           1152,
           0,
           3,
           "de Messemaeker, Mr. Guillaume Joseph",
           "male",
           1,
           0,
           "345572",
           null,
           "S",
           "1912-12-26T00:00:00"
          ],
          [
           1153,
           0,
           3,
           "Nilsson, Mr. August Ferdinand",
           "male",
           0,
           0,
           "350410",
           null,
           "S",
           "1912-12-27T00:00:00"
          ],
          [
           1154,
           1,
           2,
           "Wells, Mrs. Arthur Henry (Addie\" Dart Trevaskis)\"",
           "female",
           0,
           2,
           "29103",
           null,
           "S",
           "1912-12-28T00:00:00"
          ],
          [
           1155,
           1,
           3,
           "Klasen, Miss. Gertrud Emilia",
           "female",
           1,
           1,
           "350405",
           null,
           "S",
           "1912-12-29T00:00:00"
          ],
          [
           1156,
           0,
           2,
           "Portaluppi, Mr. Emilio Ilario Giuseppe",
           "male",
           0,
           0,
           "C.A. 34644",
           null,
           "C",
           "1912-12-30T00:00:00"
          ],
          [
           1157,
           0,
           3,
           "Lyntakoff, Mr. Stanko",
           "male",
           0,
           0,
           "349235",
           null,
           "S",
           "1912-12-31T00:00:00"
          ],
          [
           1158,
           0,
           1,
           "Chisholm, Mr. Roderick Robert Crispin",
           "male",
           0,
           0,
           "112051",
           null,
           "S",
           "1913-01-01T00:00:00"
          ],
          [
           1159,
           0,
           3,
           "Warren, Mr. Charles William",
           "male",
           0,
           0,
           "C.A. 49867",
           null,
           "S",
           "1913-01-02T00:00:00"
          ],
          [
           1160,
           1,
           3,
           "Howard, Miss. May Elizabeth",
           "female",
           0,
           0,
           "A. 2. 39186",
           null,
           "S",
           "1913-01-03T00:00:00"
          ],
          [
           1161,
           0,
           3,
           "Pokrnic, Mr. Mate",
           "male",
           0,
           0,
           "315095",
           null,
           "S",
           "1913-01-04T00:00:00"
          ],
          [
           1162,
           0,
           1,
           "McCaffry, Mr. Thomas Francis",
           "male",
           0,
           0,
           "13050",
           "C6",
           "C",
           "1913-01-05T00:00:00"
          ],
          [
           1163,
           0,
           3,
           "Fox, Mr. Patrick",
           "male",
           0,
           0,
           "368573",
           null,
           "Q",
           "1913-01-06T00:00:00"
          ],
          [
           1164,
           1,
           1,
           "Clark, Mrs. Walter Miller (Virginia McDowell)",
           "female",
           1,
           0,
           "13508",
           "C89",
           "C",
           "1913-01-07T00:00:00"
          ],
          [
           1165,
           1,
           3,
           "Lennon, Miss. Mary",
           "female",
           1,
           0,
           "370371",
           null,
           "Q",
           "1913-01-08T00:00:00"
          ],
          [
           1166,
           0,
           3,
           "Saade, Mr. Jean Nassr",
           "male",
           0,
           0,
           "2676",
           null,
           "C",
           "1913-01-09T00:00:00"
          ],
          [
           1167,
           1,
           2,
           "Bryhl, Miss. Dagmar Jenny Ingeborg ",
           "female",
           1,
           0,
           "236853",
           null,
           "S",
           "1913-01-10T00:00:00"
          ],
          [
           1168,
           0,
           2,
           "Parker, Mr. Clifford Richard",
           "male",
           0,
           0,
           "SC 14888",
           null,
           "S",
           "1913-01-11T00:00:00"
          ],
          [
           1169,
           0,
           2,
           "Faunthorpe, Mr. Harry",
           "male",
           1,
           0,
           "2926",
           null,
           "S",
           "1913-01-12T00:00:00"
          ],
          [
           1170,
           0,
           2,
           "Ware, Mr. John James",
           "male",
           1,
           0,
           "CA 31352",
           null,
           "S",
           "1913-01-13T00:00:00"
          ],
          [
           1171,
           0,
           2,
           "Oxenham, Mr. Percy Thomas",
           "male",
           0,
           0,
           "W./C. 14260",
           null,
           "S",
           "1913-01-14T00:00:00"
          ],
          [
           1172,
           1,
           3,
           "Oreskovic, Miss. Jelka",
           "female",
           0,
           0,
           "315085",
           null,
           "S",
           "1913-01-15T00:00:00"
          ],
          [
           1173,
           0,
           3,
           "Peacock, Master. Alfred Edward",
           "male",
           1,
           1,
           "SOTON/O.Q. 3101315",
           null,
           "S",
           "1913-01-16T00:00:00"
          ],
          [
           1174,
           1,
           3,
           "Fleming, Miss. Honora",
           "female",
           0,
           0,
           "364859",
           null,
           "Q",
           "1913-01-17T00:00:00"
          ],
          [
           1175,
           1,
           3,
           "Touma, Miss. Maria Youssef",
           "female",
           1,
           1,
           "2650",
           null,
           "C",
           "1913-01-18T00:00:00"
          ],
          [
           1176,
           1,
           3,
           "Rosblom, Miss. Salli Helena",
           "female",
           1,
           1,
           "370129",
           null,
           "S",
           "1913-01-19T00:00:00"
          ],
          [
           1177,
           0,
           3,
           "Dennis, Mr. William",
           "male",
           0,
           0,
           "A/5 21175",
           null,
           "S",
           "1913-01-20T00:00:00"
          ],
          [
           1178,
           0,
           3,
           "Franklin, Mr. Charles (Charles Fardon)",
           "male",
           0,
           0,
           "SOTON/O.Q. 3101314",
           null,
           "S",
           "1913-01-21T00:00:00"
          ],
          [
           1179,
           0,
           1,
           "Snyder, Mr. John Pillsbury",
           "male",
           1,
           0,
           "21228",
           "B45",
           "S",
           "1913-01-22T00:00:00"
          ],
          [
           1180,
           0,
           3,
           "Mardirosian, Mr. Sarkis",
           "male",
           0,
           0,
           "2655",
           "F E46",
           "C",
           "1913-01-23T00:00:00"
          ],
          [
           1181,
           0,
           3,
           "Ford, Mr. Arthur",
           "male",
           0,
           0,
           "A/5 1478",
           null,
           "S",
           "1913-01-24T00:00:00"
          ],
          [
           1182,
           0,
           1,
           "Rheims, Mr. George Alexander Lucien",
           "male",
           0,
           0,
           "PC 17607",
           null,
           "S",
           "1913-01-25T00:00:00"
          ],
          [
           1183,
           1,
           3,
           "Daly, Miss. Margaret Marcella Maggie\"\"",
           "female",
           0,
           0,
           "382650",
           null,
           "Q",
           "1913-01-26T00:00:00"
          ],
          [
           1184,
           0,
           3,
           "Nasr, Mr. Mustafa",
           "male",
           0,
           0,
           "2652",
           null,
           "C",
           "1913-01-27T00:00:00"
          ],
          [
           1185,
           0,
           1,
           "Dodge, Dr. Washington",
           "male",
           1,
           1,
           "33638",
           "A34",
           "S",
           "1913-01-28T00:00:00"
          ],
          [
           1186,
           0,
           3,
           "Wittevrongel, Mr. Camille",
           "male",
           0,
           0,
           "345771",
           null,
           "S",
           "1913-01-29T00:00:00"
          ],
          [
           1187,
           0,
           3,
           "Angheloff, Mr. Minko",
           "male",
           0,
           0,
           "349202",
           null,
           "S",
           "1913-01-30T00:00:00"
          ],
          [
           1188,
           1,
           2,
           "Laroche, Miss. Louise",
           "female",
           1,
           2,
           "SC/Paris 2123",
           null,
           "C",
           "1913-01-31T00:00:00"
          ],
          [
           1189,
           0,
           3,
           "Samaan, Mr. Hanna",
           "male",
           2,
           0,
           "2662",
           null,
           "C",
           "1913-02-01T00:00:00"
          ],
          [
           1190,
           0,
           1,
           "Loring, Mr. Joseph Holland",
           "male",
           0,
           0,
           "113801",
           null,
           "S",
           "1913-02-02T00:00:00"
          ],
          [
           1191,
           0,
           3,
           "Johansson, Mr. Nils",
           "male",
           0,
           0,
           "347467",
           null,
           "S",
           "1913-02-03T00:00:00"
          ],
          [
           1192,
           0,
           3,
           "Olsson, Mr. Oscar Wilhelm",
           "male",
           0,
           0,
           "347079",
           null,
           "S",
           "1913-02-04T00:00:00"
          ],
          [
           1193,
           0,
           2,
           "Malachard, Mr. Noel",
           "male",
           0,
           0,
           "237735",
           "D",
           "C",
           "1913-02-05T00:00:00"
          ],
          [
           1194,
           0,
           2,
           "Phillips, Mr. Escott Robert",
           "male",
           0,
           1,
           "S.O./P.P. 2",
           null,
           "S",
           "1913-02-06T00:00:00"
          ],
          [
           1195,
           0,
           3,
           "Pokrnic, Mr. Tome",
           "male",
           0,
           0,
           "315092",
           null,
           "S",
           "1913-02-07T00:00:00"
          ],
          [
           1196,
           1,
           3,
           "McCarthy, Miss. Catherine Katie\"\"",
           "female",
           0,
           0,
           "383123",
           null,
           "Q",
           "1913-02-08T00:00:00"
          ],
          [
           1197,
           1,
           1,
           "Crosby, Mrs. Edward Gifford (Catherine Elizabeth Halstead)",
           "female",
           1,
           1,
           "112901",
           "B26",
           "S",
           "1913-02-09T00:00:00"
          ],
          [
           1198,
           0,
           1,
           "Allison, Mr. Hudson Joshua Creighton",
           "male",
           1,
           2,
           "113781",
           "C22 C26",
           "S",
           "1913-02-10T00:00:00"
          ],
          [
           1199,
           0,
           3,
           "Aks, Master. Philip Frank",
           "male",
           0,
           1,
           "392091",
           null,
           "S",
           "1913-02-11T00:00:00"
          ],
          [
           1200,
           0,
           1,
           "Hays, Mr. Charles Melville",
           "male",
           1,
           1,
           "12749",
           "B69",
           "S",
           "1913-02-12T00:00:00"
          ],
          [
           1201,
           1,
           3,
           "Hansen, Mrs. Claus Peter (Jennie L Howard)",
           "female",
           1,
           0,
           "350026",
           null,
           "S",
           "1913-02-13T00:00:00"
          ],
          [
           1202,
           0,
           3,
           "Cacic, Mr. Jego Grga",
           "male",
           0,
           0,
           "315091",
           null,
           "S",
           "1913-02-14T00:00:00"
          ],
          [
           1203,
           0,
           3,
           "Vartanian, Mr. David",
           "male",
           0,
           0,
           "2658",
           null,
           "C",
           "1913-02-15T00:00:00"
          ],
          [
           1204,
           0,
           3,
           "Sadowitz, Mr. Harry",
           "male",
           0,
           0,
           "LP 1588",
           null,
           "S",
           "1913-02-16T00:00:00"
          ],
          [
           1205,
           1,
           3,
           "Carr, Miss. Jeannie",
           "female",
           0,
           0,
           "368364",
           null,
           "Q",
           "1913-02-17T00:00:00"
          ],
          [
           1206,
           1,
           1,
           "White, Mrs. John Stuart (Ella Holmes)",
           "female",
           0,
           0,
           "PC 17760",
           "C32",
           "C",
           "1913-02-18T00:00:00"
          ],
          [
           1207,
           1,
           3,
           "Hagardon, Miss. Kate",
           "female",
           0,
           0,
           "AQ/3. 30631",
           null,
           "Q",
           "1913-02-19T00:00:00"
          ],
          [
           1208,
           0,
           1,
           "Spencer, Mr. William Augustus",
           "male",
           1,
           0,
           "PC 17569",
           "B78",
           "C",
           "1913-02-20T00:00:00"
          ],
          [
           1209,
           0,
           2,
           "Rogers, Mr. Reginald Harry",
           "male",
           0,
           0,
           "28004",
           null,
           "S",
           "1913-02-21T00:00:00"
          ],
          [
           1210,
           0,
           3,
           "Jonsson, Mr. Nils Hilding",
           "male",
           0,
           0,
           "350408",
           null,
           "S",
           "1913-02-22T00:00:00"
          ],
          [
           1211,
           0,
           2,
           "Jefferys, Mr. Ernest Wilfred",
           "male",
           2,
           0,
           "C.A. 31029",
           null,
           "S",
           "1913-02-23T00:00:00"
          ],
          [
           1212,
           0,
           3,
           "Andersson, Mr. Johan Samuel",
           "male",
           0,
           0,
           "347075",
           null,
           "S",
           "1913-02-24T00:00:00"
          ],
          [
           1213,
           0,
           3,
           "Krekorian, Mr. Neshan",
           "male",
           0,
           0,
           "2654",
           "F E57",
           "C",
           "1913-02-25T00:00:00"
          ],
          [
           1214,
           0,
           2,
           "Nesson, Mr. Israel",
           "male",
           0,
           0,
           "244368",
           "F2",
           "S",
           "1913-02-26T00:00:00"
          ],
          [
           1215,
           0,
           1,
           "Rowe, Mr. Alfred G",
           "male",
           0,
           0,
           "113790",
           null,
           "S",
           "1913-02-27T00:00:00"
          ],
          [
           1216,
           1,
           1,
           "Kreuchen, Miss. Emilie",
           "female",
           0,
           0,
           "24160",
           null,
           "S",
           "1913-02-28T00:00:00"
          ],
          [
           1217,
           0,
           3,
           "Assam, Mr. Ali",
           "male",
           0,
           0,
           "SOTON/O.Q. 3101309",
           null,
           "S",
           "1913-03-01T00:00:00"
          ],
          [
           1218,
           1,
           2,
           "Becker, Miss. Ruth Elizabeth",
           "female",
           2,
           1,
           "230136",
           "F4",
           "S",
           "1913-03-02T00:00:00"
          ],
          [
           1219,
           0,
           1,
           "Rosenshine, Mr. George (Mr George Thorne\")\"",
           "male",
           0,
           0,
           "PC 17585",
           null,
           "C",
           "1913-03-03T00:00:00"
          ],
          [
           1220,
           0,
           2,
           "Clarke, Mr. Charles Valentine",
           "male",
           1,
           0,
           "2003",
           null,
           "S",
           "1913-03-04T00:00:00"
          ],
          [
           1221,
           0,
           2,
           "Enander, Mr. Ingvar",
           "male",
           0,
           0,
           "236854",
           null,
           "S",
           "1913-03-05T00:00:00"
          ],
          [
           1222,
           1,
           2,
           "Davies, Mrs. John Morgan (Elizabeth Agnes Mary White) ",
           "female",
           0,
           2,
           "C.A. 33112",
           null,
           "S",
           "1913-03-06T00:00:00"
          ],
          [
           1223,
           0,
           1,
           "Dulles, Mr. William Crothers",
           "male",
           0,
           0,
           "PC 17580",
           "A18",
           "C",
           "1913-03-07T00:00:00"
          ],
          [
           1224,
           0,
           3,
           "Thomas, Mr. Tannous",
           "male",
           0,
           0,
           "2684",
           null,
           "C",
           "1913-03-08T00:00:00"
          ],
          [
           1225,
           1,
           3,
           "Nakid, Mrs. Said (Waika Mary\" Mowad)\"",
           "female",
           1,
           1,
           "2653",
           null,
           "C",
           "1913-03-09T00:00:00"
          ],
          [
           1226,
           0,
           3,
           "Cor, Mr. Ivan",
           "male",
           0,
           0,
           "349229",
           null,
           "S",
           "1913-03-10T00:00:00"
          ],
          [
           1227,
           0,
           1,
           "Maguire, Mr. John Edward",
           "male",
           0,
           0,
           "110469",
           "C106",
           "S",
           "1913-03-11T00:00:00"
          ],
          [
           1228,
           0,
           2,
           "de Brito, Mr. Jose Joaquim",
           "male",
           0,
           0,
           "244360",
           null,
           "S",
           "1913-03-12T00:00:00"
          ],
          [
           1229,
           0,
           3,
           "Elias, Mr. Joseph",
           "male",
           0,
           2,
           "2675",
           null,
           "C",
           "1913-03-13T00:00:00"
          ],
          [
           1230,
           0,
           2,
           "Denbury, Mr. Herbert",
           "male",
           0,
           0,
           "C.A. 31029",
           null,
           "S",
           "1913-03-14T00:00:00"
          ],
          [
           1231,
           0,
           3,
           "Betros, Master. Seman",
           "male",
           0,
           0,
           "2622",
           null,
           "C",
           "1913-03-15T00:00:00"
          ],
          [
           1232,
           0,
           2,
           "Fillbrook, Mr. Joseph Charles",
           "male",
           0,
           0,
           "C.A. 15185",
           null,
           "S",
           "1913-03-16T00:00:00"
          ],
          [
           1233,
           0,
           3,
           "Lundstrom, Mr. Thure Edvin",
           "male",
           0,
           0,
           "350403",
           null,
           "S",
           "1913-03-17T00:00:00"
          ],
          [
           1234,
           0,
           3,
           "Sage, Mr. John George",
           "male",
           1,
           9,
           "CA. 2343",
           null,
           "S",
           "1913-03-18T00:00:00"
          ],
          [
           1235,
           1,
           1,
           "Cardeza, Mrs. James Warburton Martinez (Charlotte Wardle Drake)",
           "female",
           0,
           1,
           "PC 17755",
           "B51 B53 B55",
           "C",
           "1913-03-19T00:00:00"
          ],
          [
           1236,
           0,
           3,
           "van Billiard, Master. James William",
           "male",
           1,
           1,
           "A/5. 851",
           null,
           "S",
           "1913-03-20T00:00:00"
          ],
          [
           1237,
           1,
           3,
           "Abelseth, Miss. Karen Marie",
           "female",
           0,
           0,
           "348125",
           null,
           "S",
           "1913-03-21T00:00:00"
          ],
          [
           1238,
           0,
           2,
           "Botsford, Mr. William Hull",
           "male",
           0,
           0,
           "237670",
           null,
           "S",
           "1913-03-22T00:00:00"
          ],
          [
           1239,
           1,
           3,
           "Whabee, Mrs. George Joseph (Shawneene Abi-Saab)",
           "female",
           0,
           0,
           "2688",
           null,
           "C",
           "1913-03-23T00:00:00"
          ],
          [
           1240,
           0,
           2,
           "Giles, Mr. Ralph",
           "male",
           0,
           0,
           "248726",
           null,
           "S",
           "1913-03-24T00:00:00"
          ],
          [
           1241,
           1,
           2,
           "Walcroft, Miss. Nellie",
           "female",
           0,
           0,
           "F.C.C. 13528",
           null,
           "S",
           "1913-03-25T00:00:00"
          ],
          [
           1242,
           1,
           1,
           "Greenfield, Mrs. Leo David (Blanche Strouse)",
           "female",
           0,
           1,
           "PC 17759",
           "D10 D12",
           "C",
           "1913-03-26T00:00:00"
          ],
          [
           1243,
           0,
           2,
           "Stokes, Mr. Philip Joseph",
           "male",
           0,
           0,
           "F.C.C. 13540",
           null,
           "S",
           "1913-03-27T00:00:00"
          ],
          [
           1244,
           0,
           2,
           "Dibden, Mr. William",
           "male",
           0,
           0,
           "S.O.C. 14879",
           null,
           "S",
           "1913-03-28T00:00:00"
          ],
          [
           1245,
           0,
           2,
           "Herman, Mr. Samuel",
           "male",
           1,
           2,
           "220845",
           null,
           "S",
           "1913-03-29T00:00:00"
          ],
          [
           1246,
           1,
           3,
           "Dean, Miss. Elizabeth Gladys Millvina\"\"",
           "female",
           1,
           2,
           "C.A. 2315",
           null,
           "S",
           "1913-03-30T00:00:00"
          ],
          [
           1247,
           0,
           1,
           "Julian, Mr. Henry Forbes",
           "male",
           0,
           0,
           "113044",
           "E60",
           "S",
           "1913-03-31T00:00:00"
          ],
          [
           1248,
           1,
           1,
           "Brown, Mrs. John Murray (Caroline Lane Lamson)",
           "female",
           2,
           0,
           "11769",
           "C101",
           "S",
           "1913-04-01T00:00:00"
          ],
          [
           1249,
           0,
           3,
           "Lockyer, Mr. Edward",
           "male",
           0,
           0,
           "1222",
           null,
           "S",
           "1913-04-02T00:00:00"
          ],
          [
           1250,
           0,
           3,
           "O'Keefe, Mr. Patrick",
           "male",
           0,
           0,
           "368402",
           null,
           "Q",
           "1913-04-03T00:00:00"
          ],
          [
           1251,
           1,
           3,
           "Lindell, Mrs. Edvard Bengtsson (Elin Gerda Persson)",
           "female",
           1,
           0,
           "349910",
           null,
           "S",
           "1913-04-04T00:00:00"
          ],
          [
           1252,
           0,
           3,
           "Sage, Master. William Henry",
           "male",
           8,
           2,
           "CA. 2343",
           null,
           "S",
           "1913-04-05T00:00:00"
          ],
          [
           1253,
           1,
           2,
           "Mallet, Mrs. Albert (Antoinette Magnin)",
           "female",
           1,
           1,
           "S.C./PARIS 2079",
           null,
           "C",
           "1913-04-06T00:00:00"
          ],
          [
           1254,
           1,
           2,
           "Ware, Mrs. John James (Florence Louise Long)",
           "female",
           0,
           0,
           "CA 31352",
           null,
           "S",
           "1913-04-07T00:00:00"
          ],
          [
           1255,
           0,
           3,
           "Strilic, Mr. Ivan",
           "male",
           0,
           0,
           "315083",
           null,
           "S",
           "1913-04-08T00:00:00"
          ],
          [
           1256,
           1,
           1,
           "Harder, Mrs. George Achilles (Dorothy Annan)",
           "female",
           1,
           0,
           "11765",
           "E50",
           "C",
           "1913-04-09T00:00:00"
          ],
          [
           1257,
           1,
           3,
           "Sage, Mrs. John (Annie Bullen)",
           "female",
           1,
           9,
           "CA. 2343",
           null,
           "S",
           "1913-04-10T00:00:00"
          ],
          [
           1258,
           0,
           3,
           "Caram, Mr. Joseph",
           "male",
           1,
           0,
           "2689",
           null,
           "C",
           "1913-04-11T00:00:00"
          ],
          [
           1259,
           1,
           3,
           "Riihivouri, Miss. Susanna Juhantytar Sanni\"\"",
           "female",
           0,
           0,
           "3101295",
           null,
           "S",
           "1913-04-12T00:00:00"
          ],
          [
           1260,
           1,
           1,
           "Gibson, Mrs. Leonard (Pauline C Boeson)",
           "female",
           0,
           1,
           "112378",
           null,
           "C",
           "1913-04-13T00:00:00"
          ],
          [
           1261,
           0,
           2,
           "Pallas y Castello, Mr. Emilio",
           "male",
           0,
           0,
           "SC/PARIS 2147",
           null,
           "C",
           "1913-04-14T00:00:00"
          ],
          [
           1262,
           0,
           2,
           "Giles, Mr. Edgar",
           "male",
           1,
           0,
           "28133",
           null,
           "S",
           "1913-04-15T00:00:00"
          ],
          [
           1263,
           1,
           1,
           "Wilson, Miss. Helen Alice",
           "female",
           0,
           0,
           "16966",
           "E39 E41",
           "C",
           "1913-04-16T00:00:00"
          ],
          [
           1264,
           0,
           1,
           "Ismay, Mr. Joseph Bruce",
           "male",
           0,
           0,
           "112058",
           "B52 B54 B56",
           "S",
           "1913-04-17T00:00:00"
          ],
          [
           1265,
           0,
           2,
           "Harbeck, Mr. William H",
           "male",
           0,
           0,
           "248746",
           null,
           "S",
           "1913-04-18T00:00:00"
          ],
          [
           1266,
           1,
           1,
           "Dodge, Mrs. Washington (Ruth Vidaver)",
           "female",
           1,
           1,
           "33638",
           "A34",
           "S",
           "1913-04-19T00:00:00"
          ],
          [
           1267,
           1,
           1,
           "Bowen, Miss. Grace Scott",
           "female",
           0,
           0,
           "PC 17608",
           null,
           "C",
           "1913-04-20T00:00:00"
          ],
          [
           1268,
           1,
           3,
           "Kink, Miss. Maria",
           "female",
           2,
           0,
           "315152",
           null,
           "S",
           "1913-04-21T00:00:00"
          ],
          [
           1269,
           0,
           2,
           "Cotterill, Mr. Henry Harry\"\"",
           "male",
           0,
           0,
           "29107",
           null,
           "S",
           "1913-04-22T00:00:00"
          ],
          [
           1270,
           0,
           1,
           "Hipkins, Mr. William Edward",
           "male",
           0,
           0,
           "680",
           "C39",
           "S",
           "1913-04-23T00:00:00"
          ],
          [
           1271,
           0,
           3,
           "Asplund, Master. Carl Edgar",
           "male",
           4,
           2,
           "347077",
           null,
           "S",
           "1913-04-24T00:00:00"
          ],
          [
           1272,
           0,
           3,
           "O'Connor, Mr. Patrick",
           "male",
           0,
           0,
           "366713",
           null,
           "Q",
           "1913-04-25T00:00:00"
          ],
          [
           1273,
           0,
           3,
           "Foley, Mr. Joseph",
           "male",
           0,
           0,
           "330910",
           null,
           "Q",
           "1913-04-26T00:00:00"
          ],
          [
           1274,
           1,
           3,
           "Risien, Mrs. Samuel (Emma)",
           "female",
           0,
           0,
           "364498",
           null,
           "S",
           "1913-04-27T00:00:00"
          ],
          [
           1275,
           1,
           3,
           "McNamee, Mrs. Neal (Eileen O'Leary)",
           "female",
           1,
           0,
           "376566",
           null,
           "S",
           "1913-04-28T00:00:00"
          ],
          [
           1276,
           0,
           2,
           "Wheeler, Mr. Edwin Frederick\"\"",
           "male",
           0,
           0,
           "SC/PARIS 2159",
           null,
           "S",
           "1913-04-29T00:00:00"
          ],
          [
           1277,
           1,
           2,
           "Herman, Miss. Kate",
           "female",
           1,
           2,
           "220845",
           null,
           "S",
           "1913-04-30T00:00:00"
          ],
          [
           1278,
           0,
           3,
           "Aronsson, Mr. Ernst Axel Algot",
           "male",
           0,
           0,
           "349911",
           null,
           "S",
           "1913-05-01T00:00:00"
          ],
          [
           1279,
           0,
           2,
           "Ashby, Mr. John",
           "male",
           0,
           0,
           "244346",
           null,
           "S",
           "1913-05-02T00:00:00"
          ],
          [
           1280,
           0,
           3,
           "Canavan, Mr. Patrick",
           "male",
           0,
           0,
           "364858",
           null,
           "Q",
           "1913-05-03T00:00:00"
          ],
          [
           1281,
           0,
           3,
           "Palsson, Master. Paul Folke",
           "male",
           3,
           1,
           "349909",
           null,
           "S",
           "1913-05-04T00:00:00"
          ],
          [
           1282,
           0,
           1,
           "Payne, Mr. Vivian Ponsonby",
           "male",
           0,
           0,
           "12749",
           "B24",
           "S",
           "1913-05-05T00:00:00"
          ],
          [
           1283,
           1,
           1,
           "Lines, Mrs. Ernest H (Elizabeth Lindsey James)",
           "female",
           0,
           1,
           "PC 17592",
           "D28",
           "S",
           "1913-05-06T00:00:00"
          ],
          [
           1284,
           0,
           3,
           "Abbott, Master. Eugene Joseph",
           "male",
           0,
           2,
           "C.A. 2673",
           null,
           "S",
           "1913-05-07T00:00:00"
          ],
          [
           1285,
           0,
           2,
           "Gilbert, Mr. William",
           "male",
           0,
           0,
           "C.A. 30769",
           null,
           "S",
           "1913-05-08T00:00:00"
          ],
          [
           1286,
           0,
           3,
           "Kink-Heilmann, Mr. Anton",
           "male",
           3,
           1,
           "315153",
           null,
           "S",
           "1913-05-09T00:00:00"
          ],
          [
           1287,
           1,
           1,
           "Smith, Mrs. Lucien Philip (Mary Eloise Hughes)",
           "female",
           1,
           0,
           "13695",
           "C31",
           "S",
           "1913-05-10T00:00:00"
          ],
          [
           1288,
           0,
           3,
           "Colbert, Mr. Patrick",
           "male",
           0,
           0,
           "371109",
           null,
           "Q",
           "1913-05-11T00:00:00"
          ],
          [
           1289,
           1,
           1,
           "Frolicher-Stehli, Mrs. Maxmillian (Margaretha Emerentia Stehli)",
           "female",
           1,
           1,
           "13567",
           "B41",
           "C",
           "1913-05-12T00:00:00"
          ],
          [
           1290,
           0,
           3,
           "Larsson-Rondberg, Mr. Edvard A",
           "male",
           0,
           0,
           "347065",
           null,
           "S",
           "1913-05-13T00:00:00"
          ],
          [
           1291,
           0,
           3,
           "Conlon, Mr. Thomas Henry",
           "male",
           0,
           0,
           "21332",
           null,
           "Q",
           "1913-05-14T00:00:00"
          ],
          [
           1292,
           1,
           1,
           "Bonnell, Miss. Caroline",
           "female",
           0,
           0,
           "36928",
           "C7",
           "S",
           "1913-05-15T00:00:00"
          ],
          [
           1293,
           0,
           2,
           "Gale, Mr. Harry",
           "male",
           1,
           0,
           "28664",
           null,
           "S",
           "1913-05-16T00:00:00"
          ],
          [
           1294,
           1,
           1,
           "Gibson, Miss. Dorothy Winifred",
           "female",
           0,
           1,
           "112378",
           null,
           "C",
           "1913-05-17T00:00:00"
          ],
          [
           1295,
           0,
           1,
           "Carrau, Mr. Jose Pedro",
           "male",
           0,
           0,
           "113059",
           null,
           "S",
           "1913-05-18T00:00:00"
          ],
          [
           1296,
           0,
           1,
           "Frauenthal, Mr. Isaac Gerald",
           "male",
           1,
           0,
           "17765",
           "D40",
           "C",
           "1913-05-19T00:00:00"
          ],
          [
           1297,
           0,
           2,
           "Nourney, Mr. Alfred (Baron von Drachstedt\")\"",
           "male",
           0,
           0,
           "SC/PARIS 2166",
           "D38",
           "C",
           "1913-05-20T00:00:00"
          ],
          [
           1298,
           0,
           2,
           "Ware, Mr. William Jeffery",
           "male",
           1,
           0,
           "28666",
           null,
           "S",
           "1913-05-21T00:00:00"
          ],
          [
           1299,
           0,
           1,
           "Widener, Mr. George Dunton",
           "male",
           1,
           1,
           "113503",
           "C80",
           "C",
           "1913-05-22T00:00:00"
          ],
          [
           1300,
           1,
           3,
           "Riordan, Miss. Johanna Hannah\"\"",
           "female",
           0,
           0,
           "334915",
           null,
           "Q",
           "1913-05-23T00:00:00"
          ],
          [
           1301,
           1,
           3,
           "Peacock, Miss. Treasteall",
           "female",
           1,
           1,
           "SOTON/O.Q. 3101315",
           null,
           "S",
           "1913-05-24T00:00:00"
          ],
          [
           1302,
           1,
           3,
           "Naughton, Miss. Hannah",
           "female",
           0,
           0,
           "365237",
           null,
           "Q",
           "1913-05-25T00:00:00"
          ],
          [
           1303,
           1,
           1,
           "Minahan, Mrs. William Edward (Lillian E Thorpe)",
           "female",
           1,
           0,
           "19928",
           "C78",
           "Q",
           "1913-05-26T00:00:00"
          ],
          [
           1304,
           1,
           3,
           "Henriksson, Miss. Jenny Lovisa",
           "female",
           0,
           0,
           "347086",
           null,
           "S",
           "1913-05-27T00:00:00"
          ],
          [
           1305,
           0,
           3,
           "Spector, Mr. Woolf",
           "male",
           0,
           0,
           "A.5. 3236",
           null,
           "S",
           "1913-05-28T00:00:00"
          ],
          [
           1306,
           1,
           1,
           "Oliva y Ocana, Dona. Fermina",
           "female",
           0,
           0,
           "PC 17758",
           "C105",
           "C",
           "1913-05-29T00:00:00"
          ],
          [
           1307,
           0,
           3,
           "Saether, Mr. Simon Sivertsen",
           "male",
           0,
           0,
           "SOTON/O.Q. 3101262",
           null,
           "S",
           "1913-05-30T00:00:00"
          ],
          [
           1308,
           0,
           3,
           "Ware, Mr. Frederick",
           "male",
           0,
           0,
           "359309",
           null,
           "S",
           "1913-05-31T00:00:00"
          ],
          [
           1309,
           0,
           3,
           "Peter, Master. Michael J",
           "male",
           1,
           1,
           "2668",
           null,
           "C",
           "1913-06-01T00:00:00"
          ]
         ],
         "hovertemplate": "Age=%{x}<br>Fare=%{y}<br>PassengerId=%{customdata[0]}<br>Survived=%{marker.color}<br>Pclass=%{customdata[2]}<br>Name=%{customdata[3]}<br>Sex=%{customdata[4]}<br>SibSp=%{customdata[5]}<br>Parch=%{customdata[6]}<br>Ticket=%{customdata[7]}<br>Cabin=%{customdata[8]}<br>Embarked=%{customdata[9]}<br>Date=%{customdata[10]}<extra></extra>",
         "legendgroup": "",
         "marker": {
          "color": {
           "bdata": "AAEAAAEAAQABAAAAAQABAQAAAQEAAAEAAQABAAAAAAABAQAAAQEAAAAAAAEBAAAAAQEAAAEBAAAAAAABAAAAAQABAQAAAQEAAQABAAABAAEAAAAAAAABAQEAAQABAAAAAQABAAEAAAABAAAAAAAAAQEBAQAAAQABAQABAAABAAEAAAAAAQAAAAAAAQABAQAAAAAAAAAAAQAAAQAAAQEAAQEAAQAAAQAAAQEAAAAAAAEBAAEBAAABAAEAAQABAAAAAAAAAAABAAEBAAABAAABAAEAAAAAAQEAAQABAAEAAQABAQABAAAAAQAAAAAAAAEBAQEAAAAAAQABAQEAAAAAAAAAAQAAAAEBAAAAAAEAAAABAQABAAAAAAEAAQEBAAAAAAAAAQAAAAABAAAAAAAAAAEBAAAAAQAAAAEBAQAAAAAAAAAAAQABAAAAAQAAAQAAAAAAAAAAAAEAAQABAAEBAAAAAQABAAABAAEBAAEBAAEBAAABAAABAQEAAAAAAAEBAAEAAAAAAAEAAAABAAEAAAEAAQAAAAAAAQEBAQEAAQAAAA==",
           "dtype": "i1"
          },
          "coloraxis": "coloraxis",
          "opacity": 0.6,
          "symbol": "circle"
         },
         "mode": "markers",
         "name": "",
         "orientation": "v",
         "showlegend": false,
         "type": "scatter",
         "x": {
          "bdata": "AAAAAABAQUAAAAAAAIBHQAAAAAAAAE9AAAAAAAAAO0AAAAAAAAA2QAAAAAAAACxAAAAAAAAAPkAAAAAAAAA6QAAAAAAAADJAAAAAAAAANUAAAAAAAAD4fwAAAAAAAEdAAAAAAAAAN0AAAAAAAIBPQAAAAAAAgEdAAAAAAAAAOEAAAAAAAIBBQAAAAAAAADVAAAAAAAAAO0AAAAAAAIBGQAAAAAAAgEtAAAAAAAAAIkAAAAAAAAD4fwAAAAAAADVAAAAAAAAASEAAAAAAAABJQAAAAAAAADZAAAAAAACANkAAAAAAAIBEQAAAAAAAAPh/AAAAAAAASUAAAAAAAAA4QAAAAAAAgEBAAAAAAAAA+H8AAAAAAAA+QAAAAAAAgDJAAAAAAAAA+H8AAAAAAAA1QAAAAAAAADlAAAAAAAAA+H8AAAAAAIBDQAAAAAAAAPh/AAAAAACAREAAAAAAAAA+QAAAAAAAgEZAAAAAAAAAOUAAAAAAAIBGQAAAAAAAAPh/AAAAAAAATkAAAAAAAABCQAAAAAAAADhAAAAAAAAAO0AAAAAAAAA0QAAAAAAAADxAAAAAAAAA+H8AAAAAAAAkQAAAAAAAgEFAAAAAAAAAOUAAAAAAAAD4fwAAAAAAAEJAAAAAAAAAMUAAAAAAAABAQAAAAAAAADJAAAAAAAAANkAAAAAAAAAqQAAAAAAAAPh/AAAAAAAAMkAAAAAAAIBHQAAAAAAAAD9AAAAAAAAATkAAAAAAAAA4QAAAAAAAADVAAAAAAAAAPUAAAAAAAIA8QAAAAAAAgEFAAAAAAABAQEAAAAAAAAD4fwAAAAAAgEtAAAAAAAAAPkAAAAAAAAA4QAAAAAAAABhAAAAAAADAUEAAAAAAAIBIQAAAAAAAAPh/AAAAAAAA+H8AAAAAAAD4fwAAAAAAADtAAAAAAAAAMkAAAAAAAAD4fwAAAAAAAABAAAAAAAAANkAAAAAAAAD4fwAAAAAAADtAAAAAAAAA+H8AAAAAAAA5QAAAAAAAADlAAAAAAAAAU0AAAAAAAAA9QAAAAAAAADRAAAAAAACAQEAAAAAAAIBFQAAAAAAAADtAAAAAAAAA+H8AAAAAAAA6QAAAAAAAADBAAAAAAAAAPEAAAAAAAAA1QAAAAAAAAPh/AAAAAAAA+H8AAAAAAIAyQAAAAAAAgERAAAAAAAAA+H8AAAAAAABCQAAAAAAAgDJAAAAAAACAT0AAAAAAAAAyQAAAAAAAAPh/AAAAAAAA8D8AAAAAAABCQAAAAAAAAD1AAAAAAAAAKEAAAAAAAAD4fwAAAAAAgEFAAAAAAAAAPEAAAAAAAAD4fwAAAAAAADFAAAAAAAAANkAAAAAAAAD4fwAAAAAAAEVAAAAAAAAAOEAAAAAAAABAQAAAAAAAgEpAAAAAAAAA+H8AAAAAAAD4fwAAAAAAgEVAAAAAAAAAOEAAAAAAAIA6QAAAAAAAADpAAAAAAAAAN0AAAAAAAABEQAAAAAAAACRAAAAAAACAQEAAAAAAAIBOQAAAAAAAADxAAAAAAAAARUAAAAAAAAA/QAAAAAAAAPh/AAAAAAAANkAAAAAAAAD4fwAAAAAAAD5AAAAAAAAAN0AAAAAAAAD4fwAAAAAAQE5AAAAAAAAAQkAAAAAAAAAqQAAAAAAAADhAAAAAAAAAPUAAAAAAAAA3QAAAAAAAAEVAAAAAAAAAOkAAAAAAAAD4fwAAAAAAABxAAAAAAAAAOkAAAAAAAAD4fwAAAAAAgERAAAAAAAAAOkAAAAAAAABIQAAAAAAAADJAAAAAAAAA+H8AAAAAAAA2QAAAAAAAAPh/AAAAAAAAO0AAAAAAAAA3QAAAAAAAAPh/AAAAAAAAREAAAAAAAAAuQAAAAAAAADRAAAAAAAAAS0AAAAAAAABCQAAAAAAAAFBAAAAAAAAAPkAAAAAAAIBCQAAAAAAAADJAAAAAAAAA+H8AAAAAAAA7QAAAAAAAAERAAAAAAAAANUAAAAAAAAAxQAAAAAAAAPh/AAAAAAAAREAAAAAAAABBQAAAAAAAAPh/AAAAAAAAJ0AAAAAAAIBOQAAAAAAAACBAAAAAAACAQEAAAAAAAAAYQAAAAAAAADJAAAAAAAAAN0AAAAAAAAD4fwAAAAAAAPh/H4XrUbge1T8AAAAAAIBHQAAAAAAAACBAAAAAAAAAOUAAAAAAAAD4fwAAAAAAgEFAAAAAAAAAOEAAAAAAAIBAQAAAAAAAADlAAAAAAAAAQEAAAAAAAAD4fwAAAAAAADFAAAAAAAAATkAAAAAAAABDQAAAAAAAAEVAAAAAAAAA+H8AAAAAAIBMQAAAAAAAAElAAAAAAAAA+H8AAAAAAAA+QAAAAAAAADVAAAAAAAAANkAAAAAAAAA1QAAAAAAAgEpAAAAAAAAA+H8AAAAAAAA3QAAAAAAAAPh/AAAAAABAREAAAAAAAABCQAAAAAAAACxAAAAAAAAANUAAAAAAAAA1QAAAAAAAAPh/AAAAAACAQ0AAAAAAAAA0QAAAAAAAAFBAAAAAAAAANEAAAAAAAAAyQAAAAAAAAEhAAAAAAACAS0AAAAAAAIBGQAAAAAAAgEZAAAAAAAAA+H8AAAAAAAD4fwAAAAAAgERAAAAAAAAANkAAAAAAAABFQAAAAAAAAD1AAAAAAAAA+H9xPQrXo3DtPwAAAAAAADRAAAAAAAAAO0AAAAAAAAA4QAAAAAAAQEBAAAAAAAAA+H8AAAAAAAD4fwAAAAAAADxAAAAAAAAAM0AAAAAAAAA1QAAAAAAAQEJAAAAAAAAANUAAAAAAAAA9QAAAAAAAAPA/AAAAAAAAPkAAAAAAAAD4fwAAAAAAAPh/AAAAAAAA+H8AAAAAAAD4fwAAAAAAADFAAAAAAAAAR0AAAAAAAAD4fwAAAAAAADpAAAAAAAAA+H8AAAAAAAD4fwAAAAAAADRAAAAAAAAAPEAAAAAAAABEQAAAAAAAAD5AAAAAAAAANkAAAAAAAAA3QAAAAAAAAOg/AAAAAAAA+H8AAAAAAAAiQAAAAAAAAABAAAAAAAAAQkAAAAAAAAD4fwAAAAAAADhAAAAAAAAA+H8AAAAAAAD4fwAAAAAAAPh/AAAAAAAAPkAAAAAAAAD4fwAAAAAAgEpAAAAAAAAAQkAAAAAAAAA6QAAAAAAAAPA/AAAAAAAA+H8AAAAAAAA+QAAAAAAAAD1AAAAAAAAAQEAAAAAAAAD4fwAAAAAAgEVAAAAAAAAAOEAAAAAAAAD4fwAAAAAAAFBAAAAAAAAAPkCPwvUoXI/qPwAAAAAAgEtAAAAAAACARkAAAAAAAAAyQAAAAAAAADZAAAAAAAAA+H8AAAAAAIBCQAAAAAAAgEtAAAAAAAAAMUAAAAAAAIBMQAAAAAAAADNAAAAAAAAAO0AAAAAAAAA2QAAAAAAAADpAAAAAAAAAOUAAAAAAAAA6QAAAAAAAgEBAAAAAAACAQ0AAAAAAAAA3QAAAAAAAAChAAAAAAAAAR0AAAAAAAAA9QAAAAAAAADVAAAAAAAAASEAAAAAAAIBDQAAAAAAAAPh/AAAAAAAAM0AAAAAAAAA7QAAAAAAAAD5AAAAAAAAAQEAAAAAAAIBDQAAAAAAAADlAAAAAAAAA+H8AAAAAAAAyQAAAAAAAAEBAAAAAAAAA+H8AAAAAAABNQAAAAAAAAPh/AAAAAAAAMEAAAAAAAAA6QAAAAAAAAENAAAAAAAAAOEAAAAAAAAA/QAAAAAAAgEZAAAAAAAAAOUAAAAAAAAAyQAAAAAAAgEhAw/UoXI/CxT8AAAAAAABJQAAAAAAAgE1AAAAAAAAA+H8AAAAAAAD4fwAAAAAAAD5AAAAAAAAALUAAAAAAAAA4QAAAAAAAAD9AAAAAAAAAO0AAAAAAAAA5QAAAAAAAAPh/AAAAAAAA+H8AAAAAAAA2QAAAAAAAgEZAAAAAAAAAPUAAAAAAAAA1QAAAAAAAAD9AAAAAAACASEAAAAAAAABGQAAAAAAAAEtAAAAAAACARkAAAAAAAAA2QAAAAAAAADVAAAAAAACAS0AAAAAAAAAUQAAAAAAAAPh/AAAAAAAAOkAAAAAAAAD4fwAAAAAAADNAAAAAAAAA+H8AAAAAAAA4QAAAAAAAADhAAAAAAACATEAAAAAAAAA1QAAAAAAAABhAAAAAAAAAN0AAAAAAAIBJQAAAAAAAACpAAAAAAACAR0AAAAAAAAA9QAAAAAAAADJAAAAAAAAAOEAAAAAAAABIQAAAAAAAADZAAAAAAAAAP0AAAAAAAAA+QAAAAAAAAENAAAAAAAAANkAAAAAAAAAxQAAAAAAAgEVAAAAAAAAANEAAAAAAAAA3QAAAAAAAAElAAAAAAAAA+H8AAAAAAAAIQAAAAAAAAPh/AAAAAACAQkAAAAAAAAA8QAAAAAAAAPh/AAAAAACAQ0AAAAAAAEBDQAAAAAAAAPh/AAAAAAAA+H8=",
          "dtype": "f8"
         },
         "xaxis": "x",
         "y": {
          "bdata": "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",
          "dtype": "f8"
         },
         "yaxis": "y"
        }
       ],
       "layout": {
        "coloraxis": {
         "colorbar": {
          "title": {
           "text": "Survived"
          }
         },
         "colorscale": [
          [
           0,
           "#0d0887"
          ],
          [
           0.1111111111111111,
           "#46039f"
          ],
          [
           0.2222222222222222,
           "#7201a8"
          ],
          [
           0.3333333333333333,
           "#9c179e"
          ],
          [
           0.4444444444444444,
           "#bd3786"
          ],
          [
           0.5555555555555556,
           "#d8576b"
          ],
          [
           0.6666666666666666,
           "#ed7953"
          ],
          [
           0.7777777777777778,
           "#fb9f3a"
          ],
          [
           0.8888888888888888,
           "#fdca26"
          ],
          [
           1,
           "#f0f921"
          ]
         ]
        },
        "legend": {
         "tracegroupgap": 0
        },
        "margin": {
         "t": 60
        },
        "template": {
         "data": {
          "bar": [
           {
            "error_x": {
             "color": "#2a3f5f"
            },
            "error_y": {
             "color": "#2a3f5f"
            },
            "marker": {
             "line": {
              "color": "#E5ECF6",
              "width": 0.5
             },
             "pattern": {
              "fillmode": "overlay",
              "size": 10,
              "solidity": 0.2
             }
            },
            "type": "bar"
           }
          ],
          "barpolar": [
           {
            "marker": {
             "line": {
              "color": "#E5ECF6",
              "width": 0.5
             },
             "pattern": {
              "fillmode": "overlay",
              "size": 10,
              "solidity": 0.2
             }
            },
            "type": "barpolar"
           }
          ],
          "carpet": [
           {
            "aaxis": {
             "endlinecolor": "#2a3f5f",
             "gridcolor": "white",
             "linecolor": "white",
             "minorgridcolor": "white",
             "startlinecolor": "#2a3f5f"
            },
            "baxis": {
             "endlinecolor": "#2a3f5f",
             "gridcolor": "white",
             "linecolor": "white",
             "minorgridcolor": "white",
             "startlinecolor": "#2a3f5f"
            },
            "type": "carpet"
           }
          ],
          "choropleth": [
           {
            "colorbar": {
             "outlinewidth": 0,
             "ticks": ""
            },
            "type": "choropleth"
           }
          ],
          "contour": [
           {
            "colorbar": {
             "outlinewidth": 0,
             "ticks": ""
            },
            "colorscale": [
             [
              0,
              "#0d0887"
             ],
             [
              0.1111111111111111,
              "#46039f"
             ],
             [
              0.2222222222222222,
              "#7201a8"
             ],
             [
              0.3333333333333333,
              "#9c179e"
             ],
             [
              0.4444444444444444,
              "#bd3786"
             ],
             [
              0.5555555555555556,
              "#d8576b"
             ],
             [
              0.6666666666666666,
              "#ed7953"
             ],
             [
              0.7777777777777778,
              "#fb9f3a"
             ],
             [
              0.8888888888888888,
              "#fdca26"
             ],
             [
              1,
              "#f0f921"
             ]
            ],
            "type": "contour"
           }
          ],
          "contourcarpet": [
           {
            "colorbar": {
             "outlinewidth": 0,
             "ticks": ""
            },
            "type": "contourcarpet"
           }
          ],
          "heatmap": [
           {
            "colorbar": {
             "outlinewidth": 0,
             "ticks": ""
            },
            "colorscale": [
             [
              0,
              "#0d0887"
             ],
             [
              0.1111111111111111,
              "#46039f"
             ],
             [
              0.2222222222222222,
              "#7201a8"
             ],
             [
              0.3333333333333333,
              "#9c179e"
             ],
             [
              0.4444444444444444,
              "#bd3786"
             ],
             [
              0.5555555555555556,
              "#d8576b"
             ],
             [
              0.6666666666666666,
              "#ed7953"
             ],
             [
              0.7777777777777778,
              "#fb9f3a"
             ],
             [
              0.8888888888888888,
              "#fdca26"
             ],
             [
              1,
              "#f0f921"
             ]
            ],
            "type": "heatmap"
           }
          ],
          "histogram": [
           {
            "marker": {
             "pattern": {
              "fillmode": "overlay",
              "size": 10,
              "solidity": 0.2
             }
            },
            "type": "histogram"
           }
          ],
          "histogram2d": [
           {
            "colorbar": {
             "outlinewidth": 0,
             "ticks": ""
            },
            "colorscale": [
             [
              0,
              "#0d0887"
             ],
             [
              0.1111111111111111,
              "#46039f"
             ],
             [
              0.2222222222222222,
              "#7201a8"
             ],
             [
              0.3333333333333333,
              "#9c179e"
             ],
             [
              0.4444444444444444,
              "#bd3786"
             ],
             [
              0.5555555555555556,
              "#d8576b"
             ],
             [
              0.6666666666666666,
              "#ed7953"
             ],
             [
              0.7777777777777778,
              "#fb9f3a"
             ],
             [
              0.8888888888888888,
              "#fdca26"
             ],
             [
              1,
              "#f0f921"
             ]
            ],
            "type": "histogram2d"
           }
          ],
          "histogram2dcontour": [
           {
            "colorbar": {
             "outlinewidth": 0,
             "ticks": ""
            },
            "colorscale": [
             [
              0,
              "#0d0887"
             ],
             [
              0.1111111111111111,
              "#46039f"
             ],
             [
              0.2222222222222222,
              "#7201a8"
             ],
             [
              0.3333333333333333,
              "#9c179e"
             ],
             [
              0.4444444444444444,
              "#bd3786"
             ],
             [
              0.5555555555555556,
              "#d8576b"
             ],
             [
              0.6666666666666666,
              "#ed7953"
             ],
             [
              0.7777777777777778,
              "#fb9f3a"
             ],
             [
              0.8888888888888888,
              "#fdca26"
             ],
             [
              1,
              "#f0f921"
             ]
            ],
            "type": "histogram2dcontour"
           }
          ],
          "mesh3d": [
           {
            "colorbar": {
             "outlinewidth": 0,
             "ticks": ""
            },
            "type": "mesh3d"
           }
          ],
          "parcoords": [
           {
            "line": {
             "colorbar": {
              "outlinewidth": 0,
              "ticks": ""
             }
            },
            "type": "parcoords"
           }
          ],
          "pie": [
           {
            "automargin": true,
            "type": "pie"
           }
          ],
          "scatter": [
           {
            "fillpattern": {
             "fillmode": "overlay",
             "size": 10,
             "solidity": 0.2
            },
            "type": "scatter"
           }
          ],
          "scatter3d": [
           {
            "line": {
             "colorbar": {
              "outlinewidth": 0,
              "ticks": ""
             }
            },
            "marker": {
             "colorbar": {
              "outlinewidth": 0,
              "ticks": ""
             }
            },
            "type": "scatter3d"
           }
          ],
          "scattercarpet": [
           {
            "marker": {
             "colorbar": {
              "outlinewidth": 0,
              "ticks": ""
             }
            },
            "type": "scattercarpet"
           }
          ],
          "scattergeo": [
           {
            "marker": {
             "colorbar": {
              "outlinewidth": 0,
              "ticks": ""
             }
            },
            "type": "scattergeo"
           }
          ],
          "scattergl": [
           {
            "marker": {
             "colorbar": {
              "outlinewidth": 0,
              "ticks": ""
             }
            },
            "type": "scattergl"
           }
          ],
          "scattermap": [
           {
            "marker": {
             "colorbar": {
              "outlinewidth": 0,
              "ticks": ""
             }
            },
            "type": "scattermap"
           }
          ],
          "scattermapbox": [
           {
            "marker": {
             "colorbar": {
              "outlinewidth": 0,
              "ticks": ""
             }
            },
            "type": "scattermapbox"
           }
          ],
          "scatterpolar": [
           {
            "marker": {
             "colorbar": {
              "outlinewidth": 0,
              "ticks": ""
             }
            },
            "type": "scatterpolar"
           }
          ],
          "scatterpolargl": [
           {
            "marker": {
             "colorbar": {
              "outlinewidth": 0,
              "ticks": ""
             }
            },
            "type": "scatterpolargl"
           }
          ],
          "scatterternary": [
           {
            "marker": {
             "colorbar": {
              "outlinewidth": 0,
              "ticks": ""
             }
            },
            "type": "scatterternary"
           }
          ],
          "surface": [
           {
            "colorbar": {
             "outlinewidth": 0,
             "ticks": ""
            },
            "colorscale": [
             [
              0,
              "#0d0887"
             ],
             [
              0.1111111111111111,
              "#46039f"
             ],
             [
              0.2222222222222222,
              "#7201a8"
             ],
             [
              0.3333333333333333,
              "#9c179e"
             ],
             [
              0.4444444444444444,
              "#bd3786"
             ],
             [
              0.5555555555555556,
              "#d8576b"
             ],
             [
              0.6666666666666666,
              "#ed7953"
             ],
             [
              0.7777777777777778,
              "#fb9f3a"
             ],
             [
              0.8888888888888888,
              "#fdca26"
             ],
             [
              1,
              "#f0f921"
             ]
            ],
            "type": "surface"
           }
          ],
          "table": [
           {
            "cells": {
             "fill": {
              "color": "#EBF0F8"
             },
             "line": {
              "color": "white"
             }
            },
            "header": {
             "fill": {
              "color": "#C8D4E3"
             },
             "line": {
              "color": "white"
             }
            },
            "type": "table"
           }
          ]
         },
         "layout": {
          "annotationdefaults": {
           "arrowcolor": "#2a3f5f",
           "arrowhead": 0,
           "arrowwidth": 1
          },
          "autotypenumbers": "strict",
          "coloraxis": {
           "colorbar": {
            "outlinewidth": 0,
            "ticks": ""
           }
          },
          "colorscale": {
           "diverging": [
            [
             0,
             "#8e0152"
            ],
            [
             0.1,
             "#c51b7d"
            ],
            [
             0.2,
             "#de77ae"
            ],
            [
             0.3,
             "#f1b6da"
            ],
            [
             0.4,
             "#fde0ef"
            ],
            [
             0.5,
             "#f7f7f7"
            ],
            [
             0.6,
             "#e6f5d0"
            ],
            [
             0.7,
             "#b8e186"
            ],
            [
             0.8,
             "#7fbc41"
            ],
            [
             0.9,
             "#4d9221"
            ],
            [
             1,
             "#276419"
            ]
           ],
           "sequential": [
            [
             0,
             "#0d0887"
            ],
            [
             0.1111111111111111,
             "#46039f"
            ],
            [
             0.2222222222222222,
             "#7201a8"
            ],
            [
             0.3333333333333333,
             "#9c179e"
            ],
            [
             0.4444444444444444,
             "#bd3786"
            ],
            [
             0.5555555555555556,
             "#d8576b"
            ],
            [
             0.6666666666666666,
             "#ed7953"
            ],
            [
             0.7777777777777778,
             "#fb9f3a"
            ],
            [
             0.8888888888888888,
             "#fdca26"
            ],
            [
             1,
             "#f0f921"
            ]
           ],
           "sequentialminus": [
            [
             0,
             "#0d0887"
            ],
            [
             0.1111111111111111,
             "#46039f"
            ],
            [
             0.2222222222222222,
             "#7201a8"
            ],
            [
             0.3333333333333333,
             "#9c179e"
            ],
            [
             0.4444444444444444,
             "#bd3786"
            ],
            [
             0.5555555555555556,
             "#d8576b"
            ],
            [
             0.6666666666666666,
             "#ed7953"
            ],
            [
             0.7777777777777778,
             "#fb9f3a"
            ],
            [
             0.8888888888888888,
             "#fdca26"
            ],
            [
             1,
             "#f0f921"
            ]
           ]
          },
          "colorway": [
           "#636efa",
           "#EF553B",
           "#00cc96",
           "#ab63fa",
           "#FFA15A",
           "#19d3f3",
           "#FF6692",
           "#B6E880",
           "#FF97FF",
           "#FECB52"
          ],
          "font": {
           "color": "#2a3f5f"
          },
          "geo": {
           "bgcolor": "white",
           "lakecolor": "white",
           "landcolor": "#E5ECF6",
           "showlakes": true,
           "showland": true,
           "subunitcolor": "white"
          },
          "hoverlabel": {
           "align": "left"
          },
          "hovermode": "closest",
          "mapbox": {
           "style": "light"
          },
          "paper_bgcolor": "white",
          "plot_bgcolor": "#E5ECF6",
          "polar": {
           "angularaxis": {
            "gridcolor": "white",
            "linecolor": "white",
            "ticks": ""
           },
           "bgcolor": "#E5ECF6",
           "radialaxis": {
            "gridcolor": "white",
            "linecolor": "white",
            "ticks": ""
           }
          },
          "scene": {
           "xaxis": {
            "backgroundcolor": "#E5ECF6",
            "gridcolor": "white",
            "gridwidth": 2,
            "linecolor": "white",
            "showbackground": true,
            "ticks": "",
            "zerolinecolor": "white"
           },
           "yaxis": {
            "backgroundcolor": "#E5ECF6",
            "gridcolor": "white",
            "gridwidth": 2,
            "linecolor": "white",
            "showbackground": true,
            "ticks": "",
            "zerolinecolor": "white"
           },
           "zaxis": {
            "backgroundcolor": "#E5ECF6",
            "gridcolor": "white",
            "gridwidth": 2,
            "linecolor": "white",
            "showbackground": true,
            "ticks": "",
            "zerolinecolor": "white"
           }
          },
          "shapedefaults": {
           "line": {
            "color": "#2a3f5f"
           }
          },
          "ternary": {
           "aaxis": {
            "gridcolor": "white",
            "linecolor": "white",
            "ticks": ""
           },
           "baxis": {
            "gridcolor": "white",
            "linecolor": "white",
            "ticks": ""
           },
           "bgcolor": "#E5ECF6",
           "caxis": {
            "gridcolor": "white",
            "linecolor": "white",
            "ticks": ""
           }
          },
          "title": {
           "x": 0.05
          },
          "xaxis": {
           "automargin": true,
           "gridcolor": "white",
           "linecolor": "white",
           "ticks": "",
           "title": {
            "standoff": 15
           },
           "zerolinecolor": "white",
           "zerolinewidth": 2
          },
          "yaxis": {
           "automargin": true,
           "gridcolor": "white",
           "linecolor": "white",
           "ticks": "",
           "title": {
            "standoff": 15
           },
           "zerolinecolor": "white",
           "zerolinewidth": 2
          }
         }
        },
        "title": {
         "text": "Age vs Fare Colored by Survival"
        },
        "xaxis": {
         "anchor": "y",
         "domain": [
          0,
          1
         ],
         "title": {
          "text": "Age"
         }
        },
        "yaxis": {
         "anchor": "x",
         "domain": [
          0,
          1
         ],
         "title": {
          "text": "Fare"
         }
        }
       }
      }
     },
     "metadata": {},
     "output_type": "display_data"
    }
   ],
   "source": [
    "fig_scatterplot = px.scatter(data_frame=df_main,x='Age', y='Fare',color='Survived', opacity=0.6, color_discrete_sequence=px.colors.qualitative.Set1, hover_data=df_main.columns\n",
    ")\n",
    "fig_scatterplot.update_layout(title=\"Age vs Fare Colored by Survival\")\n",
    "fig_scatterplot.show()"
   ]
  },
  {
   "cell_type": "code",
   "execution_count": null,
   "id": "d1c6bb0d",
   "metadata": {},
   "outputs": [
    {
     "data": {
      "application/vnd.plotly.v1+json": {
       "config": {
        "plotlyServerURL": "https://plot.ly"
       },
       "data": [
        {
         "alignmentgroup": "True",
         "box": {
          "visible": true
         },
         "customdata": [
          [
           892,
           0,
           3,
           "Kelly, Mr. James",
           0,
           0,
           "330911",
           7.8292,
           null,
           "Q",
           "1912-04-10T00:00:00"
          ],
          [
           894,
           0,
           2,
           "Myles, Mr. Thomas Francis",
           0,
           0,
           "240276",
           9.6875,
           null,
           "Q",
           "1912-04-12T00:00:00"
          ],
          [
           895,
           0,
           3,
           "Wirz, Mr. Albert",
           0,
           0,
           "315154",
           8.6625,
           null,
           "S",
           "1912-04-13T00:00:00"
          ],
          [
           897,
           0,
           3,
           "Svensson, Mr. Johan Cervin",
           0,
           0,
           "7538",
           9.225,
           null,
           "S",
           "1912-04-15T00:00:00"
          ],
          [
           899,
           0,
           2,
           "Caldwell, Mr. Albert Francis",
           1,
           1,
           "248738",
           29,
           null,
           "S",
           "1912-04-17T00:00:00"
          ],
          [
           901,
           0,
           3,
           "Davies, Mr. John Samuel",
           2,
           0,
           "A/4 48871",
           24.15,
           null,
           "S",
           "1912-04-19T00:00:00"
          ],
          [
           902,
           0,
           3,
           "Ilieff, Mr. Ylio",
           0,
           0,
           "349220",
           7.8958,
           null,
           "S",
           "1912-04-20T00:00:00"
          ],
          [
           903,
           0,
           1,
           "Jones, Mr. Charles Cresson",
           0,
           0,
           "694",
           26,
           null,
           "S",
           "1912-04-21T00:00:00"
          ],
          [
           905,
           0,
           2,
           "Howard, Mr. Benjamin",
           1,
           0,
           "24065",
           26,
           null,
           "S",
           "1912-04-23T00:00:00"
          ],
          [
           908,
           0,
           2,
           "Keane, Mr. Daniel",
           0,
           0,
           "233734",
           12.35,
           null,
           "Q",
           "1912-04-26T00:00:00"
          ],
          [
           909,
           0,
           3,
           "Assaf, Mr. Gerios",
           0,
           0,
           "2692",
           7.225,
           null,
           "C",
           "1912-04-27T00:00:00"
          ],
          [
           912,
           0,
           1,
           "Rothschild, Mr. Martin",
           1,
           0,
           "PC 17603",
           59.4,
           null,
           "C",
           "1912-04-30T00:00:00"
          ],
          [
           913,
           0,
           3,
           "Olsen, Master. Artur Karl",
           0,
           1,
           "C 17368",
           3.1708,
           null,
           "S",
           "1912-05-01T00:00:00"
          ],
          [
           915,
           0,
           1,
           "Williams, Mr. Richard Norris II",
           0,
           1,
           "PC 17597",
           61.3792,
           null,
           "C",
           "1912-05-03T00:00:00"
          ],
          [
           917,
           0,
           3,
           "Robins, Mr. Alexander A",
           1,
           0,
           "A/5. 3337",
           14.5,
           null,
           "S",
           "1912-05-05T00:00:00"
          ],
          [
           919,
           0,
           3,
           "Daher, Mr. Shedid",
           0,
           0,
           "2698",
           7.225,
           null,
           "C",
           "1912-05-07T00:00:00"
          ],
          [
           920,
           0,
           1,
           "Brady, Mr. John Bertram",
           0,
           0,
           "113054",
           30.5,
           "A21",
           "S",
           "1912-05-08T00:00:00"
          ],
          [
           921,
           0,
           3,
           "Samaan, Mr. Elias",
           2,
           0,
           "2662",
           21.6792,
           null,
           "C",
           "1912-05-09T00:00:00"
          ],
          [
           922,
           0,
           2,
           "Louch, Mr. Charles Alexander",
           1,
           0,
           "SC/AH 3085",
           26,
           null,
           "S",
           "1912-05-10T00:00:00"
          ],
          [
           923,
           0,
           2,
           "Jefferys, Mr. Clifford Thomas",
           2,
           0,
           "C.A. 31029",
           31.5,
           null,
           "S",
           "1912-05-11T00:00:00"
          ],
          [
           926,
           0,
           1,
           "Mock, Mr. Philipp Edmund",
           1,
           0,
           "13236",
           57.75,
           "C78",
           "C",
           "1912-05-14T00:00:00"
          ],
          [
           927,
           0,
           3,
           "Katavelas, Mr. Vassilios (Catavelas Vassilios\")\"",
           0,
           0,
           "2682",
           7.2292,
           null,
           "C",
           "1912-05-15T00:00:00"
          ],
          [
           930,
           0,
           3,
           "Sap, Mr. Julius",
           0,
           0,
           "345768",
           9.5,
           null,
           "S",
           "1912-05-18T00:00:00"
          ],
          [
           931,
           0,
           3,
           "Hee, Mr. Ling",
           0,
           0,
           "1601",
           56.4958,
           null,
           "S",
           "1912-05-19T00:00:00"
          ],
          [
           932,
           0,
           3,
           "Karun, Mr. Franz",
           0,
           1,
           "349256",
           13.4167,
           null,
           "C",
           "1912-05-20T00:00:00"
          ],
          [
           933,
           0,
           1,
           "Franklin, Mr. Thomas Parham",
           0,
           0,
           "113778",
           26.55,
           "D34",
           "S",
           "1912-05-21T00:00:00"
          ],
          [
           934,
           0,
           3,
           "Goldsmith, Mr. Nathan",
           0,
           0,
           "SOTON/O.Q. 3101263",
           7.85,
           null,
           "S",
           "1912-05-22T00:00:00"
          ],
          [
           937,
           0,
           3,
           "Peltomaki, Mr. Nikolai Johannes",
           0,
           0,
           "STON/O 2. 3101291",
           7.925,
           null,
           "S",
           "1912-05-25T00:00:00"
          ],
          [
           938,
           0,
           1,
           "Chevre, Mr. Paul Romaine",
           0,
           0,
           "PC 17594",
           29.7,
           "A9",
           "C",
           "1912-05-26T00:00:00"
          ],
          [
           939,
           0,
           3,
           "Shaughnessy, Mr. Patrick",
           0,
           0,
           "370374",
           7.75,
           null,
           "Q",
           "1912-05-27T00:00:00"
          ],
          [
           942,
           0,
           1,
           "Smith, Mr. Lucien Philip",
           1,
           0,
           "13695",
           60,
           "C31",
           "S",
           "1912-05-30T00:00:00"
          ],
          [
           943,
           0,
           2,
           "Pulbaum, Mr. Franz",
           0,
           0,
           "SC/PARIS 2168",
           15.0333,
           null,
           "C",
           "1912-05-31T00:00:00"
          ],
          [
           946,
           0,
           2,
           "Mangiavacchi, Mr. Serafino Emilio",
           0,
           0,
           "SC/A.3 2861",
           15.5792,
           null,
           "C",
           "1912-06-03T00:00:00"
          ],
          [
           947,
           0,
           3,
           "Rice, Master. Albert",
           4,
           1,
           "382652",
           29.125,
           null,
           "Q",
           "1912-06-04T00:00:00"
          ],
          [
           948,
           0,
           3,
           "Cor, Mr. Bartol",
           0,
           0,
           "349230",
           7.8958,
           null,
           "S",
           "1912-06-05T00:00:00"
          ],
          [
           949,
           0,
           3,
           "Abelseth, Mr. Olaus Jorgensen",
           0,
           0,
           "348122",
           7.65,
           "F G63",
           "S",
           "1912-06-06T00:00:00"
          ],
          [
           950,
           0,
           3,
           "Davison, Mr. Thomas Henry",
           1,
           0,
           "386525",
           16.1,
           null,
           "S",
           "1912-06-07T00:00:00"
          ],
          [
           952,
           0,
           3,
           "Dika, Mr. Mirko",
           0,
           0,
           "349232",
           7.8958,
           null,
           "S",
           "1912-06-09T00:00:00"
          ],
          [
           953,
           0,
           2,
           "McCrae, Mr. Arthur Gordon",
           0,
           0,
           "237216",
           13.5,
           null,
           "S",
           "1912-06-10T00:00:00"
          ],
          [
           954,
           0,
           3,
           "Bjorklund, Mr. Ernst Herbert",
           0,
           0,
           "347090",
           7.75,
           null,
           "S",
           "1912-06-11T00:00:00"
          ],
          [
           956,
           0,
           1,
           "Ryerson, Master. John Borie",
           2,
           2,
           "PC 17608",
           262.375,
           "B57 B59 B63 B66",
           "C",
           "1912-06-13T00:00:00"
          ],
          [
           959,
           0,
           1,
           "Moore, Mr. Clarence Bloomfield",
           0,
           0,
           "113796",
           42.4,
           null,
           "S",
           "1912-06-16T00:00:00"
          ],
          [
           960,
           0,
           1,
           "Tucker, Mr. Gilbert Milligan Jr",
           0,
           0,
           "2543",
           28.5375,
           "C53",
           "C",
           "1912-06-17T00:00:00"
          ],
          [
           963,
           0,
           3,
           "Minkoff, Mr. Lazar",
           0,
           0,
           "349211",
           7.8958,
           null,
           "S",
           "1912-06-20T00:00:00"
          ],
          [
           965,
           0,
           1,
           "Ovies y Rodriguez, Mr. Servando",
           0,
           0,
           "PC 17562",
           27.7208,
           "D43",
           "C",
           "1912-06-22T00:00:00"
          ],
          [
           967,
           0,
           1,
           "Keeping, Mr. Edwin",
           0,
           0,
           "113503",
           211.5,
           "C132",
           "C",
           "1912-06-24T00:00:00"
          ],
          [
           968,
           0,
           3,
           "Miles, Mr. Frank",
           0,
           0,
           "359306",
           8.05,
           null,
           "S",
           "1912-06-25T00:00:00"
          ],
          [
           970,
           0,
           2,
           "Aldworth, Mr. Charles Augustus",
           0,
           0,
           "248744",
           13,
           null,
           "S",
           "1912-06-27T00:00:00"
          ],
          [
           972,
           0,
           3,
           "Boulos, Master. Akar",
           1,
           1,
           "2678",
           15.2458,
           null,
           "C",
           "1912-06-29T00:00:00"
          ],
          [
           973,
           0,
           1,
           "Straus, Mr. Isidor",
           1,
           0,
           "PC 17483",
           221.7792,
           "C55 C57",
           "S",
           "1912-06-30T00:00:00"
          ],
          [
           974,
           0,
           1,
           "Case, Mr. Howard Brown",
           0,
           0,
           "19924",
           26,
           null,
           "S",
           "1912-07-01T00:00:00"
          ],
          [
           975,
           0,
           3,
           "Demetri, Mr. Marinko",
           0,
           0,
           "349238",
           7.8958,
           null,
           "S",
           "1912-07-02T00:00:00"
          ],
          [
           976,
           0,
           2,
           "Lamb, Mr. John Joseph",
           0,
           0,
           "240261",
           10.7083,
           null,
           "Q",
           "1912-07-03T00:00:00"
          ],
          [
           977,
           0,
           3,
           "Khalil, Mr. Betros",
           1,
           0,
           "2660",
           14.4542,
           null,
           "C",
           "1912-07-04T00:00:00"
          ],
          [
           981,
           0,
           2,
           "Wells, Master. Ralph Lester",
           1,
           1,
           "29103",
           23,
           null,
           "S",
           "1912-07-08T00:00:00"
          ],
          [
           983,
           0,
           3,
           "Pedersen, Mr. Olaf",
           0,
           0,
           "345498",
           7.775,
           null,
           "S",
           "1912-07-10T00:00:00"
          ],
          [
           985,
           0,
           3,
           "Guest, Mr. Robert",
           0,
           0,
           "376563",
           8.05,
           null,
           "S",
           "1912-07-12T00:00:00"
          ],
          [
           986,
           0,
           1,
           "Birnbaum, Mr. Jakob",
           0,
           0,
           "13905",
           26,
           null,
           "C",
           "1912-07-13T00:00:00"
          ],
          [
           987,
           0,
           3,
           "Tenglin, Mr. Gunnar Isidor",
           0,
           0,
           "350033",
           7.7958,
           null,
           "S",
           "1912-07-14T00:00:00"
          ],
          [
           989,
           0,
           3,
           "Makinen, Mr. Kalle Edvard",
           0,
           0,
           "STON/O 2. 3101268",
           7.925,
           null,
           "S",
           "1912-07-16T00:00:00"
          ],
          [
           991,
           0,
           3,
           "Nancarrow, Mr. William Henry",
           0,
           0,
           "A./5. 3338",
           8.05,
           null,
           "S",
           "1912-07-18T00:00:00"
          ],
          [
           993,
           0,
           2,
           "Weisz, Mr. Leopold",
           1,
           0,
           "228414",
           26,
           null,
           "S",
           "1912-07-20T00:00:00"
          ],
          [
           994,
           0,
           3,
           "Foley, Mr. William",
           0,
           0,
           "365235",
           7.75,
           null,
           "Q",
           "1912-07-21T00:00:00"
          ],
          [
           995,
           0,
           3,
           "Johansson Palmquist, Mr. Oskar Leander",
           0,
           0,
           "347070",
           7.775,
           null,
           "S",
           "1912-07-22T00:00:00"
          ],
          [
           997,
           0,
           3,
           "Holthen, Mr. Johan Martin",
           0,
           0,
           "C 4001",
           22.525,
           null,
           "S",
           "1912-07-24T00:00:00"
          ],
          [
           998,
           0,
           3,
           "Buckley, Mr. Daniel",
           0,
           0,
           "330920",
           7.8208,
           null,
           "Q",
           "1912-07-25T00:00:00"
          ],
          [
           999,
           0,
           3,
           "Ryan, Mr. Edward",
           0,
           0,
           "383162",
           7.75,
           null,
           "Q",
           "1912-07-26T00:00:00"
          ],
          [
           1000,
           0,
           3,
           "Willer, Mr. Aaron (Abi Weller\")\"",
           0,
           0,
           "3410",
           8.7125,
           null,
           "S",
           "1912-07-27T00:00:00"
          ],
          [
           1001,
           0,
           2,
           "Swane, Mr. George",
           0,
           0,
           "248734",
           13,
           "F",
           "S",
           "1912-07-28T00:00:00"
          ],
          [
           1002,
           0,
           2,
           "Stanton, Mr. Samuel Ward",
           0,
           0,
           "237734",
           15.0458,
           null,
           "C",
           "1912-07-29T00:00:00"
          ],
          [
           1007,
           0,
           3,
           "Chronopoulos, Mr. Demetrios",
           1,
           0,
           "2680",
           14.4542,
           null,
           "C",
           "1912-08-03T00:00:00"
          ],
          [
           1008,
           0,
           3,
           "Thomas, Mr. John",
           0,
           0,
           "2681",
           6.4375,
           null,
           "C",
           "1912-08-04T00:00:00"
          ],
          [
           1010,
           0,
           1,
           "Beattie, Mr. Thomson",
           0,
           0,
           "13050",
           75.2417,
           "C6",
           "C",
           "1912-08-06T00:00:00"
          ],
          [
           1013,
           0,
           3,
           "Kiernan, Mr. John",
           1,
           0,
           "367227",
           7.75,
           null,
           "Q",
           "1912-08-09T00:00:00"
          ],
          [
           1015,
           0,
           3,
           "Carver, Mr. Alfred John",
           0,
           0,
           "392095",
           7.25,
           null,
           "S",
           "1912-08-11T00:00:00"
          ],
          [
           1016,
           0,
           3,
           "Kennedy, Mr. John",
           0,
           0,
           "368783",
           7.75,
           null,
           "Q",
           "1912-08-12T00:00:00"
          ],
          [
           1018,
           0,
           3,
           "Brobeck, Mr. Karl Rudolf",
           0,
           0,
           "350045",
           7.7958,
           null,
           "S",
           "1912-08-14T00:00:00"
          ],
          [
           1020,
           0,
           2,
           "Bowenur, Mr. Solomon",
           0,
           0,
           "211535",
           13,
           null,
           "S",
           "1912-08-16T00:00:00"
          ],
          [
           1021,
           0,
           3,
           "Petersen, Mr. Marius",
           0,
           0,
           "342441",
           8.05,
           null,
           "S",
           "1912-08-17T00:00:00"
          ],
          [
           1022,
           0,
           3,
           "Spinner, Mr. Henry John",
           0,
           0,
           "STON/OQ. 369943",
           8.05,
           null,
           "S",
           "1912-08-18T00:00:00"
          ],
          [
           1023,
           0,
           1,
           "Gracie, Col. Archibald IV",
           0,
           0,
           "113780",
           28.5,
           "C51",
           "C",
           "1912-08-19T00:00:00"
          ],
          [
           1025,
           0,
           3,
           "Thomas, Mr. Charles P",
           1,
           0,
           "2621",
           6.4375,
           null,
           "C",
           "1912-08-21T00:00:00"
          ],
          [
           1026,
           0,
           3,
           "Dintcheff, Mr. Valtcho",
           0,
           0,
           "349226",
           7.8958,
           null,
           "S",
           "1912-08-22T00:00:00"
          ],
          [
           1027,
           0,
           3,
           "Carlsson, Mr. Carl Robert",
           0,
           0,
           "350409",
           7.8542,
           null,
           "S",
           "1912-08-23T00:00:00"
          ],
          [
           1028,
           0,
           3,
           "Zakarian, Mr. Mapriededer",
           0,
           0,
           "2656",
           7.225,
           null,
           "C",
           "1912-08-24T00:00:00"
          ],
          [
           1029,
           0,
           2,
           "Schmidt, Mr. August",
           0,
           0,
           "248659",
           13,
           null,
           "S",
           "1912-08-25T00:00:00"
          ],
          [
           1031,
           0,
           3,
           "Goodwin, Mr. Charles Frederick",
           1,
           6,
           "CA 2144",
           46.9,
           null,
           "S",
           "1912-08-27T00:00:00"
          ],
          [
           1034,
           0,
           1,
           "Ryerson, Mr. Arthur Larned",
           1,
           3,
           "PC 17608",
           262.375,
           "B57 B59 B63 B66",
           "C",
           "1912-08-30T00:00:00"
          ],
          [
           1035,
           0,
           2,
           "Beauchamp, Mr. Henry James",
           0,
           0,
           "244358",
           26,
           null,
           "S",
           "1912-08-31T00:00:00"
          ],
          [
           1036,
           0,
           1,
           "Lindeberg-Lind, Mr. Erik Gustaf (Mr Edward Lingrey\")\"",
           0,
           0,
           "17475",
           26.55,
           null,
           "S",
           "1912-09-01T00:00:00"
          ],
          [
           1037,
           0,
           3,
           "Vander Planke, Mr. Julius",
           3,
           0,
           "345763",
           18,
           null,
           "S",
           "1912-09-02T00:00:00"
          ],
          [
           1038,
           0,
           1,
           "Hilliard, Mr. Herbert Henry",
           0,
           0,
           "17463",
           51.8625,
           "E46",
           "S",
           "1912-09-03T00:00:00"
          ],
          [
           1039,
           0,
           3,
           "Davies, Mr. Evan",
           0,
           0,
           "SC/A4 23568",
           8.05,
           null,
           "S",
           "1912-09-04T00:00:00"
          ],
          [
           1040,
           0,
           1,
           "Crafton, Mr. John Bertram",
           0,
           0,
           "113791",
           26.55,
           null,
           "S",
           "1912-09-05T00:00:00"
          ],
          [
           1041,
           0,
           2,
           "Lahtinen, Rev. William",
           1,
           1,
           "250651",
           26,
           null,
           "S",
           "1912-09-06T00:00:00"
          ],
          [
           1043,
           0,
           3,
           "Matinoff, Mr. Nicola",
           0,
           0,
           "349255",
           7.8958,
           null,
           "C",
           "1912-09-08T00:00:00"
          ],
          [
           1044,
           0,
           3,
           "Storey, Mr. Thomas",
           0,
           0,
           "3701",
           null,
           null,
           "S",
           "1912-09-09T00:00:00"
          ],
          [
           1046,
           0,
           3,
           "Asplund, Master. Filip Oscar",
           4,
           2,
           "347077",
           31.3875,
           null,
           "S",
           "1912-09-11T00:00:00"
          ],
          [
           1047,
           0,
           3,
           "Duquemin, Mr. Joseph",
           0,
           0,
           "S.O./P.P. 752",
           7.55,
           null,
           "S",
           "1912-09-12T00:00:00"
          ],
          [
           1050,
           0,
           1,
           "Borebank, Mr. John James",
           0,
           0,
           "110489",
           26.55,
           "D22",
           "S",
           "1912-09-15T00:00:00"
          ],
          [
           1053,
           0,
           3,
           "Touma, Master. Georges Youssef",
           1,
           1,
           "2650",
           15.2458,
           null,
           "C",
           "1912-09-18T00:00:00"
          ],
          [
           1055,
           0,
           3,
           "Pearce, Mr. Ernest",
           0,
           0,
           "343271",
           7,
           null,
           "S",
           "1912-09-20T00:00:00"
          ],
          [
           1056,
           0,
           2,
           "Peruschitz, Rev. Joseph Maria",
           0,
           0,
           "237393",
           13,
           null,
           "S",
           "1912-09-21T00:00:00"
          ],
          [
           1058,
           0,
           1,
           "Brandeis, Mr. Emil",
           0,
           0,
           "PC 17591",
           50.4958,
           "B10",
           "C",
           "1912-09-23T00:00:00"
          ],
          [
           1059,
           0,
           3,
           "Ford, Mr. Edward Watson",
           2,
           2,
           "W./C. 6608",
           34.375,
           null,
           "S",
           "1912-09-24T00:00:00"
          ],
          [
           1062,
           0,
           3,
           "Lithman, Mr. Simon",
           0,
           0,
           "S.O./P.P. 251",
           7.55,
           null,
           "S",
           "1912-09-27T00:00:00"
          ],
          [
           1063,
           0,
           3,
           "Zakarian, Mr. Ortin",
           0,
           0,
           "2670",
           7.225,
           null,
           "C",
           "1912-09-28T00:00:00"
          ],
          [
           1064,
           0,
           3,
           "Dyker, Mr. Adolf Fredrik",
           1,
           0,
           "347072",
           13.9,
           null,
           "S",
           "1912-09-29T00:00:00"
          ],
          [
           1065,
           0,
           3,
           "Torfa, Mr. Assad",
           0,
           0,
           "2673",
           7.2292,
           null,
           "C",
           "1912-09-30T00:00:00"
          ],
          [
           1066,
           0,
           3,
           "Asplund, Mr. Carl Oscar Vilhelm Gustafsson",
           1,
           5,
           "347077",
           31.3875,
           null,
           "S",
           "1912-10-01T00:00:00"
          ],
          [
           1069,
           0,
           1,
           "Stengel, Mr. Charles Emil Henry",
           1,
           0,
           "11778",
           55.4417,
           "C116",
           "C",
           "1912-10-04T00:00:00"
          ],
          [
           1072,
           0,
           2,
           "McCrie, Mr. James Matthew",
           0,
           0,
           "233478",
           13,
           null,
           "S",
           "1912-10-07T00:00:00"
          ],
          [
           1073,
           0,
           1,
           "Compton, Mr. Alexander Taylor Jr",
           1,
           1,
           "PC 17756",
           83.1583,
           "E52",
           "C",
           "1912-10-08T00:00:00"
          ],
          [
           1075,
           0,
           3,
           "Lane, Mr. Patrick",
           0,
           0,
           "7935",
           7.75,
           null,
           "Q",
           "1912-10-10T00:00:00"
          ],
          [
           1077,
           0,
           2,
           "Maybery, Mr. Frank Hubert",
           0,
           0,
           "239059",
           16,
           null,
           "S",
           "1912-10-12T00:00:00"
          ],
          [
           1079,
           0,
           3,
           "Davies, Mr. Joseph",
           2,
           0,
           "A/4 48873",
           8.05,
           null,
           "S",
           "1912-10-14T00:00:00"
          ],
          [
           1081,
           0,
           2,
           "Veal, Mr. James",
           0,
           0,
           "28221",
           13,
           null,
           "S",
           "1912-10-16T00:00:00"
          ],
          [
           1082,
           0,
           2,
           "Angle, Mr. William A",
           1,
           0,
           "226875",
           26,
           null,
           "S",
           "1912-10-17T00:00:00"
          ],
          [
           1083,
           0,
           1,
           "Salomon, Mr. Abraham L",
           0,
           0,
           "111163",
           26,
           null,
           "S",
           "1912-10-18T00:00:00"
          ],
          [
           1084,
           0,
           3,
           "van Billiard, Master. Walter John",
           1,
           1,
           "A/5. 851",
           14.5,
           null,
           "S",
           "1912-10-19T00:00:00"
          ],
          [
           1085,
           0,
           2,
           "Lingane, Mr. John",
           0,
           0,
           "235509",
           12.35,
           null,
           "Q",
           "1912-10-20T00:00:00"
          ],
          [
           1086,
           0,
           2,
           "Drew, Master. Marshall Brines",
           0,
           2,
           "28220",
           32.5,
           null,
           "S",
           "1912-10-21T00:00:00"
          ],
          [
           1087,
           0,
           3,
           "Karlsson, Mr. Julius Konrad Eugen",
           0,
           0,
           "347465",
           7.8542,
           null,
           "S",
           "1912-10-22T00:00:00"
          ],
          [
           1088,
           0,
           1,
           "Spedden, Master. Robert Douglas",
           0,
           2,
           "16966",
           134.5,
           "E34",
           "C",
           "1912-10-23T00:00:00"
          ],
          [
           1090,
           0,
           2,
           "Baimbrigge, Mr. Charles Robert",
           0,
           0,
           "C.A. 31030",
           10.5,
           null,
           "S",
           "1912-10-25T00:00:00"
          ],
          [
           1093,
           0,
           3,
           "Danbom, Master. Gilbert Sigvard Emanuel",
           0,
           2,
           "347080",
           14.4,
           null,
           "S",
           "1912-10-28T00:00:00"
          ],
          [
           1094,
           0,
           1,
           "Astor, Col. John Jacob",
           1,
           0,
           "PC 17757",
           227.525,
           "C62 C64",
           "C",
           "1912-10-29T00:00:00"
          ],
          [
           1096,
           0,
           2,
           "Andrew, Mr. Frank Thomas",
           0,
           0,
           "C.A. 34050",
           10.5,
           null,
           "S",
           "1912-10-31T00:00:00"
          ],
          [
           1097,
           0,
           1,
           "Omont, Mr. Alfred Fernand",
           0,
           0,
           "F.C. 12998",
           25.7417,
           null,
           "C",
           "1912-11-01T00:00:00"
          ],
          [
           1099,
           0,
           2,
           "Collett, Mr. Sidney C Stuart",
           0,
           0,
           "28034",
           10.5,
           null,
           "S",
           "1912-11-03T00:00:00"
          ],
          [
           1101,
           0,
           3,
           "Delalic, Mr. Redjo",
           0,
           0,
           "349250",
           7.8958,
           null,
           "S",
           "1912-11-05T00:00:00"
          ],
          [
           1102,
           0,
           3,
           "Andersen, Mr. Albert Karvin",
           0,
           0,
           "C 4001",
           22.525,
           null,
           "S",
           "1912-11-06T00:00:00"
          ],
          [
           1103,
           0,
           3,
           "Finoli, Mr. Luigi",
           0,
           0,
           "SOTON/O.Q. 3101308",
           7.05,
           null,
           "S",
           "1912-11-07T00:00:00"
          ],
          [
           1104,
           0,
           2,
           "Deacon, Mr. Percy William",
           0,
           0,
           "S.O.C. 14879",
           73.5,
           null,
           "S",
           "1912-11-08T00:00:00"
          ],
          [
           1107,
           0,
           1,
           "Head, Mr. Christopher",
           0,
           0,
           "113038",
           42.5,
           "B11",
           "S",
           "1912-11-11T00:00:00"
          ],
          [
           1109,
           0,
           1,
           "Wick, Mr. George Dennick",
           1,
           1,
           "36928",
           164.8667,
           null,
           "S",
           "1912-11-13T00:00:00"
          ],
          [
           1111,
           0,
           3,
           "Thomson, Mr. Alexander Morrison",
           0,
           0,
           "32302",
           8.05,
           null,
           "S",
           "1912-11-15T00:00:00"
          ],
          [
           1113,
           0,
           3,
           "Reynolds, Mr. Harold J",
           0,
           0,
           "342684",
           8.05,
           null,
           "S",
           "1912-11-17T00:00:00"
          ],
          [
           1115,
           0,
           3,
           "Karlsson, Mr. Einar Gervasius",
           0,
           0,
           "350053",
           7.7958,
           null,
           "S",
           "1912-11-19T00:00:00"
          ],
          [
           1118,
           0,
           3,
           "Asplund, Mr. Johan Charles",
           0,
           0,
           "350054",
           7.7958,
           null,
           "S",
           "1912-11-22T00:00:00"
          ],
          [
           1120,
           0,
           3,
           "Everett, Mr. Thomas James",
           0,
           0,
           "C.A. 6212",
           15.1,
           null,
           "S",
           "1912-11-24T00:00:00"
          ],
          [
           1121,
           0,
           2,
           "Hocking, Mr. Samuel James Metcalfe",
           0,
           0,
           "242963",
           13,
           null,
           "S",
           "1912-11-25T00:00:00"
          ],
          [
           1122,
           0,
           2,
           "Sweet, Mr. George Frederick",
           0,
           0,
           "220845",
           65,
           null,
           "S",
           "1912-11-26T00:00:00"
          ],
          [
           1124,
           0,
           3,
           "Wiklund, Mr. Karl Johan",
           1,
           0,
           "3101266",
           6.4958,
           null,
           "S",
           "1912-11-28T00:00:00"
          ],
          [
           1125,
           0,
           3,
           "Linehan, Mr. Michael",
           0,
           0,
           "330971",
           7.8792,
           null,
           "Q",
           "1912-11-29T00:00:00"
          ],
          [
           1126,
           0,
           1,
           "Cumings, Mr. John Bradley",
           1,
           0,
           "PC 17599",
           71.2833,
           "C85",
           "C",
           "1912-11-30T00:00:00"
          ],
          [
           1127,
           0,
           3,
           "Vendel, Mr. Olof Edvin",
           0,
           0,
           "350416",
           7.8542,
           null,
           "S",
           "1912-12-01T00:00:00"
          ],
          [
           1128,
           0,
           1,
           "Warren, Mr. Frank Manley",
           1,
           0,
           "110813",
           75.25,
           "D37",
           "C",
           "1912-12-02T00:00:00"
          ],
          [
           1129,
           0,
           3,
           "Baccos, Mr. Raffull",
           0,
           0,
           "2679",
           7.225,
           null,
           "C",
           "1912-12-03T00:00:00"
          ],
          [
           1134,
           0,
           1,
           "Spedden, Mr. Frederic Oakley",
           1,
           1,
           "16966",
           134.5,
           "E34",
           "C",
           "1912-12-08T00:00:00"
          ],
          [
           1135,
           0,
           3,
           "Hyman, Mr. Abraham",
           0,
           0,
           "3470",
           7.8875,
           null,
           "S",
           "1912-12-09T00:00:00"
          ],
          [
           1136,
           0,
           3,
           "Johnston, Master. William Arthur Willie\"\"",
           1,
           2,
           "W./C. 6607",
           23.45,
           null,
           "S",
           "1912-12-10T00:00:00"
          ],
          [
           1137,
           0,
           1,
           "Kenyon, Mr. Frederick R",
           1,
           0,
           "17464",
           51.8625,
           "D21",
           "S",
           "1912-12-11T00:00:00"
          ],
          [
           1139,
           0,
           2,
           "Drew, Mr. James Vivian",
           1,
           1,
           "28220",
           32.5,
           null,
           "S",
           "1912-12-13T00:00:00"
          ],
          [
           1143,
           0,
           3,
           "Abrahamsson, Mr. Abraham August Johannes",
           0,
           0,
           "SOTON/O2 3101284",
           7.925,
           null,
           "S",
           "1912-12-17T00:00:00"
          ],
          [
           1144,
           0,
           1,
           "Clark, Mr. Walter Miller",
           1,
           0,
           "13508",
           136.7792,
           "C89",
           "C",
           "1912-12-18T00:00:00"
          ],
          [
           1145,
           0,
           3,
           "Salander, Mr. Karl Johan",
           0,
           0,
           "7266",
           9.325,
           null,
           "S",
           "1912-12-19T00:00:00"
          ],
          [
           1146,
           0,
           3,
           "Wenzel, Mr. Linhart",
           0,
           0,
           "345775",
           9.5,
           null,
           "S",
           "1912-12-20T00:00:00"
          ],
          [
           1147,
           0,
           3,
           "MacKay, Mr. George William",
           0,
           0,
           "C.A. 42795",
           7.55,
           null,
           "S",
           "1912-12-21T00:00:00"
          ],
          [
           1148,
           0,
           3,
           "Mahon, Mr. John",
           0,
           0,
           "AQ/4 3130",
           7.75,
           null,
           "Q",
           "1912-12-22T00:00:00"
          ],
          [
           1149,
           0,
           3,
           "Niklasson, Mr. Samuel",
           0,
           0,
           "363611",
           8.05,
           null,
           "S",
           "1912-12-23T00:00:00"
          ],
          [
           1151,
           0,
           3,
           "Midtsjo, Mr. Karl Albert",
           0,
           0,
           "345501",
           7.775,
           null,
           "S",
           "1912-12-25T00:00:00"
          ],
          [
           1152,
           0,
           3,
           "de Messemaeker, Mr. Guillaume Joseph",
           1,
           0,
           "345572",
           17.4,
           null,
           "S",
           "1912-12-26T00:00:00"
          ],
          [
           1153,
           0,
           3,
           "Nilsson, Mr. August Ferdinand",
           0,
           0,
           "350410",
           7.8542,
           null,
           "S",
           "1912-12-27T00:00:00"
          ],
          [
           1156,
           0,
           2,
           "Portaluppi, Mr. Emilio Ilario Giuseppe",
           0,
           0,
           "C.A. 34644",
           12.7375,
           null,
           "C",
           "1912-12-30T00:00:00"
          ],
          [
           1157,
           0,
           3,
           "Lyntakoff, Mr. Stanko",
           0,
           0,
           "349235",
           7.8958,
           null,
           "S",
           "1912-12-31T00:00:00"
          ],
          [
           1158,
           0,
           1,
           "Chisholm, Mr. Roderick Robert Crispin",
           0,
           0,
           "112051",
           0,
           null,
           "S",
           "1913-01-01T00:00:00"
          ],
          [
           1159,
           0,
           3,
           "Warren, Mr. Charles William",
           0,
           0,
           "C.A. 49867",
           7.55,
           null,
           "S",
           "1913-01-02T00:00:00"
          ],
          [
           1161,
           0,
           3,
           "Pokrnic, Mr. Mate",
           0,
           0,
           "315095",
           8.6625,
           null,
           "S",
           "1913-01-04T00:00:00"
          ],
          [
           1162,
           0,
           1,
           "McCaffry, Mr. Thomas Francis",
           0,
           0,
           "13050",
           75.2417,
           "C6",
           "C",
           "1913-01-05T00:00:00"
          ],
          [
           1163,
           0,
           3,
           "Fox, Mr. Patrick",
           0,
           0,
           "368573",
           7.75,
           null,
           "Q",
           "1913-01-06T00:00:00"
          ],
          [
           1166,
           0,
           3,
           "Saade, Mr. Jean Nassr",
           0,
           0,
           "2676",
           7.225,
           null,
           "C",
           "1913-01-09T00:00:00"
          ],
          [
           1168,
           0,
           2,
           "Parker, Mr. Clifford Richard",
           0,
           0,
           "SC 14888",
           10.5,
           null,
           "S",
           "1913-01-11T00:00:00"
          ],
          [
           1169,
           0,
           2,
           "Faunthorpe, Mr. Harry",
           1,
           0,
           "2926",
           26,
           null,
           "S",
           "1913-01-12T00:00:00"
          ],
          [
           1170,
           0,
           2,
           "Ware, Mr. John James",
           1,
           0,
           "CA 31352",
           21,
           null,
           "S",
           "1913-01-13T00:00:00"
          ],
          [
           1171,
           0,
           2,
           "Oxenham, Mr. Percy Thomas",
           0,
           0,
           "W./C. 14260",
           10.5,
           null,
           "S",
           "1913-01-14T00:00:00"
          ],
          [
           1173,
           0,
           3,
           "Peacock, Master. Alfred Edward",
           1,
           1,
           "SOTON/O.Q. 3101315",
           13.775,
           null,
           "S",
           "1913-01-16T00:00:00"
          ],
          [
           1177,
           0,
           3,
           "Dennis, Mr. William",
           0,
           0,
           "A/5 21175",
           7.25,
           null,
           "S",
           "1913-01-20T00:00:00"
          ],
          [
           1178,
           0,
           3,
           "Franklin, Mr. Charles (Charles Fardon)",
           0,
           0,
           "SOTON/O.Q. 3101314",
           7.25,
           null,
           "S",
           "1913-01-21T00:00:00"
          ],
          [
           1179,
           0,
           1,
           "Snyder, Mr. John Pillsbury",
           1,
           0,
           "21228",
           82.2667,
           "B45",
           "S",
           "1913-01-22T00:00:00"
          ],
          [
           1180,
           0,
           3,
           "Mardirosian, Mr. Sarkis",
           0,
           0,
           "2655",
           7.2292,
           "F E46",
           "C",
           "1913-01-23T00:00:00"
          ],
          [
           1181,
           0,
           3,
           "Ford, Mr. Arthur",
           0,
           0,
           "A/5 1478",
           8.05,
           null,
           "S",
           "1913-01-24T00:00:00"
          ],
          [
           1182,
           0,
           1,
           "Rheims, Mr. George Alexander Lucien",
           0,
           0,
           "PC 17607",
           39.6,
           null,
           "S",
           "1913-01-25T00:00:00"
          ],
          [
           1184,
           0,
           3,
           "Nasr, Mr. Mustafa",
           0,
           0,
           "2652",
           7.2292,
           null,
           "C",
           "1913-01-27T00:00:00"
          ],
          [
           1185,
           0,
           1,
           "Dodge, Dr. Washington",
           1,
           1,
           "33638",
           81.8583,
           "A34",
           "S",
           "1913-01-28T00:00:00"
          ],
          [
           1186,
           0,
           3,
           "Wittevrongel, Mr. Camille",
           0,
           0,
           "345771",
           9.5,
           null,
           "S",
           "1913-01-29T00:00:00"
          ],
          [
           1187,
           0,
           3,
           "Angheloff, Mr. Minko",
           0,
           0,
           "349202",
           7.8958,
           null,
           "S",
           "1913-01-30T00:00:00"
          ],
          [
           1189,
           0,
           3,
           "Samaan, Mr. Hanna",
           2,
           0,
           "2662",
           21.6792,
           null,
           "C",
           "1913-02-01T00:00:00"
          ],
          [
           1190,
           0,
           1,
           "Loring, Mr. Joseph Holland",
           0,
           0,
           "113801",
           45.5,
           null,
           "S",
           "1913-02-02T00:00:00"
          ],
          [
           1191,
           0,
           3,
           "Johansson, Mr. Nils",
           0,
           0,
           "347467",
           7.8542,
           null,
           "S",
           "1913-02-03T00:00:00"
          ],
          [
           1192,
           0,
           3,
           "Olsson, Mr. Oscar Wilhelm",
           0,
           0,
           "347079",
           7.775,
           null,
           "S",
           "1913-02-04T00:00:00"
          ],
          [
           1193,
           0,
           2,
           "Malachard, Mr. Noel",
           0,
           0,
           "237735",
           15.0458,
           "D",
           "C",
           "1913-02-05T00:00:00"
          ],
          [
           1194,
           0,
           2,
           "Phillips, Mr. Escott Robert",
           0,
           1,
           "S.O./P.P. 2",
           21,
           null,
           "S",
           "1913-02-06T00:00:00"
          ],
          [
           1195,
           0,
           3,
           "Pokrnic, Mr. Tome",
           0,
           0,
           "315092",
           8.6625,
           null,
           "S",
           "1913-02-07T00:00:00"
          ],
          [
           1198,
           0,
           1,
           "Allison, Mr. Hudson Joshua Creighton",
           1,
           2,
           "113781",
           151.55,
           "C22 C26",
           "S",
           "1913-02-10T00:00:00"
          ],
          [
           1199,
           0,
           3,
           "Aks, Master. Philip Frank",
           0,
           1,
           "392091",
           9.35,
           null,
           "S",
           "1913-02-11T00:00:00"
          ],
          [
           1200,
           0,
           1,
           "Hays, Mr. Charles Melville",
           1,
           1,
           "12749",
           93.5,
           "B69",
           "S",
           "1913-02-12T00:00:00"
          ],
          [
           1202,
           0,
           3,
           "Cacic, Mr. Jego Grga",
           0,
           0,
           "315091",
           8.6625,
           null,
           "S",
           "1913-02-14T00:00:00"
          ],
          [
           1203,
           0,
           3,
           "Vartanian, Mr. David",
           0,
           0,
           "2658",
           7.225,
           null,
           "C",
           "1913-02-15T00:00:00"
          ],
          [
           1204,
           0,
           3,
           "Sadowitz, Mr. Harry",
           0,
           0,
           "LP 1588",
           7.575,
           null,
           "S",
           "1913-02-16T00:00:00"
          ],
          [
           1208,
           0,
           1,
           "Spencer, Mr. William Augustus",
           1,
           0,
           "PC 17569",
           146.5208,
           "B78",
           "C",
           "1913-02-20T00:00:00"
          ],
          [
           1209,
           0,
           2,
           "Rogers, Mr. Reginald Harry",
           0,
           0,
           "28004",
           10.5,
           null,
           "S",
           "1913-02-21T00:00:00"
          ],
          [
           1210,
           0,
           3,
           "Jonsson, Mr. Nils Hilding",
           0,
           0,
           "350408",
           7.8542,
           null,
           "S",
           "1913-02-22T00:00:00"
          ],
          [
           1211,
           0,
           2,
           "Jefferys, Mr. Ernest Wilfred",
           2,
           0,
           "C.A. 31029",
           31.5,
           null,
           "S",
           "1913-02-23T00:00:00"
          ],
          [
           1212,
           0,
           3,
           "Andersson, Mr. Johan Samuel",
           0,
           0,
           "347075",
           7.775,
           null,
           "S",
           "1913-02-24T00:00:00"
          ],
          [
           1213,
           0,
           3,
           "Krekorian, Mr. Neshan",
           0,
           0,
           "2654",
           7.2292,
           "F E57",
           "C",
           "1913-02-25T00:00:00"
          ],
          [
           1214,
           0,
           2,
           "Nesson, Mr. Israel",
           0,
           0,
           "244368",
           13,
           "F2",
           "S",
           "1913-02-26T00:00:00"
          ],
          [
           1215,
           0,
           1,
           "Rowe, Mr. Alfred G",
           0,
           0,
           "113790",
           26.55,
           null,
           "S",
           "1913-02-27T00:00:00"
          ],
          [
           1217,
           0,
           3,
           "Assam, Mr. Ali",
           0,
           0,
           "SOTON/O.Q. 3101309",
           7.05,
           null,
           "S",
           "1913-03-01T00:00:00"
          ],
          [
           1219,
           0,
           1,
           "Rosenshine, Mr. George (Mr George Thorne\")\"",
           0,
           0,
           "PC 17585",
           79.2,
           null,
           "C",
           "1913-03-03T00:00:00"
          ],
          [
           1220,
           0,
           2,
           "Clarke, Mr. Charles Valentine",
           1,
           0,
           "2003",
           26,
           null,
           "S",
           "1913-03-04T00:00:00"
          ],
          [
           1221,
           0,
           2,
           "Enander, Mr. Ingvar",
           0,
           0,
           "236854",
           13,
           null,
           "S",
           "1913-03-05T00:00:00"
          ],
          [
           1223,
           0,
           1,
           "Dulles, Mr. William Crothers",
           0,
           0,
           "PC 17580",
           29.7,
           "A18",
           "C",
           "1913-03-07T00:00:00"
          ],
          [
           1224,
           0,
           3,
           "Thomas, Mr. Tannous",
           0,
           0,
           "2684",
           7.225,
           null,
           "C",
           "1913-03-08T00:00:00"
          ],
          [
           1226,
           0,
           3,
           "Cor, Mr. Ivan",
           0,
           0,
           "349229",
           7.8958,
           null,
           "S",
           "1913-03-10T00:00:00"
          ],
          [
           1227,
           0,
           1,
           "Maguire, Mr. John Edward",
           0,
           0,
           "110469",
           26,
           "C106",
           "S",
           "1913-03-11T00:00:00"
          ],
          [
           1228,
           0,
           2,
           "de Brito, Mr. Jose Joaquim",
           0,
           0,
           "244360",
           13,
           null,
           "S",
           "1913-03-12T00:00:00"
          ],
          [
           1229,
           0,
           3,
           "Elias, Mr. Joseph",
           0,
           2,
           "2675",
           7.2292,
           null,
           "C",
           "1913-03-13T00:00:00"
          ],
          [
           1230,
           0,
           2,
           "Denbury, Mr. Herbert",
           0,
           0,
           "C.A. 31029",
           31.5,
           null,
           "S",
           "1913-03-14T00:00:00"
          ],
          [
           1231,
           0,
           3,
           "Betros, Master. Seman",
           0,
           0,
           "2622",
           7.2292,
           null,
           "C",
           "1913-03-15T00:00:00"
          ],
          [
           1232,
           0,
           2,
           "Fillbrook, Mr. Joseph Charles",
           0,
           0,
           "C.A. 15185",
           10.5,
           null,
           "S",
           "1913-03-16T00:00:00"
          ],
          [
           1233,
           0,
           3,
           "Lundstrom, Mr. Thure Edvin",
           0,
           0,
           "350403",
           7.5792,
           null,
           "S",
           "1913-03-17T00:00:00"
          ],
          [
           1234,
           0,
           3,
           "Sage, Mr. John George",
           1,
           9,
           "CA. 2343",
           69.55,
           null,
           "S",
           "1913-03-18T00:00:00"
          ],
          [
           1236,
           0,
           3,
           "van Billiard, Master. James William",
           1,
           1,
           "A/5. 851",
           14.5,
           null,
           "S",
           "1913-03-20T00:00:00"
          ],
          [
           1238,
           0,
           2,
           "Botsford, Mr. William Hull",
           0,
           0,
           "237670",
           13,
           null,
           "S",
           "1913-03-22T00:00:00"
          ],
          [
           1240,
           0,
           2,
           "Giles, Mr. Ralph",
           0,
           0,
           "248726",
           13.5,
           null,
           "S",
           "1913-03-24T00:00:00"
          ],
          [
           1243,
           0,
           2,
           "Stokes, Mr. Philip Joseph",
           0,
           0,
           "F.C.C. 13540",
           10.5,
           null,
           "S",
           "1913-03-27T00:00:00"
          ],
          [
           1244,
           0,
           2,
           "Dibden, Mr. William",
           0,
           0,
           "S.O.C. 14879",
           73.5,
           null,
           "S",
           "1913-03-28T00:00:00"
          ],
          [
           1245,
           0,
           2,
           "Herman, Mr. Samuel",
           1,
           2,
           "220845",
           65,
           null,
           "S",
           "1913-03-29T00:00:00"
          ],
          [
           1247,
           0,
           1,
           "Julian, Mr. Henry Forbes",
           0,
           0,
           "113044",
           26,
           "E60",
           "S",
           "1913-03-31T00:00:00"
          ],
          [
           1249,
           0,
           3,
           "Lockyer, Mr. Edward",
           0,
           0,
           "1222",
           7.8792,
           null,
           "S",
           "1913-04-02T00:00:00"
          ],
          [
           1250,
           0,
           3,
           "O'Keefe, Mr. Patrick",
           0,
           0,
           "368402",
           7.75,
           null,
           "Q",
           "1913-04-03T00:00:00"
          ],
          [
           1252,
           0,
           3,
           "Sage, Master. William Henry",
           8,
           2,
           "CA. 2343",
           69.55,
           null,
           "S",
           "1913-04-05T00:00:00"
          ],
          [
           1255,
           0,
           3,
           "Strilic, Mr. Ivan",
           0,
           0,
           "315083",
           8.6625,
           null,
           "S",
           "1913-04-08T00:00:00"
          ],
          [
           1258,
           0,
           3,
           "Caram, Mr. Joseph",
           1,
           0,
           "2689",
           14.4583,
           null,
           "C",
           "1913-04-11T00:00:00"
          ],
          [
           1261,
           0,
           2,
           "Pallas y Castello, Mr. Emilio",
           0,
           0,
           "SC/PARIS 2147",
           13.8583,
           null,
           "C",
           "1913-04-14T00:00:00"
          ],
          [
           1262,
           0,
           2,
           "Giles, Mr. Edgar",
           1,
           0,
           "28133",
           11.5,
           null,
           "S",
           "1913-04-15T00:00:00"
          ],
          [
           1264,
           0,
           1,
           "Ismay, Mr. Joseph Bruce",
           0,
           0,
           "112058",
           0,
           "B52 B54 B56",
           "S",
           "1913-04-17T00:00:00"
          ],
          [
           1265,
           0,
           2,
           "Harbeck, Mr. William H",
           0,
           0,
           "248746",
           13,
           null,
           "S",
           "1913-04-18T00:00:00"
          ],
          [
           1269,
           0,
           2,
           "Cotterill, Mr. Henry Harry\"\"",
           0,
           0,
           "29107",
           11.5,
           null,
           "S",
           "1913-04-22T00:00:00"
          ],
          [
           1270,
           0,
           1,
           "Hipkins, Mr. William Edward",
           0,
           0,
           "680",
           50,
           "C39",
           "S",
           "1913-04-23T00:00:00"
          ],
          [
           1271,
           0,
           3,
           "Asplund, Master. Carl Edgar",
           4,
           2,
           "347077",
           31.3875,
           null,
           "S",
           "1913-04-24T00:00:00"
          ],
          [
           1272,
           0,
           3,
           "O'Connor, Mr. Patrick",
           0,
           0,
           "366713",
           7.75,
           null,
           "Q",
           "1913-04-25T00:00:00"
          ],
          [
           1273,
           0,
           3,
           "Foley, Mr. Joseph",
           0,
           0,
           "330910",
           7.8792,
           null,
           "Q",
           "1913-04-26T00:00:00"
          ],
          [
           1276,
           0,
           2,
           "Wheeler, Mr. Edwin Frederick\"\"",
           0,
           0,
           "SC/PARIS 2159",
           12.875,
           null,
           "S",
           "1913-04-29T00:00:00"
          ],
          [
           1278,
           0,
           3,
           "Aronsson, Mr. Ernst Axel Algot",
           0,
           0,
           "349911",
           7.775,
           null,
           "S",
           "1913-05-01T00:00:00"
          ],
          [
           1279,
           0,
           2,
           "Ashby, Mr. John",
           0,
           0,
           "244346",
           13,
           null,
           "S",
           "1913-05-02T00:00:00"
          ],
          [
           1280,
           0,
           3,
           "Canavan, Mr. Patrick",
           0,
           0,
           "364858",
           7.75,
           null,
           "Q",
           "1913-05-03T00:00:00"
          ],
          [
           1281,
           0,
           3,
           "Palsson, Master. Paul Folke",
           3,
           1,
           "349909",
           21.075,
           null,
           "S",
           "1913-05-04T00:00:00"
          ],
          [
           1282,
           0,
           1,
           "Payne, Mr. Vivian Ponsonby",
           0,
           0,
           "12749",
           93.5,
           "B24",
           "S",
           "1913-05-05T00:00:00"
          ],
          [
           1284,
           0,
           3,
           "Abbott, Master. Eugene Joseph",
           0,
           2,
           "C.A. 2673",
           20.25,
           null,
           "S",
           "1913-05-07T00:00:00"
          ],
          [
           1285,
           0,
           2,
           "Gilbert, Mr. William",
           0,
           0,
           "C.A. 30769",
           10.5,
           null,
           "S",
           "1913-05-08T00:00:00"
          ],
          [
           1286,
           0,
           3,
           "Kink-Heilmann, Mr. Anton",
           3,
           1,
           "315153",
           22.025,
           null,
           "S",
           "1913-05-09T00:00:00"
          ],
          [
           1288,
           0,
           3,
           "Colbert, Mr. Patrick",
           0,
           0,
           "371109",
           7.25,
           null,
           "Q",
           "1913-05-11T00:00:00"
          ],
          [
           1290,
           0,
           3,
           "Larsson-Rondberg, Mr. Edvard A",
           0,
           0,
           "347065",
           7.775,
           null,
           "S",
           "1913-05-13T00:00:00"
          ],
          [
           1291,
           0,
           3,
           "Conlon, Mr. Thomas Henry",
           0,
           0,
           "21332",
           7.7333,
           null,
           "Q",
           "1913-05-14T00:00:00"
          ],
          [
           1293,
           0,
           2,
           "Gale, Mr. Harry",
           1,
           0,
           "28664",
           21,
           null,
           "S",
           "1913-05-16T00:00:00"
          ],
          [
           1295,
           0,
           1,
           "Carrau, Mr. Jose Pedro",
           0,
           0,
           "113059",
           47.1,
           null,
           "S",
           "1913-05-18T00:00:00"
          ],
          [
           1296,
           0,
           1,
           "Frauenthal, Mr. Isaac Gerald",
           1,
           0,
           "17765",
           27.7208,
           "D40",
           "C",
           "1913-05-19T00:00:00"
          ],
          [
           1297,
           0,
           2,
           "Nourney, Mr. Alfred (Baron von Drachstedt\")\"",
           0,
           0,
           "SC/PARIS 2166",
           13.8625,
           "D38",
           "C",
           "1913-05-20T00:00:00"
          ],
          [
           1298,
           0,
           2,
           "Ware, Mr. William Jeffery",
           1,
           0,
           "28666",
           10.5,
           null,
           "S",
           "1913-05-21T00:00:00"
          ],
          [
           1299,
           0,
           1,
           "Widener, Mr. George Dunton",
           1,
           1,
           "113503",
           211.5,
           "C80",
           "C",
           "1913-05-22T00:00:00"
          ],
          [
           1305,
           0,
           3,
           "Spector, Mr. Woolf",
           0,
           0,
           "A.5. 3236",
           8.05,
           null,
           "S",
           "1913-05-28T00:00:00"
          ],
          [
           1307,
           0,
           3,
           "Saether, Mr. Simon Sivertsen",
           0,
           0,
           "SOTON/O.Q. 3101262",
           7.25,
           null,
           "S",
           "1913-05-30T00:00:00"
          ],
          [
           1308,
           0,
           3,
           "Ware, Mr. Frederick",
           0,
           0,
           "359309",
           8.05,
           null,
           "S",
           "1913-05-31T00:00:00"
          ],
          [
           1309,
           0,
           3,
           "Peter, Master. Michael J",
           1,
           1,
           "2668",
           22.3583,
           null,
           "C",
           "1913-06-01T00:00:00"
          ]
         ],
         "hovertemplate": "Survived=%{customdata[1]}<br>Sex=%{x}<br>Age=%{y}<br>PassengerId=%{customdata[0]}<br>Pclass=%{customdata[2]}<br>Name=%{customdata[3]}<br>SibSp=%{customdata[4]}<br>Parch=%{customdata[5]}<br>Ticket=%{customdata[6]}<br>Fare=%{customdata[7]}<br>Cabin=%{customdata[8]}<br>Embarked=%{customdata[9]}<br>Date=%{customdata[10]}<extra></extra>",
         "legendgroup": "0",
         "marker": {
          "color": "#636efa"
         },
         "name": "0",
         "offsetgroup": "0",
         "orientation": "v",
         "points": "all",
         "scalegroup": "True",
         "showlegend": true,
         "type": "violin",
         "x": [
          "male",
          "male",
          "male",
          "male",
          "male",
          "male",
          "male",
          "male",
          "male",
          "male",
          "male",
          "male",
          "male",
          "male",
          "male",
          "male",
          "male",
          "male",
          "male",
          "male",
          "male",
          "male",
          "male",
          "male",
          "male",
          "male",
          "male",
          "male",
          "male",
          "male",
          "male",
          "male",
          "male",
          "male",
          "male",
          "male",
          "male",
          "male",
          "male",
          "male",
          "male",
          "male",
          "male",
          "male",
          "male",
          "male",
          "male",
          "male",
          "male",
          "male",
          "male",
          "male",
          "male",
          "male",
          "male",
          "male",
          "male",
          "male",
          "male",
          "male",
          "male",
          "male",
          "male",
          "male",
          "male",
          "male",
          "male",
          "male",
          "male",
          "male",
          "male",
          "male",
          "male",
          "male",
          "male",
          "male",
          "male",
          "male",
          "male",
          "male",
          "male",
          "male",
          "male",
          "male",
          "male",
          "male",
          "male",
          "male",
          "male",
          "male",
          "male",
          "male",
          "male",
          "male",
          "male",
          "male",
          "male",
          "male",
          "male",
          "male",
          "male",
          "male",
          "male",
          "male",
          "male",
          "male",
          "male",
          "male",
          "male",
          "male",
          "male",
          "male",
          "male",
          "male",
          "male",
          "male",
          "male",
          "male",
          "male",
          "male",
          "male",
          "male",
          "male",
          "male",
          "male",
          "male",
          "male",
          "male",
          "male",
          "male",
          "male",
          "male",
          "male",
          "male",
          "male",
          "male",
          "male",
          "male",
          "male",
          "male",
          "male",
          "male",
          "male",
          "male",
          "male",
          "male",
          "male",
          "male",
          "male",
          "male",
          "male",
          "male",
          "male",
          "male",
          "male",
          "male",
          "male",
          "male",
          "male",
          "male",
          "male",
          "male",
          "male",
          "male",
          "male",
          "male",
          "male",
          "male",
          "male",
          "male",
          "male",
          "male",
          "male",
          "male",
          "male",
          "male",
          "male",
          "male",
          "male",
          "male",
          "male",
          "male",
          "male",
          "male",
          "male",
          "male",
          "male",
          "male",
          "male",
          "male",
          "male",
          "male",
          "male",
          "male",
          "male",
          "male",
          "male",
          "male",
          "male",
          "male",
          "male",
          "male",
          "male",
          "male",
          "male",
          "male",
          "male",
          "male",
          "male",
          "male",
          "male",
          "male",
          "male",
          "male",
          "male",
          "male",
          "male",
          "male",
          "male",
          "male",
          "male",
          "male",
          "male",
          "male",
          "male",
          "male",
          "male",
          "male",
          "male",
          "male",
          "male",
          "male",
          "male",
          "male",
          "male",
          "male",
          "male",
          "male",
          "male",
          "male",
          "male",
          "male",
          "male",
          "male",
          "male",
          "male",
          "male",
          "male",
          "male",
          "male",
          "male",
          "male",
          "male",
          "male",
          "male",
          "male",
          "male",
          "male",
          "male",
          "male",
          "male",
          "male",
          "male",
          "male",
          "male",
          "male"
         ],
         "x0": " ",
         "xaxis": "x",
         "y": {
          "bdata": "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",
          "dtype": "f8"
         },
         "y0": " ",
         "yaxis": "y"
        },
        {
         "alignmentgroup": "True",
         "box": {
          "visible": true
         },
         "customdata": [
          [
           893,
           1,
           3,
           "Wilkes, Mrs. James (Ellen Needs)",
           1,
           0,
           "363272",
           7,
           null,
           "S",
           "1912-04-11T00:00:00"
          ],
          [
           896,
           1,
           3,
           "Hirvonen, Mrs. Alexander (Helga E Lindqvist)",
           1,
           1,
           "3101298",
           12.2875,
           null,
           "S",
           "1912-04-14T00:00:00"
          ],
          [
           898,
           1,
           3,
           "Connolly, Miss. Kate",
           0,
           0,
           "330972",
           7.6292,
           null,
           "Q",
           "1912-04-16T00:00:00"
          ],
          [
           900,
           1,
           3,
           "Abrahim, Mrs. Joseph (Sophie Halaut Easu)",
           0,
           0,
           "2657",
           7.2292,
           null,
           "C",
           "1912-04-18T00:00:00"
          ],
          [
           904,
           1,
           1,
           "Snyder, Mrs. John Pillsbury (Nelle Stevenson)",
           1,
           0,
           "21228",
           82.2667,
           "B45",
           "S",
           "1912-04-22T00:00:00"
          ],
          [
           906,
           1,
           1,
           "Chaffee, Mrs. Herbert Fuller (Carrie Constance Toogood)",
           1,
           0,
           "W.E.P. 5734",
           61.175,
           "E31",
           "S",
           "1912-04-24T00:00:00"
          ],
          [
           907,
           1,
           2,
           "del Carlo, Mrs. Sebastiano (Argenia Genovesi)",
           1,
           0,
           "SC/PARIS 2167",
           27.7208,
           null,
           "C",
           "1912-04-25T00:00:00"
          ],
          [
           910,
           1,
           3,
           "Ilmakangas, Miss. Ida Livija",
           1,
           0,
           "STON/O2. 3101270",
           7.925,
           null,
           "S",
           "1912-04-28T00:00:00"
          ],
          [
           911,
           1,
           3,
           "Assaf Khalil, Mrs. Mariana (Miriam\")\"",
           0,
           0,
           "2696",
           7.225,
           null,
           "C",
           "1912-04-29T00:00:00"
          ],
          [
           914,
           1,
           1,
           "Flegenheim, Mrs. Alfred (Antoinette)",
           0,
           0,
           "PC 17598",
           31.6833,
           null,
           "S",
           "1912-05-02T00:00:00"
          ],
          [
           916,
           1,
           1,
           "Ryerson, Mrs. Arthur Larned (Emily Maria Borie)",
           1,
           3,
           "PC 17608",
           262.375,
           "B57 B59 B63 B66",
           "C",
           "1912-05-04T00:00:00"
          ],
          [
           918,
           1,
           1,
           "Ostby, Miss. Helene Ragnhild",
           0,
           1,
           "113509",
           61.9792,
           "B36",
           "C",
           "1912-05-06T00:00:00"
          ],
          [
           924,
           1,
           3,
           "Dean, Mrs. Bertram (Eva Georgetta Light)",
           1,
           2,
           "C.A. 2315",
           20.575,
           null,
           "S",
           "1912-05-12T00:00:00"
          ],
          [
           925,
           1,
           3,
           "Johnston, Mrs. Andrew G (Elizabeth Lily\" Watson)\"",
           1,
           2,
           "W./C. 6607",
           23.45,
           null,
           "S",
           "1912-05-13T00:00:00"
          ],
          [
           928,
           1,
           3,
           "Roth, Miss. Sarah A",
           0,
           0,
           "342712",
           8.05,
           null,
           "S",
           "1912-05-16T00:00:00"
          ],
          [
           929,
           1,
           3,
           "Cacic, Miss. Manda",
           0,
           0,
           "315087",
           8.6625,
           null,
           "S",
           "1912-05-17T00:00:00"
          ],
          [
           935,
           1,
           2,
           "Corbett, Mrs. Walter H (Irene Colvin)",
           0,
           0,
           "237249",
           13,
           null,
           "S",
           "1912-05-23T00:00:00"
          ],
          [
           936,
           1,
           1,
           "Kimball, Mrs. Edwin Nelson Jr (Gertrude Parsons)",
           1,
           0,
           "11753",
           52.5542,
           "D19",
           "S",
           "1912-05-24T00:00:00"
          ],
          [
           940,
           1,
           1,
           "Bucknell, Mrs. William Robert (Emma Eliza Ward)",
           0,
           0,
           "11813",
           76.2917,
           "D15",
           "C",
           "1912-05-28T00:00:00"
          ],
          [
           941,
           1,
           3,
           "Coutts, Mrs. William (Winnie Minnie\" Treanor)\"",
           0,
           2,
           "C.A. 37671",
           15.9,
           null,
           "S",
           "1912-05-29T00:00:00"
          ],
          [
           944,
           1,
           2,
           "Hocking, Miss. Ellen Nellie\"\"",
           2,
           1,
           "29105",
           23,
           null,
           "S",
           "1912-06-01T00:00:00"
          ],
          [
           945,
           1,
           1,
           "Fortune, Miss. Ethel Flora",
           3,
           2,
           "19950",
           263,
           "C23 C25 C27",
           "S",
           "1912-06-02T00:00:00"
          ],
          [
           951,
           1,
           1,
           "Chaudanson, Miss. Victorine",
           0,
           0,
           "PC 17608",
           262.375,
           "B61",
           "C",
           "1912-06-08T00:00:00"
          ],
          [
           955,
           1,
           3,
           "Bradley, Miss. Bridget Delia",
           0,
           0,
           "334914",
           7.725,
           null,
           "Q",
           "1912-06-12T00:00:00"
          ],
          [
           957,
           1,
           2,
           "Corey, Mrs. Percy C (Mary Phyllis Elizabeth Miller)",
           0,
           0,
           "F.C.C. 13534",
           21,
           null,
           "S",
           "1912-06-14T00:00:00"
          ],
          [
           958,
           1,
           3,
           "Burns, Miss. Mary Delia",
           0,
           0,
           "330963",
           7.8792,
           null,
           "Q",
           "1912-06-15T00:00:00"
          ],
          [
           961,
           1,
           1,
           "Fortune, Mrs. Mark (Mary McDougald)",
           1,
           4,
           "19950",
           263,
           "C23 C25 C27",
           "S",
           "1912-06-18T00:00:00"
          ],
          [
           962,
           1,
           3,
           "Mulvihill, Miss. Bertha E",
           0,
           0,
           "382653",
           7.75,
           null,
           "Q",
           "1912-06-19T00:00:00"
          ],
          [
           964,
           1,
           3,
           "Nieminen, Miss. Manta Josefina",
           0,
           0,
           "3101297",
           7.925,
           null,
           "S",
           "1912-06-21T00:00:00"
          ],
          [
           966,
           1,
           1,
           "Geiger, Miss. Amalie",
           0,
           0,
           "113503",
           211.5,
           "C130",
           "C",
           "1912-06-23T00:00:00"
          ],
          [
           969,
           1,
           1,
           "Cornell, Mrs. Robert Clifford (Malvina Helen Lamson)",
           2,
           0,
           "11770",
           25.7,
           "C101",
           "S",
           "1912-06-26T00:00:00"
          ],
          [
           971,
           1,
           3,
           "Doyle, Miss. Elizabeth",
           0,
           0,
           "368702",
           7.75,
           null,
           "Q",
           "1912-06-28T00:00:00"
          ],
          [
           978,
           1,
           3,
           "Barry, Miss. Julia",
           0,
           0,
           "330844",
           7.8792,
           null,
           "Q",
           "1912-07-05T00:00:00"
          ],
          [
           979,
           1,
           3,
           "Badman, Miss. Emily Louisa",
           0,
           0,
           "A/4 31416",
           8.05,
           null,
           "S",
           "1912-07-06T00:00:00"
          ],
          [
           980,
           1,
           3,
           "O'Donoghue, Ms. Bridget",
           0,
           0,
           "364856",
           7.75,
           null,
           "Q",
           "1912-07-07T00:00:00"
          ],
          [
           982,
           1,
           3,
           "Dyker, Mrs. Adolf Fredrik (Anna Elisabeth Judith Andersson)",
           1,
           0,
           "347072",
           13.9,
           null,
           "S",
           "1912-07-09T00:00:00"
          ],
          [
           984,
           1,
           1,
           "Davidson, Mrs. Thornton (Orian Hays)",
           1,
           2,
           "F.C. 12750",
           52,
           "B71",
           "S",
           "1912-07-11T00:00:00"
          ],
          [
           988,
           1,
           1,
           "Cavendish, Mrs. Tyrell William (Julia Florence Siegel)",
           1,
           0,
           "19877",
           78.85,
           "C46",
           "S",
           "1912-07-15T00:00:00"
          ],
          [
           990,
           1,
           3,
           "Braf, Miss. Elin Ester Maria",
           0,
           0,
           "347471",
           7.8542,
           null,
           "S",
           "1912-07-17T00:00:00"
          ],
          [
           992,
           1,
           1,
           "Stengel, Mrs. Charles Emil Henry (Annie May Morris)",
           1,
           0,
           "11778",
           55.4417,
           "C116",
           "C",
           "1912-07-19T00:00:00"
          ],
          [
           996,
           1,
           3,
           "Thomas, Mrs. Alexander (Thamine Thelma\")\"",
           1,
           1,
           "2625",
           8.5167,
           null,
           "C",
           "1912-07-23T00:00:00"
          ],
          [
           1003,
           1,
           3,
           "Shine, Miss. Ellen Natalia",
           0,
           0,
           "330968",
           7.7792,
           null,
           "Q",
           "1912-07-30T00:00:00"
          ],
          [
           1004,
           1,
           1,
           "Evans, Miss. Edith Corse",
           0,
           0,
           "PC 17531",
           31.6792,
           "A29",
           "C",
           "1912-07-31T00:00:00"
          ],
          [
           1005,
           1,
           3,
           "Buckley, Miss. Katherine",
           0,
           0,
           "329944",
           7.2833,
           null,
           "Q",
           "1912-08-01T00:00:00"
          ],
          [
           1006,
           1,
           1,
           "Straus, Mrs. Isidor (Rosalie Ida Blun)",
           1,
           0,
           "PC 17483",
           221.7792,
           "C55 C57",
           "S",
           "1912-08-02T00:00:00"
          ],
          [
           1009,
           1,
           3,
           "Sandstrom, Miss. Beatrice Irene",
           1,
           1,
           "PP 9549",
           16.7,
           "G6",
           "S",
           "1912-08-05T00:00:00"
          ],
          [
           1011,
           1,
           2,
           "Chapman, Mrs. John Henry (Sara Elizabeth Lawry)",
           1,
           0,
           "SC/AH 29037",
           26,
           null,
           "S",
           "1912-08-07T00:00:00"
          ],
          [
           1012,
           1,
           2,
           "Watt, Miss. Bertha J",
           0,
           0,
           "C.A. 33595",
           15.75,
           null,
           "S",
           "1912-08-08T00:00:00"
          ],
          [
           1014,
           1,
           1,
           "Schabert, Mrs. Paul (Emma Mock)",
           1,
           0,
           "13236",
           57.75,
           "C28",
           "C",
           "1912-08-10T00:00:00"
          ],
          [
           1017,
           1,
           3,
           "Cribb, Miss. Laura Alice",
           0,
           1,
           "371362",
           16.1,
           null,
           "S",
           "1912-08-13T00:00:00"
          ],
          [
           1019,
           1,
           3,
           "McCoy, Miss. Alicia",
           2,
           0,
           "367226",
           23.25,
           null,
           "Q",
           "1912-08-15T00:00:00"
          ],
          [
           1024,
           1,
           3,
           "Lefebre, Mrs. Frank (Frances)",
           0,
           4,
           "4133",
           25.4667,
           null,
           "S",
           "1912-08-20T00:00:00"
          ],
          [
           1030,
           1,
           3,
           "Drapkin, Miss. Jennie",
           0,
           0,
           "SOTON/OQ 392083",
           8.05,
           null,
           "S",
           "1912-08-26T00:00:00"
          ],
          [
           1032,
           1,
           3,
           "Goodwin, Miss. Jessie Allis",
           5,
           2,
           "CA 2144",
           46.9,
           null,
           "S",
           "1912-08-28T00:00:00"
          ],
          [
           1033,
           1,
           1,
           "Daniels, Miss. Sarah",
           0,
           0,
           "113781",
           151.55,
           null,
           "S",
           "1912-08-29T00:00:00"
          ],
          [
           1042,
           1,
           1,
           "Earnshaw, Mrs. Boulton (Olive Potter)",
           0,
           1,
           "11767",
           83.1583,
           "C54",
           "C",
           "1912-09-07T00:00:00"
          ],
          [
           1045,
           1,
           3,
           "Klasen, Mrs. (Hulda Kristina Eugenia Lofqvist)",
           0,
           2,
           "350405",
           12.1833,
           null,
           "S",
           "1912-09-10T00:00:00"
          ],
          [
           1048,
           1,
           1,
           "Bird, Miss. Ellen",
           0,
           0,
           "PC 17483",
           221.7792,
           "C97",
           "S",
           "1912-09-13T00:00:00"
          ],
          [
           1049,
           1,
           3,
           "Lundin, Miss. Olga Elida",
           0,
           0,
           "347469",
           7.8542,
           null,
           "S",
           "1912-09-14T00:00:00"
          ],
          [
           1051,
           1,
           3,
           "Peacock, Mrs. Benjamin (Edith Nile)",
           0,
           2,
           "SOTON/O.Q. 3101315",
           13.775,
           null,
           "S",
           "1912-09-16T00:00:00"
          ],
          [
           1052,
           1,
           3,
           "Smyth, Miss. Julia",
           0,
           0,
           "335432",
           7.7333,
           null,
           "Q",
           "1912-09-17T00:00:00"
          ],
          [
           1054,
           1,
           2,
           "Wright, Miss. Marion",
           0,
           0,
           "220844",
           13.5,
           null,
           "S",
           "1912-09-19T00:00:00"
          ],
          [
           1057,
           1,
           3,
           "Kink-Heilmann, Mrs. Anton (Luise Heilmann)",
           1,
           1,
           "315153",
           22.025,
           null,
           "S",
           "1912-09-22T00:00:00"
          ],
          [
           1060,
           1,
           1,
           "Cassebeer, Mrs. Henry Arthur Jr (Eleanor Genevieve Fosdick)",
           0,
           0,
           "17770",
           27.7208,
           null,
           "C",
           "1912-09-25T00:00:00"
          ],
          [
           1061,
           1,
           3,
           "Hellstrom, Miss. Hilda Maria",
           0,
           0,
           "7548",
           8.9625,
           null,
           "S",
           "1912-09-26T00:00:00"
          ],
          [
           1067,
           1,
           2,
           "Brown, Miss. Edith Eileen",
           0,
           2,
           "29750",
           39,
           null,
           "S",
           "1912-10-02T00:00:00"
          ],
          [
           1068,
           1,
           2,
           "Sincock, Miss. Maude",
           0,
           0,
           "C.A. 33112",
           36.75,
           null,
           "S",
           "1912-10-03T00:00:00"
          ],
          [
           1070,
           1,
           2,
           "Becker, Mrs. Allen Oliver (Nellie E Baumgardner)",
           0,
           3,
           "230136",
           39,
           "F4",
           "S",
           "1912-10-05T00:00:00"
          ],
          [
           1071,
           1,
           1,
           "Compton, Mrs. Alexander Taylor (Mary Eliza Ingersoll)",
           0,
           2,
           "PC 17756",
           83.1583,
           "E45",
           "C",
           "1912-10-06T00:00:00"
          ],
          [
           1074,
           1,
           1,
           "Marvin, Mrs. Daniel Warner (Mary Graham Carmichael Farquarson)",
           1,
           0,
           "113773",
           53.1,
           "D30",
           "S",
           "1912-10-09T00:00:00"
          ],
          [
           1076,
           1,
           1,
           "Douglas, Mrs. Frederick Charles (Mary Helene Baxter)",
           1,
           1,
           "PC 17558",
           247.5208,
           "B58 B60",
           "C",
           "1912-10-11T00:00:00"
          ],
          [
           1078,
           1,
           2,
           "Phillips, Miss. Alice Frances Louisa",
           0,
           1,
           "S.O./P.P. 2",
           21,
           null,
           "S",
           "1912-10-13T00:00:00"
          ],
          [
           1080,
           1,
           3,
           "Sage, Miss. Ada",
           8,
           2,
           "CA. 2343",
           69.55,
           null,
           "S",
           "1912-10-15T00:00:00"
          ],
          [
           1089,
           1,
           3,
           "Nilsson, Miss. Berta Olivia",
           0,
           0,
           "347066",
           7.775,
           null,
           "S",
           "1912-10-24T00:00:00"
          ],
          [
           1091,
           1,
           3,
           "Rasmussen, Mrs. (Lena Jacobsen Solvang)",
           0,
           0,
           "65305",
           8.1125,
           null,
           "S",
           "1912-10-26T00:00:00"
          ],
          [
           1092,
           1,
           3,
           "Murphy, Miss. Nora",
           0,
           0,
           "36568",
           15.5,
           null,
           "Q",
           "1912-10-27T00:00:00"
          ],
          [
           1095,
           1,
           2,
           "Quick, Miss. Winifred Vera",
           1,
           1,
           "26360",
           26,
           null,
           "S",
           "1912-10-30T00:00:00"
          ],
          [
           1098,
           1,
           3,
           "McGowan, Miss. Katherine",
           0,
           0,
           "9232",
           7.75,
           null,
           "Q",
           "1912-11-02T00:00:00"
          ],
          [
           1100,
           1,
           1,
           "Rosenbaum, Miss. Edith Louise",
           0,
           0,
           "PC 17613",
           27.7208,
           "A11",
           "C",
           "1912-11-04T00:00:00"
          ],
          [
           1105,
           1,
           2,
           "Howard, Mrs. Benjamin (Ellen Truelove Arman)",
           1,
           0,
           "24065",
           26,
           null,
           "S",
           "1912-11-09T00:00:00"
          ],
          [
           1106,
           1,
           3,
           "Andersson, Miss. Ida Augusta Margareta",
           4,
           2,
           "347091",
           7.775,
           null,
           "S",
           "1912-11-10T00:00:00"
          ],
          [
           1108,
           1,
           3,
           "Mahon, Miss. Bridget Delia",
           0,
           0,
           "330924",
           7.8792,
           null,
           "Q",
           "1912-11-12T00:00:00"
          ],
          [
           1110,
           1,
           1,
           "Widener, Mrs. George Dunton (Eleanor Elkins)",
           1,
           1,
           "113503",
           211.5,
           "C80",
           "C",
           "1912-11-14T00:00:00"
          ],
          [
           1112,
           1,
           2,
           "Duran y More, Miss. Florentina",
           1,
           0,
           "SC/PARIS 2148",
           13.8583,
           null,
           "C",
           "1912-11-16T00:00:00"
          ],
          [
           1114,
           1,
           2,
           "Cook, Mrs. (Selena Rogers)",
           0,
           0,
           "W./C. 14266",
           10.5,
           "F33",
           "S",
           "1912-11-18T00:00:00"
          ],
          [
           1116,
           1,
           1,
           "Candee, Mrs. Edward (Helen Churchill Hungerford)",
           0,
           0,
           "PC 17606",
           27.4458,
           null,
           "C",
           "1912-11-20T00:00:00"
          ],
          [
           1117,
           1,
           3,
           "Moubarek, Mrs. George (Omine Amenia\" Alexander)\"",
           0,
           2,
           "2661",
           15.2458,
           null,
           "C",
           "1912-11-21T00:00:00"
          ],
          [
           1119,
           1,
           3,
           "McNeill, Miss. Bridget",
           0,
           0,
           "370368",
           7.75,
           null,
           "Q",
           "1912-11-23T00:00:00"
          ],
          [
           1123,
           1,
           1,
           "Willard, Miss. Constance",
           0,
           0,
           "113795",
           26.55,
           null,
           "S",
           "1912-11-27T00:00:00"
          ],
          [
           1130,
           1,
           2,
           "Hiltunen, Miss. Marta",
           1,
           1,
           "250650",
           13,
           null,
           "S",
           "1912-12-04T00:00:00"
          ],
          [
           1131,
           1,
           1,
           "Douglas, Mrs. Walter Donald (Mahala Dutton)",
           1,
           0,
           "PC 17761",
           106.425,
           "C86",
           "C",
           "1912-12-05T00:00:00"
          ],
          [
           1132,
           1,
           1,
           "Lindstrom, Mrs. Carl Johan (Sigrid Posse)",
           0,
           0,
           "112377",
           27.7208,
           null,
           "C",
           "1912-12-06T00:00:00"
          ],
          [
           1133,
           1,
           2,
           "Christy, Mrs. (Alice Frances)",
           0,
           2,
           "237789",
           30,
           null,
           "S",
           "1912-12-07T00:00:00"
          ],
          [
           1138,
           1,
           2,
           "Karnes, Mrs. J Frank (Claire Bennett)",
           0,
           0,
           "F.C.C. 13534",
           21,
           null,
           "S",
           "1912-12-12T00:00:00"
          ],
          [
           1140,
           1,
           2,
           "Hold, Mrs. Stephen (Annie Margaret Hill)",
           1,
           0,
           "26707",
           26,
           null,
           "S",
           "1912-12-14T00:00:00"
          ],
          [
           1141,
           1,
           3,
           "Khalil, Mrs. Betros (Zahie Maria\" Elias)\"",
           1,
           0,
           "2660",
           14.4542,
           null,
           "C",
           "1912-12-15T00:00:00"
          ],
          [
           1142,
           1,
           2,
           "West, Miss. Barbara J",
           1,
           2,
           "C.A. 34651",
           27.75,
           null,
           "S",
           "1912-12-16T00:00:00"
          ],
          [
           1150,
           1,
           2,
           "Bentham, Miss. Lilian W",
           0,
           0,
           "28404",
           13,
           null,
           "S",
           "1912-12-24T00:00:00"
          ],
          [
           1154,
           1,
           2,
           "Wells, Mrs. Arthur Henry (Addie\" Dart Trevaskis)\"",
           0,
           2,
           "29103",
           23,
           null,
           "S",
           "1912-12-28T00:00:00"
          ],
          [
           1155,
           1,
           3,
           "Klasen, Miss. Gertrud Emilia",
           1,
           1,
           "350405",
           12.1833,
           null,
           "S",
           "1912-12-29T00:00:00"
          ],
          [
           1160,
           1,
           3,
           "Howard, Miss. May Elizabeth",
           0,
           0,
           "A. 2. 39186",
           8.05,
           null,
           "S",
           "1913-01-03T00:00:00"
          ],
          [
           1164,
           1,
           1,
           "Clark, Mrs. Walter Miller (Virginia McDowell)",
           1,
           0,
           "13508",
           136.7792,
           "C89",
           "C",
           "1913-01-07T00:00:00"
          ],
          [
           1165,
           1,
           3,
           "Lennon, Miss. Mary",
           1,
           0,
           "370371",
           15.5,
           null,
           "Q",
           "1913-01-08T00:00:00"
          ],
          [
           1167,
           1,
           2,
           "Bryhl, Miss. Dagmar Jenny Ingeborg ",
           1,
           0,
           "236853",
           26,
           null,
           "S",
           "1913-01-10T00:00:00"
          ],
          [
           1172,
           1,
           3,
           "Oreskovic, Miss. Jelka",
           0,
           0,
           "315085",
           8.6625,
           null,
           "S",
           "1913-01-15T00:00:00"
          ],
          [
           1174,
           1,
           3,
           "Fleming, Miss. Honora",
           0,
           0,
           "364859",
           7.75,
           null,
           "Q",
           "1913-01-17T00:00:00"
          ],
          [
           1175,
           1,
           3,
           "Touma, Miss. Maria Youssef",
           1,
           1,
           "2650",
           15.2458,
           null,
           "C",
           "1913-01-18T00:00:00"
          ],
          [
           1176,
           1,
           3,
           "Rosblom, Miss. Salli Helena",
           1,
           1,
           "370129",
           20.2125,
           null,
           "S",
           "1913-01-19T00:00:00"
          ],
          [
           1183,
           1,
           3,
           "Daly, Miss. Margaret Marcella Maggie\"\"",
           0,
           0,
           "382650",
           6.95,
           null,
           "Q",
           "1913-01-26T00:00:00"
          ],
          [
           1188,
           1,
           2,
           "Laroche, Miss. Louise",
           1,
           2,
           "SC/Paris 2123",
           41.5792,
           null,
           "C",
           "1913-01-31T00:00:00"
          ],
          [
           1196,
           1,
           3,
           "McCarthy, Miss. Catherine Katie\"\"",
           0,
           0,
           "383123",
           7.75,
           null,
           "Q",
           "1913-02-08T00:00:00"
          ],
          [
           1197,
           1,
           1,
           "Crosby, Mrs. Edward Gifford (Catherine Elizabeth Halstead)",
           1,
           1,
           "112901",
           26.55,
           "B26",
           "S",
           "1913-02-09T00:00:00"
          ],
          [
           1201,
           1,
           3,
           "Hansen, Mrs. Claus Peter (Jennie L Howard)",
           1,
           0,
           "350026",
           14.1083,
           null,
           "S",
           "1913-02-13T00:00:00"
          ],
          [
           1205,
           1,
           3,
           "Carr, Miss. Jeannie",
           0,
           0,
           "368364",
           7.75,
           null,
           "Q",
           "1913-02-17T00:00:00"
          ],
          [
           1206,
           1,
           1,
           "White, Mrs. John Stuart (Ella Holmes)",
           0,
           0,
           "PC 17760",
           135.6333,
           "C32",
           "C",
           "1913-02-18T00:00:00"
          ],
          [
           1207,
           1,
           3,
           "Hagardon, Miss. Kate",
           0,
           0,
           "AQ/3. 30631",
           7.7333,
           null,
           "Q",
           "1913-02-19T00:00:00"
          ],
          [
           1216,
           1,
           1,
           "Kreuchen, Miss. Emilie",
           0,
           0,
           "24160",
           211.3375,
           null,
           "S",
           "1913-02-28T00:00:00"
          ],
          [
           1218,
           1,
           2,
           "Becker, Miss. Ruth Elizabeth",
           2,
           1,
           "230136",
           39,
           "F4",
           "S",
           "1913-03-02T00:00:00"
          ],
          [
           1222,
           1,
           2,
           "Davies, Mrs. John Morgan (Elizabeth Agnes Mary White) ",
           0,
           2,
           "C.A. 33112",
           36.75,
           null,
           "S",
           "1913-03-06T00:00:00"
          ],
          [
           1225,
           1,
           3,
           "Nakid, Mrs. Said (Waika Mary\" Mowad)\"",
           1,
           1,
           "2653",
           15.7417,
           null,
           "C",
           "1913-03-09T00:00:00"
          ],
          [
           1235,
           1,
           1,
           "Cardeza, Mrs. James Warburton Martinez (Charlotte Wardle Drake)",
           0,
           1,
           "PC 17755",
           512.3292,
           "B51 B53 B55",
           "C",
           "1913-03-19T00:00:00"
          ],
          [
           1237,
           1,
           3,
           "Abelseth, Miss. Karen Marie",
           0,
           0,
           "348125",
           7.65,
           null,
           "S",
           "1913-03-21T00:00:00"
          ],
          [
           1239,
           1,
           3,
           "Whabee, Mrs. George Joseph (Shawneene Abi-Saab)",
           0,
           0,
           "2688",
           7.2292,
           null,
           "C",
           "1913-03-23T00:00:00"
          ],
          [
           1241,
           1,
           2,
           "Walcroft, Miss. Nellie",
           0,
           0,
           "F.C.C. 13528",
           21,
           null,
           "S",
           "1913-03-25T00:00:00"
          ],
          [
           1242,
           1,
           1,
           "Greenfield, Mrs. Leo David (Blanche Strouse)",
           0,
           1,
           "PC 17759",
           63.3583,
           "D10 D12",
           "C",
           "1913-03-26T00:00:00"
          ],
          [
           1246,
           1,
           3,
           "Dean, Miss. Elizabeth Gladys Millvina\"\"",
           1,
           2,
           "C.A. 2315",
           20.575,
           null,
           "S",
           "1913-03-30T00:00:00"
          ],
          [
           1248,
           1,
           1,
           "Brown, Mrs. John Murray (Caroline Lane Lamson)",
           2,
           0,
           "11769",
           51.4792,
           "C101",
           "S",
           "1913-04-01T00:00:00"
          ],
          [
           1251,
           1,
           3,
           "Lindell, Mrs. Edvard Bengtsson (Elin Gerda Persson)",
           1,
           0,
           "349910",
           15.55,
           null,
           "S",
           "1913-04-04T00:00:00"
          ],
          [
           1253,
           1,
           2,
           "Mallet, Mrs. Albert (Antoinette Magnin)",
           1,
           1,
           "S.C./PARIS 2079",
           37.0042,
           null,
           "C",
           "1913-04-06T00:00:00"
          ],
          [
           1254,
           1,
           2,
           "Ware, Mrs. John James (Florence Louise Long)",
           0,
           0,
           "CA 31352",
           21,
           null,
           "S",
           "1913-04-07T00:00:00"
          ],
          [
           1256,
           1,
           1,
           "Harder, Mrs. George Achilles (Dorothy Annan)",
           1,
           0,
           "11765",
           55.4417,
           "E50",
           "C",
           "1913-04-09T00:00:00"
          ],
          [
           1257,
           1,
           3,
           "Sage, Mrs. John (Annie Bullen)",
           1,
           9,
           "CA. 2343",
           69.55,
           null,
           "S",
           "1913-04-10T00:00:00"
          ],
          [
           1259,
           1,
           3,
           "Riihivouri, Miss. Susanna Juhantytar Sanni\"\"",
           0,
           0,
           "3101295",
           39.6875,
           null,
           "S",
           "1913-04-12T00:00:00"
          ],
          [
           1260,
           1,
           1,
           "Gibson, Mrs. Leonard (Pauline C Boeson)",
           0,
           1,
           "112378",
           59.4,
           null,
           "C",
           "1913-04-13T00:00:00"
          ],
          [
           1263,
           1,
           1,
           "Wilson, Miss. Helen Alice",
           0,
           0,
           "16966",
           134.5,
           "E39 E41",
           "C",
           "1913-04-16T00:00:00"
          ],
          [
           1266,
           1,
           1,
           "Dodge, Mrs. Washington (Ruth Vidaver)",
           1,
           1,
           "33638",
           81.8583,
           "A34",
           "S",
           "1913-04-19T00:00:00"
          ],
          [
           1267,
           1,
           1,
           "Bowen, Miss. Grace Scott",
           0,
           0,
           "PC 17608",
           262.375,
           null,
           "C",
           "1913-04-20T00:00:00"
          ],
          [
           1268,
           1,
           3,
           "Kink, Miss. Maria",
           2,
           0,
           "315152",
           8.6625,
           null,
           "S",
           "1913-04-21T00:00:00"
          ],
          [
           1274,
           1,
           3,
           "Risien, Mrs. Samuel (Emma)",
           0,
           0,
           "364498",
           14.5,
           null,
           "S",
           "1913-04-27T00:00:00"
          ],
          [
           1275,
           1,
           3,
           "McNamee, Mrs. Neal (Eileen O'Leary)",
           1,
           0,
           "376566",
           16.1,
           null,
           "S",
           "1913-04-28T00:00:00"
          ],
          [
           1277,
           1,
           2,
           "Herman, Miss. Kate",
           1,
           2,
           "220845",
           65,
           null,
           "S",
           "1913-04-30T00:00:00"
          ],
          [
           1283,
           1,
           1,
           "Lines, Mrs. Ernest H (Elizabeth Lindsey James)",
           0,
           1,
           "PC 17592",
           39.4,
           "D28",
           "S",
           "1913-05-06T00:00:00"
          ],
          [
           1287,
           1,
           1,
           "Smith, Mrs. Lucien Philip (Mary Eloise Hughes)",
           1,
           0,
           "13695",
           60,
           "C31",
           "S",
           "1913-05-10T00:00:00"
          ],
          [
           1289,
           1,
           1,
           "Frolicher-Stehli, Mrs. Maxmillian (Margaretha Emerentia Stehli)",
           1,
           1,
           "13567",
           79.2,
           "B41",
           "C",
           "1913-05-12T00:00:00"
          ],
          [
           1292,
           1,
           1,
           "Bonnell, Miss. Caroline",
           0,
           0,
           "36928",
           164.8667,
           "C7",
           "S",
           "1913-05-15T00:00:00"
          ],
          [
           1294,
           1,
           1,
           "Gibson, Miss. Dorothy Winifred",
           0,
           1,
           "112378",
           59.4,
           null,
           "C",
           "1913-05-17T00:00:00"
          ],
          [
           1300,
           1,
           3,
           "Riordan, Miss. Johanna Hannah\"\"",
           0,
           0,
           "334915",
           7.7208,
           null,
           "Q",
           "1913-05-23T00:00:00"
          ],
          [
           1301,
           1,
           3,
           "Peacock, Miss. Treasteall",
           1,
           1,
           "SOTON/O.Q. 3101315",
           13.775,
           null,
           "S",
           "1913-05-24T00:00:00"
          ],
          [
           1302,
           1,
           3,
           "Naughton, Miss. Hannah",
           0,
           0,
           "365237",
           7.75,
           null,
           "Q",
           "1913-05-25T00:00:00"
          ],
          [
           1303,
           1,
           1,
           "Minahan, Mrs. William Edward (Lillian E Thorpe)",
           1,
           0,
           "19928",
           90,
           "C78",
           "Q",
           "1913-05-26T00:00:00"
          ],
          [
           1304,
           1,
           3,
           "Henriksson, Miss. Jenny Lovisa",
           0,
           0,
           "347086",
           7.775,
           null,
           "S",
           "1913-05-27T00:00:00"
          ],
          [
           1306,
           1,
           1,
           "Oliva y Ocana, Dona. Fermina",
           0,
           0,
           "PC 17758",
           108.9,
           "C105",
           "C",
           "1913-05-29T00:00:00"
          ]
         ],
         "hovertemplate": "Survived=%{customdata[1]}<br>Sex=%{x}<br>Age=%{y}<br>PassengerId=%{customdata[0]}<br>Pclass=%{customdata[2]}<br>Name=%{customdata[3]}<br>SibSp=%{customdata[4]}<br>Parch=%{customdata[5]}<br>Ticket=%{customdata[6]}<br>Fare=%{customdata[7]}<br>Cabin=%{customdata[8]}<br>Embarked=%{customdata[9]}<br>Date=%{customdata[10]}<extra></extra>",
         "legendgroup": "1",
         "marker": {
          "color": "#EF553B"
         },
         "name": "1",
         "offsetgroup": "1",
         "orientation": "v",
         "points": "all",
         "scalegroup": "True",
         "showlegend": true,
         "type": "violin",
         "x": [
          "female",
          "female",
          "female",
          "female",
          "female",
          "female",
          "female",
          "female",
          "female",
          "female",
          "female",
          "female",
          "female",
          "female",
          "female",
          "female",
          "female",
          "female",
          "female",
          "female",
          "female",
          "female",
          "female",
          "female",
          "female",
          "female",
          "female",
          "female",
          "female",
          "female",
          "female",
          "female",
          "female",
          "female",
          "female",
          "female",
          "female",
          "female",
          "female",
          "female",
          "female",
          "female",
          "female",
          "female",
          "female",
          "female",
          "female",
          "female",
          "female",
          "female",
          "female",
          "female",
          "female",
          "female",
          "female",
          "female",
          "female",
          "female",
          "female",
          "female",
          "female",
          "female",
          "female",
          "female",
          "female",
          "female",
          "female",
          "female",
          "female",
          "female",
          "female",
          "female",
          "female",
          "female",
          "female",
          "female",
          "female",
          "female",
          "female",
          "female",
          "female",
          "female",
          "female",
          "female",
          "female",
          "female",
          "female",
          "female",
          "female",
          "female",
          "female",
          "female",
          "female",
          "female",
          "female",
          "female",
          "female",
          "female",
          "female",
          "female",
          "female",
          "female",
          "female",
          "female",
          "female",
          "female",
          "female",
          "female",
          "female",
          "female",
          "female",
          "female",
          "female",
          "female",
          "female",
          "female",
          "female",
          "female",
          "female",
          "female",
          "female",
          "female",
          "female",
          "female",
          "female",
          "female",
          "female",
          "female",
          "female",
          "female",
          "female",
          "female",
          "female",
          "female",
          "female",
          "female",
          "female",
          "female",
          "female",
          "female",
          "female",
          "female",
          "female",
          "female",
          "female",
          "female",
          "female",
          "female",
          "female",
          "female",
          "female",
          "female"
         ],
         "x0": " ",
         "xaxis": "x",
         "y": {
          "bdata": "AAAAAACAR0AAAAAAAAA2QAAAAAAAAD5AAAAAAAAAMkAAAAAAAAA3QAAAAAAAgEdAAAAAAAAAOEAAAAAAAAA7QAAAAAAAgEZAAAAAAAAA+H8AAAAAAABIQAAAAAAAADZAAAAAAACAQEAAAAAAAAD4fwAAAAAAAPh/AAAAAAAANUAAAAAAAAA+QAAAAAAAgEZAAAAAAAAATkAAAAAAAABCQAAAAAAAADRAAAAAAAAAPEAAAAAAAABCQAAAAAAAADZAAAAAAAAA+H8AAAAAAAAyQAAAAAAAAE5AAAAAAAAAOEAAAAAAAAA9QAAAAAAAgEFAAAAAAACAS0AAAAAAAAA4QAAAAAAAADtAAAAAAAAAMkAAAAAAAAD4fwAAAAAAADZAAAAAAAAAO0AAAAAAAABTQAAAAAAAADRAAAAAAACARUAAAAAAAAAwQAAAAAAAAPh/AAAAAAAAQkAAAAAAAIAyQAAAAAAAgE9AAAAAAAAA8D8AAAAAAAA9QAAAAAAAAChAAAAAAACAQUAAAAAAAAAxQAAAAAAAAPh/AAAAAAAA+H8AAAAAAAA3QAAAAAAAACRAAAAAAACAQEAAAAAAAAA3QAAAAAAAAEJAAAAAAAAAPUAAAAAAAAA3QAAAAAAAADpAAAAAAAAA+H8AAAAAAAA6QAAAAAAAADpAAAAAAAAA+H8AAAAAAAA2QAAAAAAAAC5AAAAAAAAANEAAAAAAAABCQAAAAAAAAFBAAAAAAAAAMkAAAAAAAAA7QAAAAAAAADVAAAAAAAAA+H8AAAAAAAAyQAAAAAAAAPh/AAAAAAAA+H8AAAAAAAAgQAAAAAAAgEFAAAAAAACAQEAAAAAAAABOQAAAAAAAAENAAAAAAAAA+H8AAAAAAABJQAAAAAAAAD5AAAAAAAAANkAAAAAAAIBKQAAAAAAAAPh/AAAAAAAA+H8AAAAAAAA1QAAAAAAAADJAAAAAAAAASEAAAAAAAIBLQAAAAAAAgEZAAAAAAAAANkAAAAAAAAA9QAAAAAAAAPh/cT0K16Nw7T8AAAAAAAAzQAAAAAAAAD1AAAAAAAAA8D8AAAAAAAD4fwAAAAAAADpAAAAAAAAA+H8AAAAAAAA0QAAAAAAAADdAAAAAAAAA+H8AAAAAAAAiQAAAAAAAAABAAAAAAAAAPkAAAAAAAADwPwAAAAAAAPh/AAAAAAAAUEAAAAAAAIBGQAAAAAAAgEJAAAAAAACAS0AAAAAAAAAxQAAAAAAAgENAAAAAAAAAKEAAAAAAAABIQAAAAAAAADNAAAAAAAAATUAAAAAAAAAwQAAAAAAAAENAAAAAAAAAP0AAAAAAAIBGQMP1KFyPwsU/AAAAAACATUAAAAAAAAA+QAAAAAAAADhAAAAAAAAAP0AAAAAAAAA5QAAAAAAAAPh/AAAAAAAANkAAAAAAAIBGQAAAAAAAAD9AAAAAAAAAS0AAAAAAAIBGQAAAAAAAADZAAAAAAAAA+H8AAAAAAAAzQAAAAAAAADhAAAAAAACASUAAAAAAAAAyQAAAAAAAAEhAAAAAAAAAPkAAAAAAAAA2QAAAAAAAAPh/AAAAAAAACEAAAAAAAAD4fwAAAAAAgEJAAAAAAAAAPEAAAAAAAIBDQA==",
          "dtype": "f8"
         },
         "y0": " ",
         "yaxis": "y"
        }
       ],
       "layout": {
        "legend": {
         "title": {
          "text": "Survived"
         },
         "tracegroupgap": 0
        },
        "margin": {
         "t": 60
        },
        "template": {
         "data": {
          "bar": [
           {
            "error_x": {
             "color": "#2a3f5f"
            },
            "error_y": {
             "color": "#2a3f5f"
            },
            "marker": {
             "line": {
              "color": "#E5ECF6",
              "width": 0.5
             },
             "pattern": {
              "fillmode": "overlay",
              "size": 10,
              "solidity": 0.2
             }
            },
            "type": "bar"
           }
          ],
          "barpolar": [
           {
            "marker": {
             "line": {
              "color": "#E5ECF6",
              "width": 0.5
             },
             "pattern": {
              "fillmode": "overlay",
              "size": 10,
              "solidity": 0.2
             }
            },
            "type": "barpolar"
           }
          ],
          "carpet": [
           {
            "aaxis": {
             "endlinecolor": "#2a3f5f",
             "gridcolor": "white",
             "linecolor": "white",
             "minorgridcolor": "white",
             "startlinecolor": "#2a3f5f"
            },
            "baxis": {
             "endlinecolor": "#2a3f5f",
             "gridcolor": "white",
             "linecolor": "white",
             "minorgridcolor": "white",
             "startlinecolor": "#2a3f5f"
            },
            "type": "carpet"
           }
          ],
          "choropleth": [
           {
            "colorbar": {
             "outlinewidth": 0,
             "ticks": ""
            },
            "type": "choropleth"
           }
          ],
          "contour": [
           {
            "colorbar": {
             "outlinewidth": 0,
             "ticks": ""
            },
            "colorscale": [
             [
              0,
              "#0d0887"
             ],
             [
              0.1111111111111111,
              "#46039f"
             ],
             [
              0.2222222222222222,
              "#7201a8"
             ],
             [
              0.3333333333333333,
              "#9c179e"
             ],
             [
              0.4444444444444444,
              "#bd3786"
             ],
             [
              0.5555555555555556,
              "#d8576b"
             ],
             [
              0.6666666666666666,
              "#ed7953"
             ],
             [
              0.7777777777777778,
              "#fb9f3a"
             ],
             [
              0.8888888888888888,
              "#fdca26"
             ],
             [
              1,
              "#f0f921"
             ]
            ],
            "type": "contour"
           }
          ],
          "contourcarpet": [
           {
            "colorbar": {
             "outlinewidth": 0,
             "ticks": ""
            },
            "type": "contourcarpet"
           }
          ],
          "heatmap": [
           {
            "colorbar": {
             "outlinewidth": 0,
             "ticks": ""
            },
            "colorscale": [
             [
              0,
              "#0d0887"
             ],
             [
              0.1111111111111111,
              "#46039f"
             ],
             [
              0.2222222222222222,
              "#7201a8"
             ],
             [
              0.3333333333333333,
              "#9c179e"
             ],
             [
              0.4444444444444444,
              "#bd3786"
             ],
             [
              0.5555555555555556,
              "#d8576b"
             ],
             [
              0.6666666666666666,
              "#ed7953"
             ],
             [
              0.7777777777777778,
              "#fb9f3a"
             ],
             [
              0.8888888888888888,
              "#fdca26"
             ],
             [
              1,
              "#f0f921"
             ]
            ],
            "type": "heatmap"
           }
          ],
          "histogram": [
           {
            "marker": {
             "pattern": {
              "fillmode": "overlay",
              "size": 10,
              "solidity": 0.2
             }
            },
            "type": "histogram"
           }
          ],
          "histogram2d": [
           {
            "colorbar": {
             "outlinewidth": 0,
             "ticks": ""
            },
            "colorscale": [
             [
              0,
              "#0d0887"
             ],
             [
              0.1111111111111111,
              "#46039f"
             ],
             [
              0.2222222222222222,
              "#7201a8"
             ],
             [
              0.3333333333333333,
              "#9c179e"
             ],
             [
              0.4444444444444444,
              "#bd3786"
             ],
             [
              0.5555555555555556,
              "#d8576b"
             ],
             [
              0.6666666666666666,
              "#ed7953"
             ],
             [
              0.7777777777777778,
              "#fb9f3a"
             ],
             [
              0.8888888888888888,
              "#fdca26"
             ],
             [
              1,
              "#f0f921"
             ]
            ],
            "type": "histogram2d"
           }
          ],
          "histogram2dcontour": [
           {
            "colorbar": {
             "outlinewidth": 0,
             "ticks": ""
            },
            "colorscale": [
             [
              0,
              "#0d0887"
             ],
             [
              0.1111111111111111,
              "#46039f"
             ],
             [
              0.2222222222222222,
              "#7201a8"
             ],
             [
              0.3333333333333333,
              "#9c179e"
             ],
             [
              0.4444444444444444,
              "#bd3786"
             ],
             [
              0.5555555555555556,
              "#d8576b"
             ],
             [
              0.6666666666666666,
              "#ed7953"
             ],
             [
              0.7777777777777778,
              "#fb9f3a"
             ],
             [
              0.8888888888888888,
              "#fdca26"
             ],
             [
              1,
              "#f0f921"
             ]
            ],
            "type": "histogram2dcontour"
           }
          ],
          "mesh3d": [
           {
            "colorbar": {
             "outlinewidth": 0,
             "ticks": ""
            },
            "type": "mesh3d"
           }
          ],
          "parcoords": [
           {
            "line": {
             "colorbar": {
              "outlinewidth": 0,
              "ticks": ""
             }
            },
            "type": "parcoords"
           }
          ],
          "pie": [
           {
            "automargin": true,
            "type": "pie"
           }
          ],
          "scatter": [
           {
            "fillpattern": {
             "fillmode": "overlay",
             "size": 10,
             "solidity": 0.2
            },
            "type": "scatter"
           }
          ],
          "scatter3d": [
           {
            "line": {
             "colorbar": {
              "outlinewidth": 0,
              "ticks": ""
             }
            },
            "marker": {
             "colorbar": {
              "outlinewidth": 0,
              "ticks": ""
             }
            },
            "type": "scatter3d"
           }
          ],
          "scattercarpet": [
           {
            "marker": {
             "colorbar": {
              "outlinewidth": 0,
              "ticks": ""
             }
            },
            "type": "scattercarpet"
           }
          ],
          "scattergeo": [
           {
            "marker": {
             "colorbar": {
              "outlinewidth": 0,
              "ticks": ""
             }
            },
            "type": "scattergeo"
           }
          ],
          "scattergl": [
           {
            "marker": {
             "colorbar": {
              "outlinewidth": 0,
              "ticks": ""
             }
            },
            "type": "scattergl"
           }
          ],
          "scattermap": [
           {
            "marker": {
             "colorbar": {
              "outlinewidth": 0,
              "ticks": ""
             }
            },
            "type": "scattermap"
           }
          ],
          "scattermapbox": [
           {
            "marker": {
             "colorbar": {
              "outlinewidth": 0,
              "ticks": ""
             }
            },
            "type": "scattermapbox"
           }
          ],
          "scatterpolar": [
           {
            "marker": {
             "colorbar": {
              "outlinewidth": 0,
              "ticks": ""
             }
            },
            "type": "scatterpolar"
           }
          ],
          "scatterpolargl": [
           {
            "marker": {
             "colorbar": {
              "outlinewidth": 0,
              "ticks": ""
             }
            },
            "type": "scatterpolargl"
           }
          ],
          "scatterternary": [
           {
            "marker": {
             "colorbar": {
              "outlinewidth": 0,
              "ticks": ""
             }
            },
            "type": "scatterternary"
           }
          ],
          "surface": [
           {
            "colorbar": {
             "outlinewidth": 0,
             "ticks": ""
            },
            "colorscale": [
             [
              0,
              "#0d0887"
             ],
             [
              0.1111111111111111,
              "#46039f"
             ],
             [
              0.2222222222222222,
              "#7201a8"
             ],
             [
              0.3333333333333333,
              "#9c179e"
             ],
             [
              0.4444444444444444,
              "#bd3786"
             ],
             [
              0.5555555555555556,
              "#d8576b"
             ],
             [
              0.6666666666666666,
              "#ed7953"
             ],
             [
              0.7777777777777778,
              "#fb9f3a"
             ],
             [
              0.8888888888888888,
              "#fdca26"
             ],
             [
              1,
              "#f0f921"
             ]
            ],
            "type": "surface"
           }
          ],
          "table": [
           {
            "cells": {
             "fill": {
              "color": "#EBF0F8"
             },
             "line": {
              "color": "white"
             }
            },
            "header": {
             "fill": {
              "color": "#C8D4E3"
             },
             "line": {
              "color": "white"
             }
            },
            "type": "table"
           }
          ]
         },
         "layout": {
          "annotationdefaults": {
           "arrowcolor": "#2a3f5f",
           "arrowhead": 0,
           "arrowwidth": 1
          },
          "autotypenumbers": "strict",
          "coloraxis": {
           "colorbar": {
            "outlinewidth": 0,
            "ticks": ""
           }
          },
          "colorscale": {
           "diverging": [
            [
             0,
             "#8e0152"
            ],
            [
             0.1,
             "#c51b7d"
            ],
            [
             0.2,
             "#de77ae"
            ],
            [
             0.3,
             "#f1b6da"
            ],
            [
             0.4,
             "#fde0ef"
            ],
            [
             0.5,
             "#f7f7f7"
            ],
            [
             0.6,
             "#e6f5d0"
            ],
            [
             0.7,
             "#b8e186"
            ],
            [
             0.8,
             "#7fbc41"
            ],
            [
             0.9,
             "#4d9221"
            ],
            [
             1,
             "#276419"
            ]
           ],
           "sequential": [
            [
             0,
             "#0d0887"
            ],
            [
             0.1111111111111111,
             "#46039f"
            ],
            [
             0.2222222222222222,
             "#7201a8"
            ],
            [
             0.3333333333333333,
             "#9c179e"
            ],
            [
             0.4444444444444444,
             "#bd3786"
            ],
            [
             0.5555555555555556,
             "#d8576b"
            ],
            [
             0.6666666666666666,
             "#ed7953"
            ],
            [
             0.7777777777777778,
             "#fb9f3a"
            ],
            [
             0.8888888888888888,
             "#fdca26"
            ],
            [
             1,
             "#f0f921"
            ]
           ],
           "sequentialminus": [
            [
             0,
             "#0d0887"
            ],
            [
             0.1111111111111111,
             "#46039f"
            ],
            [
             0.2222222222222222,
             "#7201a8"
            ],
            [
             0.3333333333333333,
             "#9c179e"
            ],
            [
             0.4444444444444444,
             "#bd3786"
            ],
            [
             0.5555555555555556,
             "#d8576b"
            ],
            [
             0.6666666666666666,
             "#ed7953"
            ],
            [
             0.7777777777777778,
             "#fb9f3a"
            ],
            [
             0.8888888888888888,
             "#fdca26"
            ],
            [
             1,
             "#f0f921"
            ]
           ]
          },
          "colorway": [
           "#636efa",
           "#EF553B",
           "#00cc96",
           "#ab63fa",
           "#FFA15A",
           "#19d3f3",
           "#FF6692",
           "#B6E880",
           "#FF97FF",
           "#FECB52"
          ],
          "font": {
           "color": "#2a3f5f"
          },
          "geo": {
           "bgcolor": "white",
           "lakecolor": "white",
           "landcolor": "#E5ECF6",
           "showlakes": true,
           "showland": true,
           "subunitcolor": "white"
          },
          "hoverlabel": {
           "align": "left"
          },
          "hovermode": "closest",
          "mapbox": {
           "style": "light"
          },
          "paper_bgcolor": "white",
          "plot_bgcolor": "#E5ECF6",
          "polar": {
           "angularaxis": {
            "gridcolor": "white",
            "linecolor": "white",
            "ticks": ""
           },
           "bgcolor": "#E5ECF6",
           "radialaxis": {
            "gridcolor": "white",
            "linecolor": "white",
            "ticks": ""
           }
          },
          "scene": {
           "xaxis": {
            "backgroundcolor": "#E5ECF6",
            "gridcolor": "white",
            "gridwidth": 2,
            "linecolor": "white",
            "showbackground": true,
            "ticks": "",
            "zerolinecolor": "white"
           },
           "yaxis": {
            "backgroundcolor": "#E5ECF6",
            "gridcolor": "white",
            "gridwidth": 2,
            "linecolor": "white",
            "showbackground": true,
            "ticks": "",
            "zerolinecolor": "white"
           },
           "zaxis": {
            "backgroundcolor": "#E5ECF6",
            "gridcolor": "white",
            "gridwidth": 2,
            "linecolor": "white",
            "showbackground": true,
            "ticks": "",
            "zerolinecolor": "white"
           }
          },
          "shapedefaults": {
           "line": {
            "color": "#2a3f5f"
           }
          },
          "ternary": {
           "aaxis": {
            "gridcolor": "white",
            "linecolor": "white",
            "ticks": ""
           },
           "baxis": {
            "gridcolor": "white",
            "linecolor": "white",
            "ticks": ""
           },
           "bgcolor": "#E5ECF6",
           "caxis": {
            "gridcolor": "white",
            "linecolor": "white",
            "ticks": ""
           }
          },
          "title": {
           "x": 0.05
          },
          "xaxis": {
           "automargin": true,
           "gridcolor": "white",
           "linecolor": "white",
           "ticks": "",
           "title": {
            "standoff": 15
           },
           "zerolinecolor": "white",
           "zerolinewidth": 2
          },
          "yaxis": {
           "automargin": true,
           "gridcolor": "white",
           "linecolor": "white",
           "ticks": "",
           "title": {
            "standoff": 15
           },
           "zerolinecolor": "white",
           "zerolinewidth": 2
          }
         }
        },
        "title": {
         "text": "Age Distribution by Sex and Survival"
        },
        "violinmode": "group",
        "xaxis": {
         "anchor": "y",
         "domain": [
          0,
          1
         ],
         "title": {
          "text": "Sex"
         }
        },
        "yaxis": {
         "anchor": "x",
         "domain": [
          0,
          1
         ],
         "title": {
          "text": "Age"
         }
        }
       }
      }
     },
     "metadata": {},
     "output_type": "display_data"
    }
   ],
   "source": [
    "fig_violin = px.violin(df_main,x='Sex',y='Age',color='Survived', box=True,points='all',hover_data=df_main.columns,\n",
    ")\n",
    "fig_violin.update_layout(title=\"Age Distribution by Sex and Survival\")\n",
    "fig_violin.show()  \n"
   ]
  },
  {
   "cell_type": "markdown",
   "id": "4d958935",
   "metadata": {},
   "source": [
    "females had significantly higher survival rates across most age groups, especially in younger ages, while males had lower survival probabilities regardless of age."
   ]
  },
  {
   "cell_type": "code",
   "execution_count": 47,
   "id": "4b09c497",
   "metadata": {},
   "outputs": [
    {
     "data": {
      "text/html": [
       "\n",
       "        <iframe\n",
       "            width=\"100%\"\n",
       "            height=\"650\"\n",
       "            src=\"http://127.0.0.1:8051/\"\n",
       "            frameborder=\"0\"\n",
       "            allowfullscreen\n",
       "            \n",
       "        ></iframe>\n",
       "        "
      ],
      "text/plain": [
       "<IPython.lib.display.IFrame at 0x20a8861c980>"
      ]
     },
     "metadata": {},
     "output_type": "display_data"
    }
   ],
   "source": [
    "from dash import Dash, dcc, html\n",
    "import plotly.express as px\n",
    "import pandas as pd\n",
    "\n",
    "fig_violin = px.violin(\n",
    "    df_main,\n",
    "    x='Sex',\n",
    "    y='Age',\n",
    "    color='Survived',\n",
    "    box=True,\n",
    "    points='all',\n",
    "    hover_data=df_main.columns,\n",
    "    color_discrete_sequence=px.colors.qualitative.Set2\n",
    ")\n",
    "fig_violin.update_layout(title=\"Age Distribution by Sex and Survival\")\n",
    "\n",
    "fig_catplot = px.histogram(\n",
    "    df_main,\n",
    "    x=\"Pclass\",\n",
    "    color=\"Survived\",\n",
    "    facet_col=\"Sex\",\n",
    "    barmode=\"group\",\n",
    "    color_discrete_sequence=px.colors.qualitative.Pastel\n",
    ")\n",
    "\n",
    "fig_catplot.update_layout(\n",
    "    title_text=\"Survival Count by Pclass and Gender\",\n",
    "    title_x=0.5\n",
    ")\n",
    "\n",
    "\n",
    "fig_scatterplot = px.scatter(\n",
    "    data_frame=df_main,\n",
    "    x='Age',\n",
    "    y='Fare',\n",
    "    color='Survived',\n",
    "    opacity=0.6,\n",
    "    color_discrete_sequence=px.colors.qualitative.Set1,\n",
    "    hover_data=df_main.columns\n",
    ")\n",
    "fig_scatterplot.update_layout(title=\"Age vs Fare Colored by Survival\")\n",
    "\n",
    "app = Dash(__name__)\n",
    "\n",
    "app.layout = html.Div(\n",
    "    style={\n",
    "        'fontFamily': 'Arial, sans-serif',\n",
    "        'backgroundColor': '#f5f5f5',\n",
    "        'padding': '40px'\n",
    "    },\n",
    "    children=[\n",
    "        html.Div([\n",
    "            html.H1(\n",
    "                \"Titanic Data Visualizations\",\n",
    "                style={\n",
    "                    'textAlign': 'center',\n",
    "                    'color': '#222',\n",
    "                    'marginBottom': '30px'\n",
    "                }\n",
    "            ),\n",
    "\n",
    "            dcc.Graph(\n",
    "                figure=fig_violin,\n",
    "                style={\n",
    "                    'boxShadow': '0 4px 12px rgba(0, 0, 0, 0.1)',\n",
    "                    'borderRadius': '10px',\n",
    "                    'padding': '10px',\n",
    "                    'backgroundColor': 'white',\n",
    "                    'marginBottom': '40px'\n",
    "                }\n",
    "            ),\n",
    "\n",
    "            dcc.Graph(\n",
    "                figure=fig_scatterplot,\n",
    "                style={\n",
    "                    'boxShadow': '0 4px 12px rgba(0, 0, 0, 0.1)',\n",
    "                    'borderRadius': '10px',\n",
    "                    'padding': '10px',\n",
    "                    'backgroundColor': 'white'\n",
    "                }\n",
    "            ),\n",
    "            dcc.Graph(\n",
    "                figure=fig_catplot,\n",
    "                style={\n",
    "                    'boxShadow': '0 4px 12px rgba(0, 0, 0, 0.1)',\n",
    "                    'borderRadius': '10px',\n",
    "                    'padding': '10px',\n",
    "                    'backgroundColor': 'white'\n",
    "                }\n",
    "            )\n",
    "        ], style={\n",
    "            'maxWidth': '1000px',\n",
    "            'margin': '0 auto',\n",
    "            'padding': '20px',\n",
    "            'backgroundColor': '#ffffff',\n",
    "            'borderRadius': '12px',\n",
    "            'boxShadow': '0 6px 18px rgba(0, 0, 0, 0.1)'\n",
    "        })\n",
    "    ]\n",
    ")\n",
    "\n",
    "if __name__ == '__main__':\n",
    "  app.run(debug=True, port=8051)\n"
   ]
  },
  {
   "cell_type": "code",
   "execution_count": null,
   "id": "205a72fb",
   "metadata": {},
   "outputs": [
    {
     "data": {
      "image/png": "[encoded data removed]",
      "text/plain": [
       "<Figure size 640x480 with 2 Axes>"
      ]
     },
     "metadata": {},
     "output_type": "display_data"
    }
   ],
   "source": [
    "pivot = df.pivot_table(values=\"Survived\", index=\"Sex\", columns=\"Pclass\")\n",
    "sns.heatmap(pivot, annot=True, cmap=\"Set1\", fmt=\".2f\")\n",
    "plt.title(\"Survival Rates by Gender and Pclass\")\n",
    "plt.show()\n"
   ]
  },
  {
   "cell_type": "code",
   "execution_count": null,
   "id": "988383f5",
   "metadata": {},
   "outputs": [],
   "source": []
  },
  {
   "cell_type": "code",
   "execution_count": null,
   "id": "da78e422",
   "metadata": {},
   "outputs": [],
   "source": []
  },
  {
   "cell_type": "code",
   "execution_count": null,
   "id": "ebdbe3fc",
   "metadata": {},
   "outputs": [],
   "source": []
  }
 ],
 "metadata": {
  "kernelspec": {
   "display_name": "Python 3",
   "language": "python",
   "name": "python3"
  },
  "language_info": {
   "codemirror_mode": {
    "name": "ipython",
    "version": 3
   },
   "file_extension": ".py",
   "mimetype": "text/x-python",
   "name": "python",
   "nbconvert_exporter": "python",
   "pygments_lexer": "ipython3",
   "version": "3.12.5"
  }
 },
 "nbformat": 4,
 "nbformat_minor": 5
}
